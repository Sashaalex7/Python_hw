{
 "cells": [
  {
   "cell_type": "markdown",
   "metadata": {},
   "source": [
    "1.1"
   ]
  },
  {
   "cell_type": "code",
   "execution_count": 4,
   "metadata": {},
   "outputs": [
    {
     "name": "stdout",
     "output_type": "stream",
     "text": [
      "212\n"
     ]
    }
   ],
   "source": [
    "numbers = [1, 1, 2, 3, 5, 8, 13, 21, 34, 55, 89]\n",
    "sum_number=0\n",
    "for x in numbers:\n",
    "    if x>=10:\n",
    "        sum_number+=x\n",
    "print(sum_number)\n"
   ]
  },
  {
   "cell_type": "markdown",
   "metadata": {},
   "source": [
    "1.2"
   ]
  },
  {
   "cell_type": "code",
   "execution_count": 7,
   "metadata": {},
   "outputs": [
    {
     "name": "stdout",
     "output_type": "stream",
     "text": [
      "jjndsjr\n",
      "kjhr\n",
      "knjbvjr\n"
     ]
    }
   ],
   "source": [
    "strings=['dfsdf', 'jjndsjr', 'kjhr', 'dsda', 'knjbvjr']\n",
    "for r in strings:\n",
    "    if r[-1]=='r':\n",
    "        print(r)"
   ]
  },
  {
   "cell_type": "markdown",
   "metadata": {},
   "source": [
    "1.3"
   ]
  },
  {
   "cell_type": "code",
   "execution_count": 18,
   "metadata": {},
   "outputs": [],
   "source": [
    "import string\n",
    "import random\n",
    "def id_generator(size=6, chars=string.digits):\n",
    "    return ''.join(random.choice(chars+'3') for _ in range(size))"
   ]
  },
  {
   "cell_type": "code",
   "execution_count": 24,
   "metadata": {},
   "outputs": [
    {
     "data": {
      "text/plain": [
       "'438794'"
      ]
     },
     "execution_count": 24,
     "metadata": {},
     "output_type": "execute_result"
    }
   ],
   "source": [
    "id_generator()"
   ]
  },
  {
   "cell_type": "markdown",
   "metadata": {},
   "source": [
    "1.4"
   ]
  },
  {
   "cell_type": "code",
   "execution_count": 41,
   "metadata": {},
   "outputs": [
    {
     "name": "stdout",
     "output_type": "stream",
     "text": [
      "количество знаков   103\n",
      "количество слов   16\n"
     ]
    }
   ],
   "source": [
    "random_string='Пусть дана строка произвольной длины. Выведите информацию о том, сколько в ней символов и сколько слов.'\n",
    "len(random_string)\n",
    "random_string_list = random_string.split()\n",
    "random_string_freq = []\n",
    "for word in random_string_list:\n",
    "    random_string_freq.append(random_string_list.count(word))\n",
    "print('количество знаков',' ', len(random_string))\n",
    "print('количество слов',' ', len(random_string_freq))\n"
   ]
  },
  {
   "cell_type": "markdown",
   "metadata": {},
   "source": [
    "2.1"
   ]
  },
  {
   "cell_type": "code",
   "execution_count": 1,
   "metadata": {},
   "outputs": [],
   "source": [
    "import numpy as np"
   ]
  },
  {
   "cell_type": "code",
   "execution_count": 78,
   "metadata": {},
   "outputs": [
    {
     "name": "stdout",
     "output_type": "stream",
     "text": [
      "4\n",
      "120\n"
     ]
    }
   ],
   "source": [
    "n=int(input())\n",
    "n_n=n*n\n",
    "matr=np.arange(n_n).reshape(n,n)\n",
    "s_matr = 0 \n",
    "for elem in matr.tolist(): \n",
    "    s_matr += sum(elem) \n",
    "print (s_matr)"
   ]
  },
  {
   "cell_type": "markdown",
   "metadata": {},
   "source": [
    "2.2"
   ]
  },
  {
   "cell_type": "code",
   "execution_count": 71,
   "metadata": {},
   "outputs": [
    {
     "name": "stdout",
     "output_type": "stream",
     "text": [
      "4\n",
      "5\n",
      "46\n"
     ]
    }
   ],
   "source": [
    "n=int(input())\n",
    "m=int(input())\n",
    "n_m=n*m\n",
    "matr_n_m=np.arange(n_m).reshape(n,m)   \n",
    "print(sum(matr_n_m[:, np.argmax(matr_n_m.max(axis=0))]))\n"
   ]
  },
  {
   "cell_type": "markdown",
   "metadata": {},
   "source": [
    "3.1"
   ]
  },
  {
   "cell_type": "code",
   "execution_count": null,
   "metadata": {},
   "outputs": [],
   "source": [
    " stud_list=[[1, 'Питонов Архип Елесеевич', 18, 'p-01'],[2, 'Анакондова Есения Арсеньевна', 18, 'p-01'],[3, 'Ар Юлиан Вальдемарович', 17, 'p-01']]"
   ]
  },
  {
   "cell_type": "code",
   "execution_count": 2,
   "metadata": {},
   "outputs": [
    {
     "data": {
      "text/plain": [
       "[[1, 'Питонов Архип Елесеевич', 18, 'p-01'],\n",
       " [2, 'Анакондова Есения Арсеньевна', 18, 'p-01'],\n",
       " [3, 'Ар Юлиан Вальдемарович', 17, 'p-01']]"
      ]
     },
     "execution_count": 2,
     "metadata": {},
     "output_type": "execute_result"
    }
   ],
   "source": [
    "stud_list"
   ]
  },
  {
   "cell_type": "code",
   "execution_count": 3,
   "metadata": {},
   "outputs": [
    {
     "data": {
      "text/plain": [
       "{1: ['Питонов Архип Елесеевич', 18, 'p-01'],\n",
       " 2: ['Анакондова Есения Арсеньевна', 18, 'p-01'],\n",
       " 3: ['Ар Юлиан Вальдемарович', 17, 'p-01']}"
      ]
     },
     "execution_count": 3,
     "metadata": {},
     "output_type": "execute_result"
    }
   ],
   "source": [
    "stud_dict = {}\n",
    "\n",
    "for line in stud_list:\n",
    "    stud_dict.setdefault(line[0], line[1:4])\n",
    "stud_dict"
   ]
  },
  {
   "cell_type": "markdown",
   "metadata": {},
   "source": [
    "3.2"
   ]
  },
  {
   "cell_type": "code",
   "execution_count": null,
   "metadata": {},
   "outputs": [],
   "source": [
    "l_name=str(input())\n",
    "for value in stud_dict.values():\n",
    "    if l_name in value[0]:\n",
    "\n",
    "        print(value[2])"
   ]
  },
  {
   "cell_type": "code",
   "execution_count": null,
   "metadata": {},
   "outputs": [],
   "source": []
  }
 ],
 "metadata": {
  "kernelspec": {
   "display_name": "Python 3",
   "language": "python",
   "name": "python3"
  },
  "language_info": {
   "codemirror_mode": {
    "name": "ipython",
    "version": 3
   },
   "file_extension": ".py",
   "mimetype": "text/x-python",
   "name": "python",
   "nbconvert_exporter": "python",
   "pygments_lexer": "ipython3",
   "version": "3.7.0"
  }
 },
 "nbformat": 4,
 "nbformat_minor": 2
}
