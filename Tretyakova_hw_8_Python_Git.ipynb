{
 "cells": [
  {
   "cell_type": "code",
   "execution_count": 20,
   "metadata": {},
   "outputs": [],
   "source": [
    "from pylab import rcParams\n",
    "rcParams['figure.figsize'] = 12,9\n",
    "import pandas as pd\n",
    "import matplotlib.pyplot as plt\n"
   ]
  },
  {
   "cell_type": "code",
   "execution_count": 23,
   "metadata": {},
   "outputs": [],
   "source": [
    "Pokemon = pd.read_csv('Pokemon.csv')"
   ]
  },
  {
   "cell_type": "code",
   "execution_count": 25,
   "metadata": {},
   "outputs": [],
   "source": [
    "Pokemon.drop(['#'], axis='columns', inplace=True)"
   ]
  },
  {
   "cell_type": "code",
   "execution_count": 26,
   "metadata": {},
   "outputs": [
    {
     "data": {
      "text/html": [
       "<div>\n",
       "<style scoped>\n",
       "    .dataframe tbody tr th:only-of-type {\n",
       "        vertical-align: middle;\n",
       "    }\n",
       "\n",
       "    .dataframe tbody tr th {\n",
       "        vertical-align: top;\n",
       "    }\n",
       "\n",
       "    .dataframe thead th {\n",
       "        text-align: right;\n",
       "    }\n",
       "</style>\n",
       "<table border=\"1\" class=\"dataframe\">\n",
       "  <thead>\n",
       "    <tr style=\"text-align: right;\">\n",
       "      <th></th>\n",
       "      <th>Name</th>\n",
       "      <th>Type 1</th>\n",
       "      <th>Type 2</th>\n",
       "      <th>Total</th>\n",
       "      <th>HP</th>\n",
       "      <th>Attack</th>\n",
       "      <th>Defense</th>\n",
       "      <th>Sp. Atk</th>\n",
       "      <th>Sp. Def</th>\n",
       "      <th>Speed</th>\n",
       "      <th>Generation</th>\n",
       "      <th>Legendary</th>\n",
       "    </tr>\n",
       "  </thead>\n",
       "  <tbody>\n",
       "    <tr>\n",
       "      <th>0</th>\n",
       "      <td>Bulbasaur</td>\n",
       "      <td>Grass</td>\n",
       "      <td>Poison</td>\n",
       "      <td>318</td>\n",
       "      <td>45</td>\n",
       "      <td>49</td>\n",
       "      <td>49</td>\n",
       "      <td>65</td>\n",
       "      <td>65</td>\n",
       "      <td>45</td>\n",
       "      <td>1</td>\n",
       "      <td>False</td>\n",
       "    </tr>\n",
       "    <tr>\n",
       "      <th>1</th>\n",
       "      <td>Ivysaur</td>\n",
       "      <td>Grass</td>\n",
       "      <td>Poison</td>\n",
       "      <td>405</td>\n",
       "      <td>60</td>\n",
       "      <td>62</td>\n",
       "      <td>63</td>\n",
       "      <td>80</td>\n",
       "      <td>80</td>\n",
       "      <td>60</td>\n",
       "      <td>1</td>\n",
       "      <td>False</td>\n",
       "    </tr>\n",
       "    <tr>\n",
       "      <th>2</th>\n",
       "      <td>Venusaur</td>\n",
       "      <td>Grass</td>\n",
       "      <td>Poison</td>\n",
       "      <td>525</td>\n",
       "      <td>80</td>\n",
       "      <td>82</td>\n",
       "      <td>83</td>\n",
       "      <td>100</td>\n",
       "      <td>100</td>\n",
       "      <td>80</td>\n",
       "      <td>1</td>\n",
       "      <td>False</td>\n",
       "    </tr>\n",
       "    <tr>\n",
       "      <th>3</th>\n",
       "      <td>VenusaurMega Venusaur</td>\n",
       "      <td>Grass</td>\n",
       "      <td>Poison</td>\n",
       "      <td>625</td>\n",
       "      <td>80</td>\n",
       "      <td>100</td>\n",
       "      <td>123</td>\n",
       "      <td>122</td>\n",
       "      <td>120</td>\n",
       "      <td>80</td>\n",
       "      <td>1</td>\n",
       "      <td>False</td>\n",
       "    </tr>\n",
       "    <tr>\n",
       "      <th>4</th>\n",
       "      <td>Charmander</td>\n",
       "      <td>Fire</td>\n",
       "      <td>NaN</td>\n",
       "      <td>309</td>\n",
       "      <td>39</td>\n",
       "      <td>52</td>\n",
       "      <td>43</td>\n",
       "      <td>60</td>\n",
       "      <td>50</td>\n",
       "      <td>65</td>\n",
       "      <td>1</td>\n",
       "      <td>False</td>\n",
       "    </tr>\n",
       "  </tbody>\n",
       "</table>\n",
       "</div>"
      ],
      "text/plain": [
       "                    Name Type 1  Type 2  Total  HP  Attack  Defense  Sp. Atk  \\\n",
       "0              Bulbasaur  Grass  Poison    318  45      49       49       65   \n",
       "1                Ivysaur  Grass  Poison    405  60      62       63       80   \n",
       "2               Venusaur  Grass  Poison    525  80      82       83      100   \n",
       "3  VenusaurMega Venusaur  Grass  Poison    625  80     100      123      122   \n",
       "4             Charmander   Fire     NaN    309  39      52       43       60   \n",
       "\n",
       "   Sp. Def  Speed  Generation  Legendary  \n",
       "0       65     45           1      False  \n",
       "1       80     60           1      False  \n",
       "2      100     80           1      False  \n",
       "3      120     80           1      False  \n",
       "4       50     65           1      False  "
      ]
     },
     "execution_count": 26,
     "metadata": {},
     "output_type": "execute_result"
    }
   ],
   "source": [
    "Pokemon.head()"
   ]
  },
  {
   "cell_type": "markdown",
   "metadata": {},
   "source": [
    "Я хочу знать, количество покемонов каждого типа 1. Для этого сделаем столбчатую диаграмму распределения количества покемонов"
   ]
  },
  {
   "cell_type": "code",
   "execution_count": 58,
   "metadata": {},
   "outputs": [
    {
     "data": {
      "text/html": [
       "<div>\n",
       "<style scoped>\n",
       "    .dataframe tbody tr th:only-of-type {\n",
       "        vertical-align: middle;\n",
       "    }\n",
       "\n",
       "    .dataframe tbody tr th {\n",
       "        vertical-align: top;\n",
       "    }\n",
       "\n",
       "    .dataframe thead th {\n",
       "        text-align: right;\n",
       "    }\n",
       "</style>\n",
       "<table border=\"1\" class=\"dataframe\">\n",
       "  <thead>\n",
       "    <tr style=\"text-align: right;\">\n",
       "      <th></th>\n",
       "      <th>Type 1</th>\n",
       "      <th>Name</th>\n",
       "    </tr>\n",
       "  </thead>\n",
       "  <tbody>\n",
       "    <tr>\n",
       "      <th>17</th>\n",
       "      <td>Water</td>\n",
       "      <td>112</td>\n",
       "    </tr>\n",
       "    <tr>\n",
       "      <th>12</th>\n",
       "      <td>Normal</td>\n",
       "      <td>98</td>\n",
       "    </tr>\n",
       "    <tr>\n",
       "      <th>9</th>\n",
       "      <td>Grass</td>\n",
       "      <td>70</td>\n",
       "    </tr>\n",
       "    <tr>\n",
       "      <th>0</th>\n",
       "      <td>Bug</td>\n",
       "      <td>69</td>\n",
       "    </tr>\n",
       "    <tr>\n",
       "      <th>14</th>\n",
       "      <td>Psychic</td>\n",
       "      <td>57</td>\n",
       "    </tr>\n",
       "  </tbody>\n",
       "</table>\n",
       "</div>"
      ],
      "text/plain": [
       "     Type 1  Name\n",
       "17    Water   112\n",
       "12   Normal    98\n",
       "9     Grass    70\n",
       "0       Bug    69\n",
       "14  Psychic    57"
      ]
     },
     "execution_count": 58,
     "metadata": {},
     "output_type": "execute_result"
    }
   ],
   "source": [
    "Pokemon_Type_1=Pokemon.groupby('Type 1').count()[['Name']].reset_index().sort_values('Name', ascending=False).head(15)\n",
    "Pokemon_Type_1.head()"
   ]
  },
  {
   "cell_type": "code",
   "execution_count": 55,
   "metadata": {},
   "outputs": [
    {
     "data": {
      "image/png": "[encoded data removed]",
      "text/plain": [
       "<Figure size 864x648 with 1 Axes>"
      ]
     },
     "metadata": {
      "needs_background": "light"
     },
     "output_type": "display_data"
    }
   ],
   "source": [
    "plt.barh(Pokemon_Type_1['Type 1'], Pokemon_Type_1['Name'])\n",
    "plt.xlabel('Count')\n",
    "plt.ylabel('Type 1')\n",
    "plt.title('Top 15 most common Pokemon Type 1')\n",
    "plt.grid()"
   ]
  },
  {
   "cell_type": "markdown",
   "metadata": {},
   "source": [
    "Самые часто встречающиеся покемоны типа 1 - это водные, а самые редкие - это стальные."
   ]
  },
  {
   "cell_type": "markdown",
   "metadata": {},
   "source": [
    "А теперь посмотрим, у какой вид покемонов по типу 2 может сильнее всех атаковать."
   ]
  },
  {
   "cell_type": "code",
   "execution_count": 59,
   "metadata": {},
   "outputs": [],
   "source": [
    "import seaborn as sns"
   ]
  },
  {
   "cell_type": "code",
   "execution_count": 68,
   "metadata": {},
   "outputs": [
    {
     "data": {
      "text/plain": [
       "<matplotlib.axes._subplots.AxesSubplot at 0x1ce9ce4da20>"
      ]
     },
     "execution_count": 68,
     "metadata": {},
     "output_type": "execute_result"
    },
    {
     "data": {
      "image/png": "[encoded data removed]",
      "text/plain": [
       "<Figure size 864x648 with 1 Axes>"
      ]
     },
     "metadata": {
      "needs_background": "light"
     },
     "output_type": "display_data"
    }
   ],
   "source": [
    "top_Total = Pokemon['Type 2'].value_counts().sort_values(ascending = False).head(5).index.values\n",
    "top_Total\n",
    "sns.boxplot(x=\"Type 2\", y=\"Attack\", \n",
    "            data=Pokemon[Pokemon['Type 2'].isin(top_Total)])"
   ]
  },
  {
   "cell_type": "markdown",
   "metadata": {},
   "source": [
    "Как мы видим, больше половины покемонов типа Fighting превосходят по атаке 75% остальных видов покемонов. Хотя максимальная атака отдельных представителей других типов покемонов сможет превзойти 75% представителей типа Fighting"
   ]
  },
  {
   "cell_type": "markdown",
   "metadata": {},
   "source": [
    "Из чего складывается средняя общая оценка покемонов по поколениям:"
   ]
  },
  {
   "cell_type": "code",
   "execution_count": 101,
   "metadata": {},
   "outputs": [
    {
     "data": {
      "text/html": [
       "<div>\n",
       "<style scoped>\n",
       "    .dataframe tbody tr th:only-of-type {\n",
       "        vertical-align: middle;\n",
       "    }\n",
       "\n",
       "    .dataframe tbody tr th {\n",
       "        vertical-align: top;\n",
       "    }\n",
       "\n",
       "    .dataframe thead th {\n",
       "        text-align: right;\n",
       "    }\n",
       "</style>\n",
       "<table border=\"1\" class=\"dataframe\">\n",
       "  <thead>\n",
       "    <tr style=\"text-align: right;\">\n",
       "      <th></th>\n",
       "      <th>Total</th>\n",
       "      <th>HP</th>\n",
       "      <th>Attack</th>\n",
       "      <th>Defense</th>\n",
       "      <th>Sp. Atk</th>\n",
       "      <th>Sp. Def</th>\n",
       "      <th>Speed</th>\n",
       "    </tr>\n",
       "    <tr>\n",
       "      <th>Generation</th>\n",
       "      <th></th>\n",
       "      <th></th>\n",
       "      <th></th>\n",
       "      <th></th>\n",
       "      <th></th>\n",
       "      <th></th>\n",
       "      <th></th>\n",
       "    </tr>\n",
       "  </thead>\n",
       "  <tbody>\n",
       "    <tr>\n",
       "      <th>1</th>\n",
       "      <td>426.813253</td>\n",
       "      <td>65.819277</td>\n",
       "      <td>76.638554</td>\n",
       "      <td>70.861446</td>\n",
       "      <td>71.819277</td>\n",
       "      <td>69.090361</td>\n",
       "      <td>72.584337</td>\n",
       "    </tr>\n",
       "    <tr>\n",
       "      <th>2</th>\n",
       "      <td>418.283019</td>\n",
       "      <td>71.207547</td>\n",
       "      <td>72.028302</td>\n",
       "      <td>73.386792</td>\n",
       "      <td>65.943396</td>\n",
       "      <td>73.905660</td>\n",
       "      <td>61.811321</td>\n",
       "    </tr>\n",
       "    <tr>\n",
       "      <th>3</th>\n",
       "      <td>436.225000</td>\n",
       "      <td>66.543750</td>\n",
       "      <td>81.625000</td>\n",
       "      <td>74.100000</td>\n",
       "      <td>75.806250</td>\n",
       "      <td>71.225000</td>\n",
       "      <td>66.925000</td>\n",
       "    </tr>\n",
       "    <tr>\n",
       "      <th>4</th>\n",
       "      <td>459.016529</td>\n",
       "      <td>73.082645</td>\n",
       "      <td>82.867769</td>\n",
       "      <td>78.132231</td>\n",
       "      <td>76.404959</td>\n",
       "      <td>77.190083</td>\n",
       "      <td>71.338843</td>\n",
       "    </tr>\n",
       "    <tr>\n",
       "      <th>5</th>\n",
       "      <td>434.987879</td>\n",
       "      <td>71.787879</td>\n",
       "      <td>82.066667</td>\n",
       "      <td>72.327273</td>\n",
       "      <td>71.987879</td>\n",
       "      <td>68.739394</td>\n",
       "      <td>68.078788</td>\n",
       "    </tr>\n",
       "  </tbody>\n",
       "</table>\n",
       "</div>"
      ],
      "text/plain": [
       "                 Total         HP     Attack    Defense    Sp. Atk    Sp. Def  \\\n",
       "Generation                                                                      \n",
       "1           426.813253  65.819277  76.638554  70.861446  71.819277  69.090361   \n",
       "2           418.283019  71.207547  72.028302  73.386792  65.943396  73.905660   \n",
       "3           436.225000  66.543750  81.625000  74.100000  75.806250  71.225000   \n",
       "4           459.016529  73.082645  82.867769  78.132231  76.404959  77.190083   \n",
       "5           434.987879  71.787879  82.066667  72.327273  71.987879  68.739394   \n",
       "\n",
       "                Speed  \n",
       "Generation             \n",
       "1           72.584337  \n",
       "2           61.811321  \n",
       "3           66.925000  \n",
       "4           71.338843  \n",
       "5           68.078788  "
      ]
     },
     "execution_count": 101,
     "metadata": {},
     "output_type": "execute_result"
    }
   ],
   "source": [
    "Pokemon_1 = Pokemon.groupby('Generation').mean()[['Total', 'HP', 'Attack', 'Defense', 'Sp. Atk', 'Sp. Def','Speed']]\n",
    "Pokemon_1.head()"
   ]
  },
  {
   "cell_type": "code",
   "execution_count": 146,
   "metadata": {},
   "outputs": [
    {
     "data": {
      "image/png": "[encoded data removed]",
      "text/plain": [
       "<Figure size 864x648 with 1 Axes>"
      ]
     },
     "metadata": {
      "needs_background": "light"
     },
     "output_type": "display_data"
    }
   ],
   "source": [
    "Pokemon_1[list(filter(lambda x: x != 'Total', Pokemon_1.columns))]\\\n",
    "    .plot(kind='bar', rot=45, stacked=True);"
   ]
  },
  {
   "cell_type": "markdown",
   "metadata": {},
   "source": [
    "Не особо информативно получилось. Видимо потому что в каждой общей средней оценке доля каждой специальной оценки примерно одинаковая. Но зато видно, что средняя оценка 4-го поколения самая высокая."
   ]
  },
  {
   "cell_type": "markdown",
   "metadata": {},
   "source": [
    "Мы уже выяснили, что водных покемонов больше всех. Выясним, какое поколение водных покемонов самое быстрое и многочисленное."
   ]
  },
  {
   "cell_type": "code",
   "execution_count": 144,
   "metadata": {},
   "outputs": [
    {
     "data": {
      "text/html": [
       "<div>\n",
       "<style scoped>\n",
       "    .dataframe tbody tr th:only-of-type {\n",
       "        vertical-align: middle;\n",
       "    }\n",
       "\n",
       "    .dataframe tbody tr th {\n",
       "        vertical-align: top;\n",
       "    }\n",
       "\n",
       "    .dataframe thead tr th {\n",
       "        text-align: left;\n",
       "    }\n",
       "</style>\n",
       "<table border=\"1\" class=\"dataframe\">\n",
       "  <thead>\n",
       "    <tr>\n",
       "      <th></th>\n",
       "      <th>Generation</th>\n",
       "      <th colspan=\"2\" halign=\"left\">Speed</th>\n",
       "      <th>Name</th>\n",
       "    </tr>\n",
       "    <tr>\n",
       "      <th></th>\n",
       "      <th></th>\n",
       "      <th>mean</th>\n",
       "      <th>max</th>\n",
       "      <th>count</th>\n",
       "    </tr>\n",
       "  </thead>\n",
       "  <tbody>\n",
       "    <tr>\n",
       "      <th>0</th>\n",
       "      <td>1</td>\n",
       "      <td>67.258065</td>\n",
       "      <td>115</td>\n",
       "      <td>31</td>\n",
       "    </tr>\n",
       "    <tr>\n",
       "      <th>1</th>\n",
       "      <td>2</td>\n",
       "      <td>56.833333</td>\n",
       "      <td>85</td>\n",
       "      <td>18</td>\n",
       "    </tr>\n",
       "    <tr>\n",
       "      <th>2</th>\n",
       "      <td>3</td>\n",
       "      <td>64.592593</td>\n",
       "      <td>105</td>\n",
       "      <td>27</td>\n",
       "    </tr>\n",
       "    <tr>\n",
       "      <th>3</th>\n",
       "      <td>4</td>\n",
       "      <td>70.000000</td>\n",
       "      <td>115</td>\n",
       "      <td>13</td>\n",
       "    </tr>\n",
       "    <tr>\n",
       "      <th>4</th>\n",
       "      <td>5</td>\n",
       "      <td>68.500000</td>\n",
       "      <td>108</td>\n",
       "      <td>18</td>\n",
       "    </tr>\n",
       "    <tr>\n",
       "      <th>5</th>\n",
       "      <td>6</td>\n",
       "      <td>78.600000</td>\n",
       "      <td>122</td>\n",
       "      <td>5</td>\n",
       "    </tr>\n",
       "  </tbody>\n",
       "</table>\n",
       "</div>"
      ],
      "text/plain": [
       "  Generation      Speed       Name\n",
       "                   mean  max count\n",
       "0          1  67.258065  115    31\n",
       "1          2  56.833333   85    18\n",
       "2          3  64.592593  105    27\n",
       "3          4  70.000000  115    13\n",
       "4          5  68.500000  108    18\n",
       "5          6  78.600000  122     5"
      ]
     },
     "execution_count": 144,
     "metadata": {},
     "output_type": "execute_result"
    }
   ],
   "source": [
    "Pokemon_Water=Pokemon[Pokemon['Type 1']=='Water']\n",
    "Pokemon_Water_g=Pokemon_Water.groupby('Generation').agg({'Speed': ['mean','max'], 'Name': 'count'}).reset_index()\n",
    "Pokemon_Water_g"
   ]
  },
  {
   "cell_type": "code",
   "execution_count": 145,
   "metadata": {},
   "outputs": [
    {
     "data": {
      "text/plain": [
       "<matplotlib.collections.PathCollection at 0x1ce9fe08160>"
      ]
     },
     "execution_count": 145,
     "metadata": {},
     "output_type": "execute_result"
    },
    {
     "data": {
      "image/png": "[encoded data removed]",
      "text/plain": [
       "<Figure size 864x648 with 1 Axes>"
      ]
     },
     "metadata": {
      "needs_background": "light"
     },
     "output_type": "display_data"
    }
   ],
   "source": [
    "plt.scatter(Pokemon_Water_g['Generation'], Pokemon_Water_g['Speed']['mean'], s=Pokemon_Water_g['Name']*100, c=Pokemon_Water_g['Speed']['max'], alpha=0.5)"
   ]
  },
  {
   "cell_type": "markdown",
   "metadata": {},
   "source": [
    "Координаты по лси х - это поколения, по оси у - это средняя скорость. Видно, что самая высокая средняя скорость у водных покемонов 6 поколения. Самая низкая у представителей второго. Размер круга - это количество покемонов в поколении. Самые многочисленные - покемоны 1-го поколения, самые малочисленные - 6-го. Цветом показана максимальная скорость. То есть не смотря на то, что 6-е поколение самое малочисленное, в среднем скорость у таких покемонов, при этом отдельные представители обладают самой высокой скоростью среди всех поколений."
   ]
  },
  {
   "cell_type": "markdown",
   "metadata": {},
   "source": [
    "Визуализируем средние общие оценки по типу 1 и поколениям."
   ]
  },
  {
   "cell_type": "code",
   "execution_count": 109,
   "metadata": {},
   "outputs": [
    {
     "data": {
      "text/html": [
       "<div>\n",
       "<style scoped>\n",
       "    .dataframe tbody tr th:only-of-type {\n",
       "        vertical-align: middle;\n",
       "    }\n",
       "\n",
       "    .dataframe tbody tr th {\n",
       "        vertical-align: top;\n",
       "    }\n",
       "\n",
       "    .dataframe thead th {\n",
       "        text-align: right;\n",
       "    }\n",
       "</style>\n",
       "<table border=\"1\" class=\"dataframe\">\n",
       "  <thead>\n",
       "    <tr style=\"text-align: right;\">\n",
       "      <th>Generation</th>\n",
       "      <th>1</th>\n",
       "      <th>2</th>\n",
       "      <th>3</th>\n",
       "      <th>4</th>\n",
       "      <th>5</th>\n",
       "      <th>6</th>\n",
       "    </tr>\n",
       "    <tr>\n",
       "      <th>Type 1</th>\n",
       "      <th></th>\n",
       "      <th></th>\n",
       "      <th></th>\n",
       "      <th></th>\n",
       "      <th></th>\n",
       "      <th></th>\n",
       "    </tr>\n",
       "  </thead>\n",
       "  <tbody>\n",
       "    <tr>\n",
       "      <th>Bug</th>\n",
       "      <td>366.428571</td>\n",
       "      <td>428.750000</td>\n",
       "      <td>318.833333</td>\n",
       "      <td>373.100000</td>\n",
       "      <td>416.111111</td>\n",
       "      <td>274.666667</td>\n",
       "    </tr>\n",
       "    <tr>\n",
       "      <th>Dark</th>\n",
       "      <td>0.000000</td>\n",
       "      <td>465.000000</td>\n",
       "      <td>421.666667</td>\n",
       "      <td>538.333333</td>\n",
       "      <td>417.923077</td>\n",
       "      <td>483.333333</td>\n",
       "    </tr>\n",
       "    <tr>\n",
       "      <th>Dragon</th>\n",
       "      <td>440.000000</td>\n",
       "      <td>0.000000</td>\n",
       "      <td>596.666667</td>\n",
       "      <td>502.500000</td>\n",
       "      <td>575.000000</td>\n",
       "      <td>488.000000</td>\n",
       "    </tr>\n",
       "    <tr>\n",
       "      <th>Electric</th>\n",
       "      <td>444.444444</td>\n",
       "      <td>415.714286</td>\n",
       "      <td>431.000000</td>\n",
       "      <td>472.416667</td>\n",
       "      <td>446.875000</td>\n",
       "      <td>400.333333</td>\n",
       "    </tr>\n",
       "    <tr>\n",
       "      <th>Fairy</th>\n",
       "      <td>403.000000</td>\n",
       "      <td>323.600000</td>\n",
       "      <td>0.000000</td>\n",
       "      <td>545.000000</td>\n",
       "      <td>0.000000</td>\n",
       "      <td>450.555556</td>\n",
       "    </tr>\n",
       "    <tr>\n",
       "      <th>Fighting</th>\n",
       "      <td>412.142857</td>\n",
       "      <td>332.500000</td>\n",
       "      <td>382.200000</td>\n",
       "      <td>478.333333</td>\n",
       "      <td>429.285714</td>\n",
       "      <td>447.666667</td>\n",
       "    </tr>\n",
       "    <tr>\n",
       "      <th>Fire</th>\n",
       "      <td>481.071429</td>\n",
       "      <td>441.625000</td>\n",
       "      <td>458.750000</td>\n",
       "      <td>477.600000</td>\n",
       "      <td>431.888889</td>\n",
       "      <td>450.875000</td>\n",
       "    </tr>\n",
       "    <tr>\n",
       "      <th>Flying</th>\n",
       "      <td>0.000000</td>\n",
       "      <td>0.000000</td>\n",
       "      <td>0.000000</td>\n",
       "      <td>0.000000</td>\n",
       "      <td>580.000000</td>\n",
       "      <td>390.000000</td>\n",
       "    </tr>\n",
       "    <tr>\n",
       "      <th>Ghost</th>\n",
       "      <td>453.750000</td>\n",
       "      <td>435.000000</td>\n",
       "      <td>411.000000</td>\n",
       "      <td>530.142857</td>\n",
       "      <td>390.200000</td>\n",
       "      <td>409.900000</td>\n",
       "    </tr>\n",
       "    <tr>\n",
       "      <th>Grass</th>\n",
       "      <td>426.000000</td>\n",
       "      <td>377.000000</td>\n",
       "      <td>410.769231</td>\n",
       "      <td>460.266667</td>\n",
       "      <td>411.733333</td>\n",
       "      <td>425.800000</td>\n",
       "    </tr>\n",
       "    <tr>\n",
       "      <th>Ground</th>\n",
       "      <td>374.375000</td>\n",
       "      <td>420.000000</td>\n",
       "      <td>484.285714</td>\n",
       "      <td>475.000000</td>\n",
       "      <td>445.500000</td>\n",
       "      <td>0.000000</td>\n",
       "    </tr>\n",
       "    <tr>\n",
       "      <th>Ice</th>\n",
       "      <td>517.500000</td>\n",
       "      <td>333.750000</td>\n",
       "      <td>452.857143</td>\n",
       "      <td>511.666667</td>\n",
       "      <td>418.333333</td>\n",
       "      <td>409.000000</td>\n",
       "    </tr>\n",
       "    <tr>\n",
       "      <th>Normal</th>\n",
       "      <td>397.416667</td>\n",
       "      <td>390.933333</td>\n",
       "      <td>369.888889</td>\n",
       "      <td>435.833333</td>\n",
       "      <td>423.684211</td>\n",
       "      <td>352.500000</td>\n",
       "    </tr>\n",
       "    <tr>\n",
       "      <th>Poison</th>\n",
       "      <td>383.500000</td>\n",
       "      <td>535.000000</td>\n",
       "      <td>409.000000</td>\n",
       "      <td>404.666667</td>\n",
       "      <td>401.500000</td>\n",
       "      <td>407.000000</td>\n",
       "    </tr>\n",
       "    <tr>\n",
       "      <th>Psychic</th>\n",
       "      <td>537.363636</td>\n",
       "      <td>476.571429</td>\n",
       "      <td>458.083333</td>\n",
       "      <td>508.875000</td>\n",
       "      <td>410.500000</td>\n",
       "      <td>513.400000</td>\n",
       "    </tr>\n",
       "    <tr>\n",
       "      <th>Rock</th>\n",
       "      <td>440.000000</td>\n",
       "      <td>484.000000</td>\n",
       "      <td>441.875000</td>\n",
       "      <td>417.500000</td>\n",
       "      <td>455.500000</td>\n",
       "      <td>485.777778</td>\n",
       "    </tr>\n",
       "    <tr>\n",
       "      <th>Steel</th>\n",
       "      <td>0.000000</td>\n",
       "      <td>528.333333</td>\n",
       "      <td>498.333333</td>\n",
       "      <td>493.333333</td>\n",
       "      <td>460.000000</td>\n",
       "      <td>456.600000</td>\n",
       "    </tr>\n",
       "    <tr>\n",
       "      <th>Water</th>\n",
       "      <td>431.419355</td>\n",
       "      <td>417.444444</td>\n",
       "      <td>433.037037</td>\n",
       "      <td>443.769231</td>\n",
       "      <td>432.388889</td>\n",
       "      <td>415.800000</td>\n",
       "    </tr>\n",
       "  </tbody>\n",
       "</table>\n",
       "</div>"
      ],
      "text/plain": [
       "Generation           1           2           3           4           5  \\\n",
       "Type 1                                                                   \n",
       "Bug         366.428571  428.750000  318.833333  373.100000  416.111111   \n",
       "Dark          0.000000  465.000000  421.666667  538.333333  417.923077   \n",
       "Dragon      440.000000    0.000000  596.666667  502.500000  575.000000   \n",
       "Electric    444.444444  415.714286  431.000000  472.416667  446.875000   \n",
       "Fairy       403.000000  323.600000    0.000000  545.000000    0.000000   \n",
       "Fighting    412.142857  332.500000  382.200000  478.333333  429.285714   \n",
       "Fire        481.071429  441.625000  458.750000  477.600000  431.888889   \n",
       "Flying        0.000000    0.000000    0.000000    0.000000  580.000000   \n",
       "Ghost       453.750000  435.000000  411.000000  530.142857  390.200000   \n",
       "Grass       426.000000  377.000000  410.769231  460.266667  411.733333   \n",
       "Ground      374.375000  420.000000  484.285714  475.000000  445.500000   \n",
       "Ice         517.500000  333.750000  452.857143  511.666667  418.333333   \n",
       "Normal      397.416667  390.933333  369.888889  435.833333  423.684211   \n",
       "Poison      383.500000  535.000000  409.000000  404.666667  401.500000   \n",
       "Psychic     537.363636  476.571429  458.083333  508.875000  410.500000   \n",
       "Rock        440.000000  484.000000  441.875000  417.500000  455.500000   \n",
       "Steel         0.000000  528.333333  498.333333  493.333333  460.000000   \n",
       "Water       431.419355  417.444444  433.037037  443.769231  432.388889   \n",
       "\n",
       "Generation           6  \n",
       "Type 1                  \n",
       "Bug         274.666667  \n",
       "Dark        483.333333  \n",
       "Dragon      488.000000  \n",
       "Electric    400.333333  \n",
       "Fairy       450.555556  \n",
       "Fighting    447.666667  \n",
       "Fire        450.875000  \n",
       "Flying      390.000000  \n",
       "Ghost       409.900000  \n",
       "Grass       425.800000  \n",
       "Ground        0.000000  \n",
       "Ice         409.000000  \n",
       "Normal      352.500000  \n",
       "Poison      407.000000  \n",
       "Psychic     513.400000  \n",
       "Rock        485.777778  \n",
       "Steel       456.600000  \n",
       "Water       415.800000  "
      ]
     },
     "execution_count": 109,
     "metadata": {},
     "output_type": "execute_result"
    }
   ],
   "source": [
    "Pokemon_Type_gen = Pokemon.pivot_table(\n",
    "                        index='Type 1', \n",
    "                        columns='Generation', \n",
    "                        values='Total', \n",
    "                        aggfunc='mean').fillna(0).applymap(float)\n",
    "\n",
    "Pokemon_Type_gen"
   ]
  },
  {
   "cell_type": "code",
   "execution_count": 110,
   "metadata": {},
   "outputs": [
    {
     "data": {
      "text/plain": [
       "<matplotlib.axes._subplots.AxesSubplot at 0x1ce9dda0630>"
      ]
     },
     "execution_count": 110,
     "metadata": {},
     "output_type": "execute_result"
    },
    {
     "data": {
      "image/png": "[encoded data removed]",
      "text/plain": [
       "<Figure size 864x648 with 2 Axes>"
      ]
     },
     "metadata": {
      "needs_background": "light"
     },
     "output_type": "display_data"
    }
   ],
   "source": [
    "sns.heatmap(Pokemon_Type_gen, annot=False, \n",
    "            linewidths=0.5)"
   ]
  },
  {
   "cell_type": "markdown",
   "metadata": {},
   "source": [
    "Самые высокие средние оценки у драконов из 3-го поколения. В данном случае черные квардраты - это не самые низкие средние значения. Черные квардраты - это отсутствие покемонов 1-го типа в конкретном поколении. То есть в первом поколении вообще не было стальных и летающих покемонов. "
   ]
  },
  {
   "cell_type": "code",
   "execution_count": null,
   "metadata": {},
   "outputs": [],
   "source": []
  }
 ],
 "metadata": {
  "kernelspec": {
   "display_name": "Python 3",
   "language": "python",
   "name": "python3"
  },
  "language_info": {
   "codemirror_mode": {
    "name": "ipython",
    "version": 3
   },
   "file_extension": ".py",
   "mimetype": "text/x-python",
   "name": "python",
   "nbconvert_exporter": "python",
   "pygments_lexer": "ipython3",
   "version": "3.7.0"
  }
 },
 "nbformat": 4,
 "nbformat_minor": 2
}
