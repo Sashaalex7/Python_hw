{
 "cells": [
  {
   "cell_type": "markdown",
   "metadata": {},
   "source": [
    "# Вспомним работу с файлами"
   ]
  },
  {
   "cell_type": "markdown",
   "metadata": {},
   "source": [
    "Дан лог покупок transactions.tsv.\n",
    "\n",
    "Первый столбец - дата покупки, второй - сумма. Разделитель табуляция.\n",
    "\n",
    "Необходимо посчитать:\n",
    "\n",
    "1. Сумму покупок за все дни\n",
    "\n",
    "2. Среднюю стоимость одной покупки\n",
    "\n",
    "3. В какой день была максимальная выручка?"
   ]
  },
  {
   "cell_type": "code",
   "execution_count": 22,
   "metadata": {},
   "outputs": [
    {
     "name": "stdout",
     "output_type": "stream",
     "text": [
      "2988 47.42857142857143\n",
      "2019-01-06 577\n"
     ]
    }
   ],
   "source": [
    "sum_f=0\n",
    "counter_f=0\n",
    "sum_by_day={}\n",
    "\n",
    "with open('transactions.tsv', 'r') as f:\n",
    "    for line in f:\n",
    "        date, amount = line.strip().split('\\t')\n",
    "        sum_f+=int(amount)\n",
    "        counter_f+=1\n",
    "        sum_by_day.setdefault(date,0)\n",
    "        sum_by_day[date]+=int(amount)\n",
    "    \n",
    "max_am=0\n",
    "max_date=''\n",
    "\n",
    "for i in sum_by_day:\n",
    "    if int(sum_by_day[i])>max_am:\n",
    "        max_am=int(sum_by_day[i])\n",
    "        max_date=i\n",
    "            \n",
    "print(sum_f,sum_f/counter_f)\n",
    "print(max_date,max_am)\n",
    "    "
   ]
  },
  {
   "cell_type": "code",
   "execution_count": 27,
   "metadata": {},
   "outputs": [
    {
     "name": "stdout",
     "output_type": "stream",
     "text": [
      "(577, '2019-01-06')\n"
     ]
    }
   ],
   "source": [
    "max_data_sum=[(value, key) for key, value in sum_by_day.items()]\n",
    "print(max(max_data_sum))"
   ]
  },
  {
   "cell_type": "markdown",
   "metadata": {},
   "source": [
    "# Даты"
   ]
  },
  {
   "cell_type": "code",
   "execution_count": 28,
   "metadata": {},
   "outputs": [],
   "source": [
    "from datetime import datetime"
   ]
  },
  {
   "cell_type": "code",
   "execution_count": 29,
   "metadata": {},
   "outputs": [],
   "source": [
    "date_string = '09.05.2018  09:00'"
   ]
  },
  {
   "cell_type": "code",
   "execution_count": 30,
   "metadata": {},
   "outputs": [
    {
     "data": {
      "text/plain": [
       "str"
      ]
     },
     "execution_count": 30,
     "metadata": {},
     "output_type": "execute_result"
    }
   ],
   "source": [
    "# сейчас date_string это просто строка\n",
    "type(date_string)"
   ]
  },
  {
   "cell_type": "code",
   "execution_count": 31,
   "metadata": {},
   "outputs": [
    {
     "data": {
      "text/plain": [
       "datetime.datetime(2018, 5, 9, 9, 0)"
      ]
     },
     "execution_count": 31,
     "metadata": {},
     "output_type": "execute_result"
    }
   ],
   "source": [
    "# https://docs.python.org/3/library/datetime.html\n",
    "\n",
    "date_datetime = datetime.strptime( date_string, '%d.%m.%Y %H:%M' )\n",
    "date_datetime"
   ]
  },
  {
   "cell_type": "code",
   "execution_count": 32,
   "metadata": {},
   "outputs": [
    {
     "data": {
      "text/plain": [
       "datetime.datetime"
      ]
     },
     "execution_count": 32,
     "metadata": {},
     "output_type": "execute_result"
    }
   ],
   "source": [
    "# теперь можем работать с датами\n",
    "type(date_datetime)"
   ]
  },
  {
   "cell_type": "code",
   "execution_count": 33,
   "metadata": {},
   "outputs": [
    {
     "data": {
      "text/plain": [
       "(2018, 9)"
      ]
     },
     "execution_count": 33,
     "metadata": {},
     "output_type": "execute_result"
    }
   ],
   "source": [
    "date_datetime.year, date_datetime.hour"
   ]
  },
  {
   "cell_type": "markdown",
   "metadata": {},
   "source": [
    "### Упражнение\n",
    "С помощью метода datetime.strptime переведите строку 'May 25 2017 5:00AM' в формат datetime."
   ]
  },
  {
   "cell_type": "code",
   "execution_count": 34,
   "metadata": {},
   "outputs": [
    {
     "data": {
      "text/plain": [
       "datetime.datetime(2017, 5, 25, 5, 0)"
      ]
     },
     "execution_count": 34,
     "metadata": {},
     "output_type": "execute_result"
    }
   ],
   "source": [
    "date_datetime = datetime.strptime( 'May 25 2017 5:00AM', '%B %d %Y %I:%M%p' )\n",
    "date_datetime"
   ]
  },
  {
   "cell_type": "code",
   "execution_count": null,
   "metadata": {},
   "outputs": [],
   "source": []
  },
  {
   "cell_type": "code",
   "execution_count": null,
   "metadata": {},
   "outputs": [],
   "source": []
  },
  {
   "cell_type": "markdown",
   "metadata": {},
   "source": [
    "### Прибавление интервала к датам"
   ]
  },
  {
   "cell_type": "code",
   "execution_count": 35,
   "metadata": {},
   "outputs": [],
   "source": [
    "from datetime import timedelta"
   ]
  },
  {
   "cell_type": "code",
   "execution_count": 36,
   "metadata": {},
   "outputs": [],
   "source": [
    "start_date = '2018-01-01'\n",
    "end_date = '2018-01-07'"
   ]
  },
  {
   "cell_type": "code",
   "execution_count": 37,
   "metadata": {},
   "outputs": [
    {
     "data": {
      "text/plain": [
       "str"
      ]
     },
     "execution_count": 37,
     "metadata": {},
     "output_type": "execute_result"
    }
   ],
   "source": [
    "type(start_date)"
   ]
  },
  {
   "cell_type": "code",
   "execution_count": 38,
   "metadata": {},
   "outputs": [
    {
     "data": {
      "text/plain": [
       "datetime.datetime(2018, 1, 1, 0, 0)"
      ]
     },
     "execution_count": 38,
     "metadata": {},
     "output_type": "execute_result"
    }
   ],
   "source": [
    "start_date_datetime = datetime.strptime(start_date, '%Y-%m-%d')\n",
    "start_date_datetime"
   ]
  },
  {
   "cell_type": "code",
   "execution_count": 39,
   "metadata": {},
   "outputs": [
    {
     "data": {
      "text/plain": [
       "datetime.datetime(2018, 1, 2, 0, 0)"
      ]
     },
     "execution_count": 39,
     "metadata": {},
     "output_type": "execute_result"
    }
   ],
   "source": [
    "start_date_datetime + timedelta(days=1)"
   ]
  },
  {
   "cell_type": "markdown",
   "metadata": {},
   "source": [
    "### Упражнение\n",
    "Дана дата в формате '2018-09-01T09:30:00'. Прибавьте к ней 12 часов 15минут и 3 секунды."
   ]
  },
  {
   "cell_type": "code",
   "execution_count": 40,
   "metadata": {},
   "outputs": [
    {
     "data": {
      "text/plain": [
       "datetime.datetime(2018, 9, 1, 21, 45, 3)"
      ]
     },
     "execution_count": 40,
     "metadata": {},
     "output_type": "execute_result"
    }
   ],
   "source": [
    "date= datetime.strptime('2018-09-01T09:30:00','%Y-%m-%dT%H:%M:%S')\n",
    "date+timedelta(hours=12,minutes=15,seconds=3)"
   ]
  },
  {
   "cell_type": "code",
   "execution_count": null,
   "metadata": {},
   "outputs": [],
   "source": []
  },
  {
   "cell_type": "code",
   "execution_count": null,
   "metadata": {},
   "outputs": [],
   "source": []
  },
  {
   "cell_type": "code",
   "execution_count": null,
   "metadata": {},
   "outputs": [],
   "source": []
  },
  {
   "cell_type": "markdown",
   "metadata": {},
   "source": [
    "### Перевод обратно в строку"
   ]
  },
  {
   "cell_type": "code",
   "execution_count": 41,
   "metadata": {},
   "outputs": [
    {
     "data": {
      "text/plain": [
       "datetime.datetime(2018, 9, 1, 0, 0)"
      ]
     },
     "execution_count": 41,
     "metadata": {},
     "output_type": "execute_result"
    }
   ],
   "source": [
    "date = datetime(2018, 9, 1)\n",
    "date"
   ]
  },
  {
   "cell_type": "code",
   "execution_count": 42,
   "metadata": {},
   "outputs": [
    {
     "data": {
      "text/plain": [
       "'2018-09-01'"
      ]
     },
     "execution_count": 42,
     "metadata": {},
     "output_type": "execute_result"
    }
   ],
   "source": [
    "date.strftime('%Y-%m-%d')"
   ]
  },
  {
   "cell_type": "code",
   "execution_count": 43,
   "metadata": {},
   "outputs": [
    {
     "data": {
      "text/plain": [
       "'2018-09-01'"
      ]
     },
     "execution_count": 43,
     "metadata": {},
     "output_type": "execute_result"
    }
   ],
   "source": [
    "# внезапно\n",
    "\n",
    "date.strftime('%Y-%m-01')"
   ]
  },
  {
   "cell_type": "code",
   "execution_count": 44,
   "metadata": {},
   "outputs": [
    {
     "data": {
      "text/plain": [
       "('2018-01-01', '2018-01-07')"
      ]
     },
     "execution_count": 44,
     "metadata": {},
     "output_type": "execute_result"
    }
   ],
   "source": [
    "start_date, end_date"
   ]
  },
  {
   "cell_type": "code",
   "execution_count": 45,
   "metadata": {},
   "outputs": [],
   "source": [
    "start_date_dt = datetime.strptime(start_date, '%Y-%m-%d')\n",
    "end_date_dt = datetime.strptime(end_date, '%Y-%m-%d')"
   ]
  },
  {
   "cell_type": "code",
   "execution_count": 46,
   "metadata": {},
   "outputs": [
    {
     "name": "stdout",
     "output_type": "stream",
     "text": [
      "2018-01-01\n",
      "2018-01-02\n",
      "2018-01-03\n",
      "2018-01-04\n",
      "2018-01-05\n",
      "2018-01-06\n",
      "2018-01-07\n"
     ]
    }
   ],
   "source": [
    "current_dt = start_date_dt\n",
    "\n",
    "while current_dt <= end_date_dt:\n",
    "    print(current_dt.strftime('%Y-%m-%d'))\n",
    "    \n",
    "    current_dt += timedelta(days=1)"
   ]
  },
  {
   "cell_type": "markdown",
   "metadata": {},
   "source": [
    "### Упражнение\n",
    "Напишите алгоритм, который \"пробегает\" период 1 до 7 сентября по часам. Формат вывода '06.01.2018 23:00:00'."
   ]
  },
  {
   "cell_type": "code",
   "execution_count": 47,
   "metadata": {},
   "outputs": [
    {
     "name": "stdout",
     "output_type": "stream",
     "text": [
      "01.09.2018 00:00:00\n",
      "01.09.2018 01:00:00\n",
      "01.09.2018 02:00:00\n",
      "01.09.2018 03:00:00\n",
      "01.09.2018 04:00:00\n",
      "01.09.2018 05:00:00\n",
      "01.09.2018 06:00:00\n",
      "01.09.2018 07:00:00\n",
      "01.09.2018 08:00:00\n",
      "01.09.2018 09:00:00\n",
      "01.09.2018 10:00:00\n",
      "01.09.2018 11:00:00\n",
      "01.09.2018 12:00:00\n",
      "01.09.2018 13:00:00\n",
      "01.09.2018 14:00:00\n",
      "01.09.2018 15:00:00\n",
      "01.09.2018 16:00:00\n",
      "01.09.2018 17:00:00\n",
      "01.09.2018 18:00:00\n",
      "01.09.2018 19:00:00\n",
      "01.09.2018 20:00:00\n",
      "01.09.2018 21:00:00\n",
      "01.09.2018 22:00:00\n",
      "01.09.2018 23:00:00\n",
      "02.09.2018 00:00:00\n",
      "02.09.2018 01:00:00\n",
      "02.09.2018 02:00:00\n",
      "02.09.2018 03:00:00\n",
      "02.09.2018 04:00:00\n",
      "02.09.2018 05:00:00\n",
      "02.09.2018 06:00:00\n",
      "02.09.2018 07:00:00\n",
      "02.09.2018 08:00:00\n",
      "02.09.2018 09:00:00\n",
      "02.09.2018 10:00:00\n",
      "02.09.2018 11:00:00\n",
      "02.09.2018 12:00:00\n",
      "02.09.2018 13:00:00\n",
      "02.09.2018 14:00:00\n",
      "02.09.2018 15:00:00\n",
      "02.09.2018 16:00:00\n",
      "02.09.2018 17:00:00\n",
      "02.09.2018 18:00:00\n",
      "02.09.2018 19:00:00\n",
      "02.09.2018 20:00:00\n",
      "02.09.2018 21:00:00\n",
      "02.09.2018 22:00:00\n",
      "02.09.2018 23:00:00\n",
      "03.09.2018 00:00:00\n",
      "03.09.2018 01:00:00\n",
      "03.09.2018 02:00:00\n",
      "03.09.2018 03:00:00\n",
      "03.09.2018 04:00:00\n",
      "03.09.2018 05:00:00\n",
      "03.09.2018 06:00:00\n",
      "03.09.2018 07:00:00\n",
      "03.09.2018 08:00:00\n",
      "03.09.2018 09:00:00\n",
      "03.09.2018 10:00:00\n",
      "03.09.2018 11:00:00\n",
      "03.09.2018 12:00:00\n",
      "03.09.2018 13:00:00\n",
      "03.09.2018 14:00:00\n",
      "03.09.2018 15:00:00\n",
      "03.09.2018 16:00:00\n",
      "03.09.2018 17:00:00\n",
      "03.09.2018 18:00:00\n",
      "03.09.2018 19:00:00\n",
      "03.09.2018 20:00:00\n",
      "03.09.2018 21:00:00\n",
      "03.09.2018 22:00:00\n",
      "03.09.2018 23:00:00\n",
      "04.09.2018 00:00:00\n",
      "04.09.2018 01:00:00\n",
      "04.09.2018 02:00:00\n",
      "04.09.2018 03:00:00\n",
      "04.09.2018 04:00:00\n",
      "04.09.2018 05:00:00\n",
      "04.09.2018 06:00:00\n",
      "04.09.2018 07:00:00\n",
      "04.09.2018 08:00:00\n",
      "04.09.2018 09:00:00\n",
      "04.09.2018 10:00:00\n",
      "04.09.2018 11:00:00\n",
      "04.09.2018 12:00:00\n",
      "04.09.2018 13:00:00\n",
      "04.09.2018 14:00:00\n",
      "04.09.2018 15:00:00\n",
      "04.09.2018 16:00:00\n",
      "04.09.2018 17:00:00\n",
      "04.09.2018 18:00:00\n",
      "04.09.2018 19:00:00\n",
      "04.09.2018 20:00:00\n",
      "04.09.2018 21:00:00\n",
      "04.09.2018 22:00:00\n",
      "04.09.2018 23:00:00\n",
      "05.09.2018 00:00:00\n",
      "05.09.2018 01:00:00\n",
      "05.09.2018 02:00:00\n",
      "05.09.2018 03:00:00\n",
      "05.09.2018 04:00:00\n",
      "05.09.2018 05:00:00\n",
      "05.09.2018 06:00:00\n",
      "05.09.2018 07:00:00\n",
      "05.09.2018 08:00:00\n",
      "05.09.2018 09:00:00\n",
      "05.09.2018 10:00:00\n",
      "05.09.2018 11:00:00\n",
      "05.09.2018 12:00:00\n",
      "05.09.2018 13:00:00\n",
      "05.09.2018 14:00:00\n",
      "05.09.2018 15:00:00\n",
      "05.09.2018 16:00:00\n",
      "05.09.2018 17:00:00\n",
      "05.09.2018 18:00:00\n",
      "05.09.2018 19:00:00\n",
      "05.09.2018 20:00:00\n",
      "05.09.2018 21:00:00\n",
      "05.09.2018 22:00:00\n",
      "05.09.2018 23:00:00\n",
      "06.09.2018 00:00:00\n",
      "06.09.2018 01:00:00\n",
      "06.09.2018 02:00:00\n",
      "06.09.2018 03:00:00\n",
      "06.09.2018 04:00:00\n",
      "06.09.2018 05:00:00\n",
      "06.09.2018 06:00:00\n",
      "06.09.2018 07:00:00\n",
      "06.09.2018 08:00:00\n",
      "06.09.2018 09:00:00\n",
      "06.09.2018 10:00:00\n",
      "06.09.2018 11:00:00\n",
      "06.09.2018 12:00:00\n",
      "06.09.2018 13:00:00\n",
      "06.09.2018 14:00:00\n",
      "06.09.2018 15:00:00\n",
      "06.09.2018 16:00:00\n",
      "06.09.2018 17:00:00\n",
      "06.09.2018 18:00:00\n",
      "06.09.2018 19:00:00\n",
      "06.09.2018 20:00:00\n",
      "06.09.2018 21:00:00\n",
      "06.09.2018 22:00:00\n",
      "06.09.2018 23:00:00\n",
      "07.09.2018 00:00:00\n"
     ]
    }
   ],
   "source": [
    "start_date_dt = datetime.strptime('01.09.2018 00:00:00', '%d.%m.%Y %H:%M:%S')\n",
    "end_date_dt = datetime.strptime('07.09.2018 00:00:00', '%d.%m.%Y %H:%M:%S')\n",
    "current_dt = start_date_dt\n",
    "while current_dt <= end_date_dt:\n",
    "    print(current_dt.strftime('%d.%m.%Y %H:%M:%S'))\n",
    "\n",
    "    current_dt += timedelta(hours=1)"
   ]
  },
  {
   "cell_type": "code",
   "execution_count": null,
   "metadata": {},
   "outputs": [],
   "source": []
  },
  {
   "cell_type": "code",
   "execution_count": null,
   "metadata": {},
   "outputs": [],
   "source": []
  },
  {
   "cell_type": "code",
   "execution_count": null,
   "metadata": {},
   "outputs": [],
   "source": []
  },
  {
   "cell_type": "markdown",
   "metadata": {},
   "source": [
    "### Нагрузка на систему по часам"
   ]
  },
  {
   "cell_type": "code",
   "execution_count": 48,
   "metadata": {},
   "outputs": [
    {
     "data": {
      "text/plain": [
       "{}"
      ]
     },
     "execution_count": 48,
     "metadata": {},
     "output_type": "execute_result"
    }
   ],
   "source": [
    "stats = {}\n",
    "\n",
    "with open('logs.csv', 'r') as f:\n",
    "    for line in f:\n",
    "        line = line.strip()\n",
    "        \n",
    "        # вычисления нагрузки на систему...\n",
    "        \n",
    "# результат\n",
    "stats"
   ]
  },
  {
   "cell_type": "code",
   "execution_count": null,
   "metadata": {},
   "outputs": [],
   "source": [
    "# а в процентном соотношении?\n"
   ]
  },
  {
   "cell_type": "code",
   "execution_count": 49,
   "metadata": {},
   "outputs": [
    {
     "name": "stdout",
     "output_type": "stream",
     "text": [
      "0  -  22\n",
      "1  -  10\n",
      "2  -  8\n",
      "3  -  7\n",
      "4  -  7\n",
      "5  -  10\n",
      "6  -  19\n",
      "7  -  22\n",
      "8  -  42\n",
      "9  -  33\n",
      "10  -  77\n",
      "11  -  52\n",
      "12  -  64\n",
      "13  -  56\n",
      "14  -  57\n",
      "15  -  68\n",
      "16  -  56\n",
      "17  -  56\n",
      "18  -  72\n",
      "19  -  63\n",
      "20  -  67\n",
      "21  -  59\n",
      "22  -  37\n",
      "23  -  36\n"
     ]
    }
   ],
   "source": [
    "stats = {}\n",
    "\n",
    "with open('logs.csv', 'r') as f:\n",
    "    for line in f:\n",
    "        line = line.strip()\n",
    "        hour = datetime.strptime(line, \"%Y-%m-%dT%H:%M:%SZ\").hour\n",
    "        if hour in stats:\n",
    "            stats[hour] += 1\n",
    "        else:\n",
    "            stats[hour] = 1\n",
    "\n",
    "for i in range(24):\n",
    "    if i in stats:\n",
    "        print(i, \" - \" , stats[i])\n",
    "    else:\n",
    "        print(i, \" - 0\" )\n",
    "# результат\n",
    "#stats"
   ]
  },
  {
   "cell_type": "code",
   "execution_count": null,
   "metadata": {},
   "outputs": [],
   "source": []
  },
  {
   "cell_type": "code",
   "execution_count": null,
   "metadata": {},
   "outputs": [],
   "source": []
  },
  {
   "cell_type": "markdown",
   "metadata": {},
   "source": [
    "###  Unixtime"
   ]
  },
  {
   "cell_type": "code",
   "execution_count": 50,
   "metadata": {},
   "outputs": [],
   "source": [
    "import time\n",
    "from datetime import date\n",
    "from datetime import datetime"
   ]
  },
  {
   "cell_type": "code",
   "execution_count": 51,
   "metadata": {},
   "outputs": [
    {
     "data": {
      "text/plain": [
       "1535724000.0"
      ]
     },
     "execution_count": 51,
     "metadata": {},
     "output_type": "execute_result"
    }
   ],
   "source": [
    "d = date(2018, 9, 1)\n",
    "\n",
    "unixtime = time.mktime(d.timetuple())\n",
    "unixtime"
   ]
  },
  {
   "cell_type": "code",
   "execution_count": 52,
   "metadata": {},
   "outputs": [],
   "source": [
    "from datetime import datetime"
   ]
  },
  {
   "cell_type": "code",
   "execution_count": 53,
   "metadata": {},
   "outputs": [
    {
     "data": {
      "text/plain": [
       "datetime.datetime(2018, 9, 2, 9, 22, 9)"
      ]
     },
     "execution_count": 53,
     "metadata": {},
     "output_type": "execute_result"
    }
   ],
   "source": [
    "datetime.fromtimestamp(1535844129)"
   ]
  },
  {
   "cell_type": "markdown",
   "metadata": {},
   "source": [
    "# Обработка ошибок"
   ]
  },
  {
   "cell_type": "code",
   "execution_count": null,
   "metadata": {},
   "outputs": [],
   "source": [
    "some_num = '123'"
   ]
  },
  {
   "cell_type": "code",
   "execution_count": null,
   "metadata": {},
   "outputs": [],
   "source": [
    "float(some_num)"
   ]
  },
  {
   "cell_type": "code",
   "execution_count": null,
   "metadata": {},
   "outputs": [],
   "source": [
    "ups = '123a'"
   ]
  },
  {
   "cell_type": "code",
   "execution_count": null,
   "metadata": {},
   "outputs": [],
   "source": [
    "float(ups)"
   ]
  },
  {
   "cell_type": "code",
   "execution_count": null,
   "metadata": {},
   "outputs": [],
   "source": [
    "try:\n",
    "    float(ups)\n",
    "\n",
    "except Exception as e:\n",
    "    print(e)\n",
    "    \n",
    "print('Проехали')"
   ]
  },
  {
   "cell_type": "code",
   "execution_count": null,
   "metadata": {},
   "outputs": [],
   "source": [
    "ups = '123fff'"
   ]
  },
  {
   "cell_type": "code",
   "execution_count": null,
   "metadata": {},
   "outputs": [],
   "source": [
    "# полная версия traceback\n",
    "import traceback\n",
    "\n",
    "try:\n",
    "    float(ups)\n",
    "\n",
    "except Exception:\n",
    "    print(traceback.print_exc())\n",
    "    \n",
    "print('Проехали')"
   ]
  },
  {
   "cell_type": "markdown",
   "metadata": {},
   "source": [
    "### Более жизненный пример"
   ]
  },
  {
   "cell_type": "code",
   "execution_count": null,
   "metadata": {},
   "outputs": [],
   "source": [
    "with open('real_data.txt', 'r') as f:\n",
    "    for line in f:\n",
    "        print(line.strip())"
   ]
  },
  {
   "cell_type": "code",
   "execution_count": null,
   "metadata": {},
   "outputs": [],
   "source": [
    "import logging"
   ]
  },
  {
   "cell_type": "markdown",
   "metadata": {},
   "source": [
    "Чем прекрасен этот файл:\n",
    "1. Даты имеют разный формат: за 8 и 9 октября формат с \"09.10.2016 21:40\" сменился на \"09.10.2016T 21:40:00\" (добавилась буква T и секунды). Разработчики объяснили этот тем, что сбились настройки в базе данных.\n",
    "2. У покупок некоторых пользователей неизвестно значение выручки, из-за чего количество столбцов в строке уменьшается на один.\n",
    "3. У некоторых строк реальная сумма покупки умножена на миллион. Так иногда действительно делают, чтобы избежать дробных чисел и работать только с целыми. Разработчикам просто так удобнее."
   ]
  },
  {
   "cell_type": "code",
   "execution_count": 54,
   "metadata": {},
   "outputs": [],
   "source": [
    "def make_datetime_normal(dt):\n",
    "    \"\"\"Перевод даты покупки в формат %Y-%m-%d\"\"\"\n",
    "    \n",
    "    date_datetime = datetime.strptime(dt, '%d.%m.%y %H:%M')\n",
    "    return date_datetime.strftime('%Y-%m-%d')"
   ]
  },
  {
   "cell_type": "code",
   "execution_count": 55,
   "metadata": {},
   "outputs": [
    {
     "data": {
      "text/plain": [
       "'2016-10-05'"
      ]
     },
     "execution_count": 55,
     "metadata": {},
     "output_type": "execute_result"
    }
   ],
   "source": [
    "make_datetime_normal('05.10.16 23:18')"
   ]
  },
  {
   "cell_type": "code",
   "execution_count": 56,
   "metadata": {},
   "outputs": [
    {
     "ename": "ValueError",
     "evalue": "time data '08.10.2016T 16:46:00' does not match format '%d.%m.%y %H:%M'",
     "output_type": "error",
     "traceback": [
      "\u001b[1;31m---------------------------------------------------------------------------\u001b[0m",
      "\u001b[1;31mValueError\u001b[0m                                Traceback (most recent call last)",
      "\u001b[1;32m<ipython-input-56-d8779a753750>\u001b[0m in \u001b[0;36m<module>\u001b[1;34m\u001b[0m\n\u001b[1;32m----> 1\u001b[1;33m \u001b[0mmake_datetime_normal\u001b[0m\u001b[1;33m(\u001b[0m\u001b[1;34m'08.10.2016T 16:46:00'\u001b[0m\u001b[1;33m)\u001b[0m\u001b[1;33m\u001b[0m\u001b[0m\n\u001b[0m",
      "\u001b[1;32m<ipython-input-54-480e2a01a1ff>\u001b[0m in \u001b[0;36mmake_datetime_normal\u001b[1;34m(dt)\u001b[0m\n\u001b[0;32m      2\u001b[0m     \u001b[1;34m\"\"\"Перевод даты покупки в формат %Y-%m-%d\"\"\"\u001b[0m\u001b[1;33m\u001b[0m\u001b[0m\n\u001b[0;32m      3\u001b[0m \u001b[1;33m\u001b[0m\u001b[0m\n\u001b[1;32m----> 4\u001b[1;33m     \u001b[0mdate_datetime\u001b[0m \u001b[1;33m=\u001b[0m \u001b[0mdatetime\u001b[0m\u001b[1;33m.\u001b[0m\u001b[0mstrptime\u001b[0m\u001b[1;33m(\u001b[0m\u001b[0mdt\u001b[0m\u001b[1;33m,\u001b[0m \u001b[1;34m'%d.%m.%y %H:%M'\u001b[0m\u001b[1;33m)\u001b[0m\u001b[1;33m\u001b[0m\u001b[0m\n\u001b[0m\u001b[0;32m      5\u001b[0m     \u001b[1;32mreturn\u001b[0m \u001b[0mdate_datetime\u001b[0m\u001b[1;33m.\u001b[0m\u001b[0mstrftime\u001b[0m\u001b[1;33m(\u001b[0m\u001b[1;34m'%Y-%m-%d'\u001b[0m\u001b[1;33m)\u001b[0m\u001b[1;33m\u001b[0m\u001b[0m\n",
      "\u001b[1;32md:\\miniconda\\lib\\_strptime.py\u001b[0m in \u001b[0;36m_strptime_datetime\u001b[1;34m(cls, data_string, format)\u001b[0m\n\u001b[0;32m    575\u001b[0m     \"\"\"Return a class cls instance based on the input string and the\n\u001b[0;32m    576\u001b[0m     format string.\"\"\"\n\u001b[1;32m--> 577\u001b[1;33m     \u001b[0mtt\u001b[0m\u001b[1;33m,\u001b[0m \u001b[0mfraction\u001b[0m\u001b[1;33m,\u001b[0m \u001b[0mgmtoff_fraction\u001b[0m \u001b[1;33m=\u001b[0m \u001b[0m_strptime\u001b[0m\u001b[1;33m(\u001b[0m\u001b[0mdata_string\u001b[0m\u001b[1;33m,\u001b[0m \u001b[0mformat\u001b[0m\u001b[1;33m)\u001b[0m\u001b[1;33m\u001b[0m\u001b[0m\n\u001b[0m\u001b[0;32m    578\u001b[0m     \u001b[0mtzname\u001b[0m\u001b[1;33m,\u001b[0m \u001b[0mgmtoff\u001b[0m \u001b[1;33m=\u001b[0m \u001b[0mtt\u001b[0m\u001b[1;33m[\u001b[0m\u001b[1;33m-\u001b[0m\u001b[1;36m2\u001b[0m\u001b[1;33m:\u001b[0m\u001b[1;33m]\u001b[0m\u001b[1;33m\u001b[0m\u001b[0m\n\u001b[0;32m    579\u001b[0m     \u001b[0margs\u001b[0m \u001b[1;33m=\u001b[0m \u001b[0mtt\u001b[0m\u001b[1;33m[\u001b[0m\u001b[1;33m:\u001b[0m\u001b[1;36m6\u001b[0m\u001b[1;33m]\u001b[0m \u001b[1;33m+\u001b[0m \u001b[1;33m(\u001b[0m\u001b[0mfraction\u001b[0m\u001b[1;33m,\u001b[0m\u001b[1;33m)\u001b[0m\u001b[1;33m\u001b[0m\u001b[0m\n",
      "\u001b[1;32md:\\miniconda\\lib\\_strptime.py\u001b[0m in \u001b[0;36m_strptime\u001b[1;34m(data_string, format)\u001b[0m\n\u001b[0;32m    357\u001b[0m     \u001b[1;32mif\u001b[0m \u001b[1;32mnot\u001b[0m \u001b[0mfound\u001b[0m\u001b[1;33m:\u001b[0m\u001b[1;33m\u001b[0m\u001b[0m\n\u001b[0;32m    358\u001b[0m         raise ValueError(\"time data %r does not match format %r\" %\n\u001b[1;32m--> 359\u001b[1;33m                          (data_string, format))\n\u001b[0m\u001b[0;32m    360\u001b[0m     \u001b[1;32mif\u001b[0m \u001b[0mlen\u001b[0m\u001b[1;33m(\u001b[0m\u001b[0mdata_string\u001b[0m\u001b[1;33m)\u001b[0m \u001b[1;33m!=\u001b[0m \u001b[0mfound\u001b[0m\u001b[1;33m.\u001b[0m\u001b[0mend\u001b[0m\u001b[1;33m(\u001b[0m\u001b[1;33m)\u001b[0m\u001b[1;33m:\u001b[0m\u001b[1;33m\u001b[0m\u001b[0m\n\u001b[0;32m    361\u001b[0m         raise ValueError(\"unconverted data remains: %s\" %\n",
      "\u001b[1;31mValueError\u001b[0m: time data '08.10.2016T 16:46:00' does not match format '%d.%m.%y %H:%M'"
     ]
    }
   ],
   "source": [
    "make_datetime_normal('08.10.2016T 16:46:00')"
   ]
  },
  {
   "cell_type": "markdown",
   "metadata": {},
   "source": [
    "### Упражнение\n",
    "Создайте словарь stats = {'monday': 100, 'tuesday': 200}. \n",
    "\n",
    "Какой тип ошибки вызовет обращение stats['wednesday']?"
   ]
  },
  {
   "cell_type": "code",
   "execution_count": 57,
   "metadata": {},
   "outputs": [],
   "source": [
    "stats = {'monday': 100, 'tuesday': 200}"
   ]
  },
  {
   "cell_type": "code",
   "execution_count": 58,
   "metadata": {},
   "outputs": [
    {
     "ename": "KeyError",
     "evalue": "'123'",
     "output_type": "error",
     "traceback": [
      "\u001b[1;31m---------------------------------------------------------------------------\u001b[0m",
      "\u001b[1;31mKeyError\u001b[0m                                  Traceback (most recent call last)",
      "\u001b[1;32m<ipython-input-58-ac7d00a84299>\u001b[0m in \u001b[0;36m<module>\u001b[1;34m\u001b[0m\n\u001b[1;32m----> 1\u001b[1;33m \u001b[0mstats\u001b[0m\u001b[1;33m[\u001b[0m\u001b[1;34m'123'\u001b[0m\u001b[1;33m]\u001b[0m\u001b[1;33m\u001b[0m\u001b[0m\n\u001b[0m",
      "\u001b[1;31mKeyError\u001b[0m: '123'"
     ]
    }
   ],
   "source": [
    "stats['123']"
   ]
  },
  {
   "cell_type": "code",
   "execution_count": null,
   "metadata": {},
   "outputs": [],
   "source": []
  },
  {
   "cell_type": "code",
   "execution_count": null,
   "metadata": {},
   "outputs": [],
   "source": []
  },
  {
   "cell_type": "code",
   "execution_count": 59,
   "metadata": {},
   "outputs": [],
   "source": [
    "def make_datetime_normal(date_string):\n",
    "    \"\"\"Перевод даты покупки в формат %Y-%m-%d\"\"\"\n",
    "\n",
    "    try:\n",
    "        # пробуем расшифровать дату в формате '%d.%m.%Y %H:%M'\n",
    "        date_datetime = datetime.strptime(date_string, '%d.%m.%Y %H:%M')\n",
    "\n",
    "    except ValueError:\n",
    "\n",
    "        # пробуем расшифровать дату в формате '%d.%m.%YT %H:%M:%S'\n",
    "        try:\n",
    "            date_datetime = datetime.strptime(date_string, '%d.%m.%YT %H:%M:%S')\n",
    "\n",
    "        except:\n",
    "            print('Warning! bad line')\n",
    "            # ни один из известных форматов не подошел, возвращаем 'undefined'\n",
    "            return 'undefined'\n",
    "\n",
    "    return date_datetime.strftime('%Y-%m-%d')"
   ]
  },
  {
   "cell_type": "code",
   "execution_count": 60,
   "metadata": {},
   "outputs": [
    {
     "data": {
      "text/plain": [
       "'2016-10-05'"
      ]
     },
     "execution_count": 60,
     "metadata": {},
     "output_type": "execute_result"
    }
   ],
   "source": [
    "make_datetime_normal('05.10.2016 23:18')"
   ]
  },
  {
   "cell_type": "code",
   "execution_count": 61,
   "metadata": {},
   "outputs": [
    {
     "data": {
      "text/plain": [
       "'2016-10-08'"
      ]
     },
     "execution_count": 61,
     "metadata": {},
     "output_type": "execute_result"
    }
   ],
   "source": [
    "make_datetime_normal('08.10.2016T 16:46:00')"
   ]
  },
  {
   "cell_type": "code",
   "execution_count": 62,
   "metadata": {},
   "outputs": [
    {
     "name": "stdout",
     "output_type": "stream",
     "text": [
      "Warning! bad line\n"
     ]
    },
    {
     "data": {
      "text/plain": [
       "'undefined'"
      ]
     },
     "execution_count": 62,
     "metadata": {},
     "output_type": "execute_result"
    }
   ],
   "source": [
    "make_datetime_normal('08.10.2016T16:46:00Z')"
   ]
  },
  {
   "cell_type": "markdown",
   "metadata": {},
   "source": [
    "### Упражнение\n",
    "Посчитайте сумму третьего столбца с файле real_data.txt. Считайте, что если значение больше 1000, значит оно было умножено на миллион."
   ]
  },
  {
   "cell_type": "code",
   "execution_count": null,
   "metadata": {},
   "outputs": [],
   "source": []
  },
  {
   "cell_type": "code",
   "execution_count": null,
   "metadata": {},
   "outputs": [],
   "source": []
  },
  {
   "cell_type": "code",
   "execution_count": null,
   "metadata": {},
   "outputs": [],
   "source": []
  },
  {
   "cell_type": "markdown",
   "metadata": {},
   "source": [
    "# YAML-формат\n",
    "Неочевидные приемы https://habr.com/post/270097/"
   ]
  },
  {
   "cell_type": "code",
   "execution_count": 63,
   "metadata": {},
   "outputs": [
    {
     "name": "stdout",
     "output_type": "stream",
     "text": [
      "Collecting pyyaml\n",
      "  Downloading https://files.pythonhosted.org/packages/b6/74/c3e15707516f80192059dde32c9d78f00a88c9f3c4d1efd76cbc8d5b0a20/PyYAML-5.1-cp37-cp37m-win_amd64.whl (215kB)\n",
      "Installing collected packages: pyyaml\n",
      "Successfully installed pyyaml-5.1\n"
     ]
    },
    {
     "name": "stderr",
     "output_type": "stream",
     "text": [
      "You are using pip version 10.0.1, however version 19.0.3 is available.\n",
      "You should consider upgrading via the 'python -m pip install --upgrade pip' command.\n"
     ]
    }
   ],
   "source": [
    "!pip install pyyaml"
   ]
  },
  {
   "cell_type": "code",
   "execution_count": 64,
   "metadata": {},
   "outputs": [],
   "source": [
    "from yaml import load"
   ]
  },
  {
   "cell_type": "code",
   "execution_count": 65,
   "metadata": {},
   "outputs": [
    {
     "name": "stderr",
     "output_type": "stream",
     "text": [
      "d:\\miniconda\\lib\\site-packages\\ipykernel_launcher.py:1: YAMLLoadWarning: calling yaml.load() without Loader=... is deprecated, as the default Loader is unsafe. Please read https://msg.pyyaml.org/load for full details.\n",
      "  \"\"\"Entry point for launching an IPython kernel.\n"
     ]
    },
    {
     "data": {
      "text/plain": [
       "{'accounts': {'vk': {'username': 'i_love_ds', 'password': 'turnOnOAuth2.0'},\n",
       "  'facebook': 'none'},\n",
       " 'cities': ['РЎР°РЅРєС‚-РџРµС‚РµСЂР±СѓСЂРі',\n",
       "  'РћРґРµСЃСЃР°',\n",
       "  'РЎРµРІР°СЃС‚РѕРїРѕР»СЊ',\n",
       "  'Р’РѕР»РіРѕРіСЂР°Рґ',\n",
       "  'РљРёРµРІ',\n",
       "  'Р‘СЂРµСЃС‚',\n",
       "  'РњРѕСЃРєРІР°'],\n",
       " 'model': {'n_samples': 1000000, 'min_freq': 0.0001}}"
      ]
     },
     "execution_count": 65,
     "metadata": {},
     "output_type": "execute_result"
    }
   ],
   "source": [
    "config = load( open('config.yaml') )\n",
    "config"
   ]
  },
  {
   "cell_type": "code",
   "execution_count": 66,
   "metadata": {},
   "outputs": [
    {
     "data": {
      "text/plain": [
       "'turnOnOAuth2.0'"
      ]
     },
     "execution_count": 66,
     "metadata": {},
     "output_type": "execute_result"
    }
   ],
   "source": [
    "config['accounts']['vk']['password']"
   ]
  },
  {
   "cell_type": "code",
   "execution_count": 67,
   "metadata": {},
   "outputs": [
    {
     "data": {
      "text/plain": [
       "['РЎР°РЅРєС‚-РџРµС‚РµСЂР±СѓСЂРі',\n",
       " 'РћРґРµСЃСЃР°',\n",
       " 'РЎРµРІР°СЃС‚РѕРїРѕР»СЊ',\n",
       " 'Р’РѕР»РіРѕРіСЂР°Рґ',\n",
       " 'РљРёРµРІ',\n",
       " 'Р‘СЂРµСЃС‚',\n",
       " 'РњРѕСЃРєРІР°']"
      ]
     },
     "execution_count": 67,
     "metadata": {},
     "output_type": "execute_result"
    }
   ],
   "source": [
    "config['cities']"
   ]
  },
  {
   "cell_type": "code",
   "execution_count": 68,
   "metadata": {},
   "outputs": [
    {
     "data": {
      "text/plain": [
       "['РЎР°РЅРєС‚-РџРµС‚РµСЂР±СѓСЂРі',\n",
       " 'РћРґРµСЃСЃР°',\n",
       " 'РЎРµРІР°СЃС‚РѕРїРѕР»СЊ',\n",
       " 'Р’РѕР»РіРѕРіСЂР°Рґ',\n",
       " 'РљРёРµРІ',\n",
       " 'Р‘СЂРµСЃС‚',\n",
       " 'РњРѕСЃРєРІР°']"
      ]
     },
     "execution_count": 68,
     "metadata": {},
     "output_type": "execute_result"
    }
   ],
   "source": [
    "list_of_cities = config['cities']\n",
    "list_of_cities"
   ]
  },
  {
   "cell_type": "code",
   "execution_count": 69,
   "metadata": {},
   "outputs": [
    {
     "data": {
      "text/plain": [
       "{'vk': {'username': 'i_love_ds', 'password': 'turnOnOAuth2.0'},\n",
       " 'facebook': 'none'}"
      ]
     },
     "execution_count": 69,
     "metadata": {},
     "output_type": "execute_result"
    }
   ],
   "source": [
    "config['accounts']"
   ]
  },
  {
   "cell_type": "code",
   "execution_count": 70,
   "metadata": {},
   "outputs": [
    {
     "data": {
      "text/plain": [
       "'i_love_ds'"
      ]
     },
     "execution_count": 70,
     "metadata": {},
     "output_type": "execute_result"
    }
   ],
   "source": [
    "vk_username = config['accounts']['vk']['username']\n",
    "vk_username"
   ]
  },
  {
   "cell_type": "code",
   "execution_count": 71,
   "metadata": {},
   "outputs": [
    {
     "name": "stdout",
     "output_type": "stream",
     "text": [
      "РЎР°РЅРєС‚-РџРµС‚РµСЂР±СѓСЂРі\n",
      "РћРґРµСЃСЃР°\n",
      "РЎРµРІР°СЃС‚РѕРїРѕР»СЊ\n",
      "Р’РѕР»РіРѕРіСЂР°Рґ\n",
      "РљРёРµРІ\n",
      "Р‘СЂРµСЃС‚\n",
      "РњРѕСЃРєРІР°\n"
     ]
    }
   ],
   "source": [
    "for city in config['cities']:\n",
    "    print(city)"
   ]
  },
  {
   "cell_type": "markdown",
   "metadata": {},
   "source": [
    "### Упражнение\n",
    "Вам необходимо написать YAML-файл с параметрами для выгрузки данных. Как бы вы организовали такой файл?\n",
    "\n",
    "1. Выгрузка происходит из нескольких систем (vk, mytarget, dbm).\n",
    "\n",
    "2. У каждой системы есть несколько аккаунтов (account1, account2, ...). \n",
    "\n",
    "3. Для выгрузки данных из каждого аккаунта есть своя пара ключей приложения client_id и client_secret.\n",
    "\n",
    "4. Также у каждого аккаунта есть набор клиентов (client1, client2, ...), у каждого из которых есть свой логин и refresh_token."
   ]
  },
  {
   "cell_type": "code",
   "execution_count": null,
   "metadata": {},
   "outputs": [],
   "source": []
  }
 ],
 "metadata": {
  "kernelspec": {
   "display_name": "Python 3",
   "language": "python",
   "name": "python3"
  },
  "language_info": {
   "codemirror_mode": {
    "name": "ipython",
    "version": 3
   },
   "file_extension": ".py",
   "mimetype": "text/x-python",
   "name": "python",
   "nbconvert_exporter": "python",
   "pygments_lexer": "ipython3",
   "version": "3.7.0"
  }
 },
 "nbformat": 4,
 "nbformat_minor": 2
}
