{
 "cells": [
  {
   "cell_type": "markdown",
   "metadata": {},
   "source": [
    "Задание 1"
   ]
  },
  {
   "cell_type": "code",
   "execution_count": null,
   "metadata": {},
   "outputs": [],
   "source": [
    "geo_logs = [\n",
    "\n",
    "{'visit1': ['Москва', 'Россия']},\n",
    "\n",
    "{'visit2': ['Дели', 'Индия']},\n",
    "\n",
    "{'visit3': ['Владимир', 'Россия']},\n",
    "\n",
    "{'visit4': ['Лиссабон', 'Португалия']},\n",
    "\n",
    "{'visit5': ['Париж', 'Франция']},\n",
    "\n",
    "{'visit6': ['Лиссабон', 'Португалия']},\n",
    "\n",
    "{'visit7': ['Тула', 'Россия']},\n",
    "\n",
    "{'visit8': ['Тула', 'Россия']},\n",
    "\n",
    "{'visit9': ['Курск', 'Россия']},\n",
    "\n",
    "{'visit10': ['Архангельск', 'Россия']},\n",
    "\n",
    "]"
   ]
  },
  {
   "cell_type": "code",
   "execution_count": null,
   "metadata": {},
   "outputs": [],
   "source": [
    "for visit in geo_logs:\n",
    "    if 'Россия' in list(visit.values())[0]:\n",
    "        print(list(visit.values())[0])\n"
   ]
  },
  {
   "cell_type": "markdown",
   "metadata": {},
   "source": [
    "Задание 2"
   ]
  },
  {
   "cell_type": "code",
   "execution_count": 7,
   "metadata": {},
   "outputs": [],
   "source": [
    "ids = {'user1': [213, 213, 213, 15, 213], 'user2': [54, 54, 119, 119, 119], 'user3': [213, 98, 98, 35]}"
   ]
  },
  {
   "cell_type": "code",
   "execution_count": 13,
   "metadata": {},
   "outputs": [
    {
     "data": {
      "text/plain": [
       "[98, 35, 15, 213, 54, 119]"
      ]
     },
     "execution_count": 13,
     "metadata": {},
     "output_type": "execute_result"
    }
   ],
   "source": [
    "list(set([value for key in ids for value in ids[key]]))"
   ]
  },
  {
   "cell_type": "code",
   "execution_count": 9,
   "metadata": {},
   "outputs": [
    {
     "data": {
      "text/plain": [
       "[98, 35, 15, 213, 54, 119]"
      ]
     },
     "execution_count": 9,
     "metadata": {},
     "output_type": "execute_result"
    }
   ],
   "source": [
    "list(set(list(ids.values())[0]+list(ids.values())[1]+list(ids.values())[2]))"
   ]
  },
  {
   "cell_type": "markdown",
   "metadata": {},
   "source": [
    "Задание 3"
   ]
  },
  {
   "cell_type": "code",
   "execution_count": 1,
   "metadata": {},
   "outputs": [],
   "source": [
    "queries = [\n",
    "\n",
    "'смотреть сериалы онлайн',\n",
    "\n",
    "'новости спорта',\n",
    "\n",
    "'афиша кино',\n",
    "\n",
    "'курс доллара',\n",
    "\n",
    "'сериалы этим летом',\n",
    "\n",
    "'курс по питону',\n",
    "\n",
    "'сериалы про спорт',\n",
    "\n",
    "]"
   ]
  },
  {
   "cell_type": "code",
   "execution_count": 50,
   "metadata": {},
   "outputs": [
    {
     "name": "stdout",
     "output_type": "stream",
     "text": [
      "{3: 0.5714285714285714, 2: 0.42857142857142855}\n"
     ]
    }
   ],
   "source": [
    "a=[]\n",
    "for i in queries:\n",
    "    a=[len(i.split(' ')) for i in queries]\n",
    "d = {}.fromkeys(a, 0)\n",
    "for j in a:\n",
    "    d[j] = (j+ 1)/len(a)\n",
    "print(d)"
   ]
  },
  {
   "cell_type": "markdown",
   "metadata": {},
   "source": [
    "Задание 4"
   ]
  },
  {
   "cell_type": "code",
   "execution_count": 16,
   "metadata": {},
   "outputs": [],
   "source": [
    "stats = {'facebook': 55, 'yandex': 120, 'vk': 115, 'google': 99, 'email': 42, 'ok': 98}"
   ]
  },
  {
   "cell_type": "code",
   "execution_count": 43,
   "metadata": {},
   "outputs": [
    {
     "name": "stdout",
     "output_type": "stream",
     "text": [
      "yandex\n"
     ]
    }
   ],
   "source": [
    "a = [(value, key) for key, value in stats.items()]\n",
    "print(max(a)[1])"
   ]
  },
  {
   "cell_type": "markdown",
   "metadata": {},
   "source": [
    "Задание 5"
   ]
  },
  {
   "cell_type": "code",
   "execution_count": 5,
   "metadata": {},
   "outputs": [],
   "source": [
    "stream = [\n",
    "\n",
    "    '2018-01-01,user1,3',\n",
    "    \n",
    "    '2018-01-07,user1,4',\n",
    "    \n",
    "    '2018-03-29,user1,1',\n",
    "    \n",
    "    '2018-04-04,user1,13',\n",
    "    \n",
    "    '2018-01-05,user2,7',\n",
    "    \n",
    "    '2018-06-14,user3,4',\n",
    "    \n",
    "    '2018-07-02,user3,10',\n",
    "    \n",
    "    '2018-03-21,user4,19',\n",
    "    \n",
    "    '2018-03-22,user4,4',\n",
    "    \n",
    "    '2018-04-22,user4,8',\n",
    "    \n",
    "    \n",
    "    '2018-05-03,user4,9',\n",
    "    \n",
    "    '2018-05-11,user4,11',\n",
    "    \n",
    "]"
   ]
  },
  {
   "cell_type": "code",
   "execution_count": 11,
   "metadata": {},
   "outputs": [],
   "source": [
    "x1=[]\n",
    "for x in stream:\n",
    "    x1.append(x.split(','))"
   ]
  },
  {
   "cell_type": "markdown",
   "metadata": {},
   "source": [
    "Кривой вариант"
   ]
  },
  {
   "cell_type": "code",
   "execution_count": 64,
   "metadata": {},
   "outputs": [
    {
     "name": "stdout",
     "output_type": "stream",
     "text": [
      "{'user1': 5.25, 'user2': 7.0, 'user3': 7.0, 'user4': 10.2}\n"
     ]
    }
   ],
   "source": [
    "data_={\n",
    "    'user1':sum([int(x[2]) for x in x1 if 'user1' in x[1]])/len([int(x[2]) for x in x1 if 'user1' in x[1]]),\n",
    "    'user2':sum([int(x[2]) for x in x1 if 'user2' in x[1]])/len([int(x[2]) for x in x1 if 'user2' in x[1]]),\n",
    "    'user3':sum([int(x[2]) for x in x1 if 'user3' in x[1]])/len([int(x[2]) for x in x1 if 'user3' in x[1]]),\n",
    "    'user4':sum([int(x[2]) for x in x1 if 'user4' in x[1]])/len([int(x[2]) for x in x1 if 'user4' in x[1]]),\n",
    "}\n",
    "print(data_)"
   ]
  },
  {
   "cell_type": "markdown",
   "metadata": {},
   "source": [
    "Видимо более правильный вариант, но я не знаю, как его дописать, чтобы считалось среднее значение."
   ]
  },
  {
   "cell_type": "code",
   "execution_count": null,
   "metadata": {},
   "outputs": [],
   "source": [
    "stats1 = {}\n",
    "\n",
    "for x in x1:\n",
    "    stats1.setdefault(x[1], 0)\n",
    "    stats1[x[1]] += int(x[2])\n",
    "print(stats1)"
   ]
  },
  {
   "cell_type": "code",
   "execution_count": null,
   "metadata": {},
   "outputs": [],
   "source": [
    "Это тоже не особо подходящий вариант"
   ]
  },
  {
   "cell_type": "code",
   "execution_count": 10,
   "metadata": {},
   "outputs": [
    {
     "name": "stdout",
     "output_type": "stream",
     "text": [
      "23.25\n"
     ]
    }
   ],
   "source": [
    "for x in x1:\n",
    "    sumV= sum([int(x[2]) for x in x1])\n",
    "    uniqU= len(set([(x[1]) for x in x1]))\n",
    "print(sumV/uniqU)\n",
    "    "
   ]
  },
  {
   "cell_type": "markdown",
   "metadata": {},
   "source": [
    "Задание 6"
   ]
  },
  {
   "cell_type": "code",
   "execution_count": null,
   "metadata": {},
   "outputs": [],
   "source": [
    "stats = [\n",
    "\n",
    "    ['2018-01-01', 'google', 25],\n",
    "    \n",
    "    ['2018-01-01', 'yandex', 65],\n",
    "    \n",
    "    ['2018-01-01', 'market', 89],\n",
    "    \n",
    "    ['2018-01-02', 'google', 574],\n",
    "    \n",
    "    ['2018-01-02', 'yandex', 249],\n",
    "    \n",
    "    ['2018-01-02', 'market', 994],\n",
    "    \n",
    "    \n",
    "    ['2018-01-03', 'google', 1843],\n",
    "    \n",
    "    ['2018-01-03', 'yandex', 1327],\n",
    "    \n",
    "    ['2018-01-03', 'market', 1764],\n",
    "    \n",
    "]"
   ]
  },
  {
   "cell_type": "code",
   "execution_count": null,
   "metadata": {},
   "outputs": [],
   "source": [
    "d_c = False\n",
    "date = input()\n",
    "channel = input()\n",
    "for i in range(0, len(stats)):\n",
    "    if date in stats[i] and channel in stats[i]:\n",
    "        d_c=True\n",
    "if d_c==True:\n",
    "    print([x[2] for x in stats if x[0]==date and x[1]==channel])"
   ]
  },
  {
   "cell_type": "code",
   "execution_count": null,
   "metadata": {},
   "outputs": [],
   "source": []
  }
 ],
 "metadata": {
  "kernelspec": {
   "display_name": "Python 3",
   "language": "python",
   "name": "python3"
  },
  "language_info": {
   "codemirror_mode": {
    "name": "ipython",
    "version": 3
   },
   "file_extension": ".py",
   "mimetype": "text/x-python",
   "name": "python",
   "nbconvert_exporter": "python",
   "pygments_lexer": "ipython3",
   "version": "3.7.0"
  }
 },
 "nbformat": 4,
 "nbformat_minor": 2
}
