{
 "cells": [
  {
   "cell_type": "code",
   "execution_count": 1,
   "metadata": {},
   "outputs": [],
   "source": [
    "import numpy as np\n",
    "from scipy.stats import t\n",
    "from scipy.stats import norm\n",
    "import matplotlib.pyplot as plt\n",
    "from scipy import stats\n",
    "import pandas as pd\n",
    "import seaborn as sns\n",
    "import scipy.stats as sts\n",
    "%matplotlib inline"
   ]
  },
  {
   "cell_type": "code",
   "execution_count": 2,
   "metadata": {},
   "outputs": [
    {
     "data": {
      "text/html": [
       "<div>\n",
       "<style scoped>\n",
       "    .dataframe tbody tr th:only-of-type {\n",
       "        vertical-align: middle;\n",
       "    }\n",
       "\n",
       "    .dataframe tbody tr th {\n",
       "        vertical-align: top;\n",
       "    }\n",
       "\n",
       "    .dataframe thead th {\n",
       "        text-align: right;\n",
       "    }\n",
       "</style>\n",
       "<table border=\"1\" class=\"dataframe\">\n",
       "  <thead>\n",
       "    <tr style=\"text-align: right;\">\n",
       "      <th></th>\n",
       "      <th>PERIOD</th>\n",
       "      <th>cl_id</th>\n",
       "      <th>MCC</th>\n",
       "      <th>channel_type</th>\n",
       "      <th>currency</th>\n",
       "      <th>TRDATETIME</th>\n",
       "      <th>amount</th>\n",
       "      <th>trx_category</th>\n",
       "      <th>target_flag</th>\n",
       "      <th>target_sum</th>\n",
       "    </tr>\n",
       "  </thead>\n",
       "  <tbody>\n",
       "    <tr>\n",
       "      <th>0</th>\n",
       "      <td>01/10/2017</td>\n",
       "      <td>0</td>\n",
       "      <td>5200</td>\n",
       "      <td>NaN</td>\n",
       "      <td>810</td>\n",
       "      <td>21OCT17:00:00:00</td>\n",
       "      <td>5023.0</td>\n",
       "      <td>POS</td>\n",
       "      <td>0</td>\n",
       "      <td>0.0</td>\n",
       "    </tr>\n",
       "    <tr>\n",
       "      <th>1</th>\n",
       "      <td>01/10/2017</td>\n",
       "      <td>0</td>\n",
       "      <td>6011</td>\n",
       "      <td>NaN</td>\n",
       "      <td>810</td>\n",
       "      <td>12OCT17:12:24:07</td>\n",
       "      <td>20000.0</td>\n",
       "      <td>DEPOSIT</td>\n",
       "      <td>0</td>\n",
       "      <td>0.0</td>\n",
       "    </tr>\n",
       "    <tr>\n",
       "      <th>2</th>\n",
       "      <td>01/12/2017</td>\n",
       "      <td>0</td>\n",
       "      <td>5921</td>\n",
       "      <td>NaN</td>\n",
       "      <td>810</td>\n",
       "      <td>05DEC17:00:00:00</td>\n",
       "      <td>767.0</td>\n",
       "      <td>POS</td>\n",
       "      <td>0</td>\n",
       "      <td>0.0</td>\n",
       "    </tr>\n",
       "    <tr>\n",
       "      <th>3</th>\n",
       "      <td>01/10/2017</td>\n",
       "      <td>0</td>\n",
       "      <td>5411</td>\n",
       "      <td>NaN</td>\n",
       "      <td>810</td>\n",
       "      <td>21OCT17:00:00:00</td>\n",
       "      <td>2031.0</td>\n",
       "      <td>POS</td>\n",
       "      <td>0</td>\n",
       "      <td>0.0</td>\n",
       "    </tr>\n",
       "    <tr>\n",
       "      <th>4</th>\n",
       "      <td>01/10/2017</td>\n",
       "      <td>0</td>\n",
       "      <td>6012</td>\n",
       "      <td>NaN</td>\n",
       "      <td>810</td>\n",
       "      <td>24OCT17:13:14:24</td>\n",
       "      <td>36562.0</td>\n",
       "      <td>C2C_OUT</td>\n",
       "      <td>0</td>\n",
       "      <td>0.0</td>\n",
       "    </tr>\n",
       "  </tbody>\n",
       "</table>\n",
       "</div>"
      ],
      "text/plain": [
       "       PERIOD  cl_id   MCC channel_type  currency        TRDATETIME   amount  \\\n",
       "0  01/10/2017      0  5200          NaN       810  21OCT17:00:00:00   5023.0   \n",
       "1  01/10/2017      0  6011          NaN       810  12OCT17:12:24:07  20000.0   \n",
       "2  01/12/2017      0  5921          NaN       810  05DEC17:00:00:00    767.0   \n",
       "3  01/10/2017      0  5411          NaN       810  21OCT17:00:00:00   2031.0   \n",
       "4  01/10/2017      0  6012          NaN       810  24OCT17:13:14:24  36562.0   \n",
       "\n",
       "  trx_category  target_flag  target_sum  \n",
       "0          POS            0         0.0  \n",
       "1      DEPOSIT            0         0.0  \n",
       "2          POS            0         0.0  \n",
       "3          POS            0         0.0  \n",
       "4      C2C_OUT            0         0.0  "
      ]
     },
     "execution_count": 2,
     "metadata": {},
     "output_type": "execute_result"
    }
   ],
   "source": [
    "raw_df = pd.read_csv('rosbank_train.csv')\n",
    "raw_df.head(5)"
   ]
  },
  {
   "cell_type": "code",
   "execution_count": 3,
   "metadata": {},
   "outputs": [
    {
     "name": "stdout",
     "output_type": "stream",
     "text": [
      "<class 'pandas.core.frame.DataFrame'>\n",
      "RangeIndex: 490513 entries, 0 to 490512\n",
      "Data columns (total 10 columns):\n",
      "PERIOD          490513 non-null object\n",
      "cl_id           490513 non-null int64\n",
      "MCC             490513 non-null int64\n",
      "channel_type    487603 non-null object\n",
      "currency        490513 non-null int64\n",
      "TRDATETIME      490513 non-null object\n",
      "amount          490513 non-null float64\n",
      "trx_category    490513 non-null object\n",
      "target_flag     490513 non-null int64\n",
      "target_sum      490513 non-null float64\n",
      "dtypes: float64(2), int64(4), object(4)\n",
      "memory usage: 37.4+ MB\n"
     ]
    }
   ],
   "source": [
    "raw_df.info()"
   ]
  },
  {
   "cell_type": "code",
   "execution_count": 4,
   "metadata": {},
   "outputs": [
    {
     "name": "stdout",
     "output_type": "stream",
     "text": [
      "Total clients:  5000\n"
     ]
    }
   ],
   "source": [
    "print(\"Total clients: \", len(raw_df.cl_id.unique()))"
   ]
  },
  {
   "cell_type": "code",
   "execution_count": 5,
   "metadata": {},
   "outputs": [
    {
     "data": {
      "text/html": [
       "<div>\n",
       "<style scoped>\n",
       "    .dataframe tbody tr th:only-of-type {\n",
       "        vertical-align: middle;\n",
       "    }\n",
       "\n",
       "    .dataframe tbody tr th {\n",
       "        vertical-align: top;\n",
       "    }\n",
       "\n",
       "    .dataframe thead th {\n",
       "        text-align: right;\n",
       "    }\n",
       "</style>\n",
       "<table border=\"1\" class=\"dataframe\">\n",
       "  <thead>\n",
       "    <tr style=\"text-align: right;\">\n",
       "      <th></th>\n",
       "      <th>PERIOD</th>\n",
       "      <th>cl_id</th>\n",
       "      <th>MCC</th>\n",
       "      <th>channel_type</th>\n",
       "      <th>currency</th>\n",
       "      <th>TRDATETIME</th>\n",
       "      <th>amount</th>\n",
       "      <th>trx_category</th>\n",
       "      <th>target_flag</th>\n",
       "      <th>target_sum</th>\n",
       "    </tr>\n",
       "  </thead>\n",
       "  <tbody>\n",
       "    <tr>\n",
       "      <th>0</th>\n",
       "      <td>01/10/2017</td>\n",
       "      <td>0</td>\n",
       "      <td>5200</td>\n",
       "      <td>type_NA</td>\n",
       "      <td>810</td>\n",
       "      <td>21OCT17:00:00:00</td>\n",
       "      <td>5023.0</td>\n",
       "      <td>POS</td>\n",
       "      <td>0</td>\n",
       "      <td>0.0</td>\n",
       "    </tr>\n",
       "    <tr>\n",
       "      <th>1</th>\n",
       "      <td>01/10/2017</td>\n",
       "      <td>0</td>\n",
       "      <td>6011</td>\n",
       "      <td>type_NA</td>\n",
       "      <td>810</td>\n",
       "      <td>12OCT17:12:24:07</td>\n",
       "      <td>20000.0</td>\n",
       "      <td>DEPOSIT</td>\n",
       "      <td>0</td>\n",
       "      <td>0.0</td>\n",
       "    </tr>\n",
       "    <tr>\n",
       "      <th>2</th>\n",
       "      <td>01/12/2017</td>\n",
       "      <td>0</td>\n",
       "      <td>5921</td>\n",
       "      <td>type_NA</td>\n",
       "      <td>810</td>\n",
       "      <td>05DEC17:00:00:00</td>\n",
       "      <td>767.0</td>\n",
       "      <td>POS</td>\n",
       "      <td>0</td>\n",
       "      <td>0.0</td>\n",
       "    </tr>\n",
       "    <tr>\n",
       "      <th>3</th>\n",
       "      <td>01/10/2017</td>\n",
       "      <td>0</td>\n",
       "      <td>5411</td>\n",
       "      <td>type_NA</td>\n",
       "      <td>810</td>\n",
       "      <td>21OCT17:00:00:00</td>\n",
       "      <td>2031.0</td>\n",
       "      <td>POS</td>\n",
       "      <td>0</td>\n",
       "      <td>0.0</td>\n",
       "    </tr>\n",
       "    <tr>\n",
       "      <th>4</th>\n",
       "      <td>01/10/2017</td>\n",
       "      <td>0</td>\n",
       "      <td>6012</td>\n",
       "      <td>type_NA</td>\n",
       "      <td>810</td>\n",
       "      <td>24OCT17:13:14:24</td>\n",
       "      <td>36562.0</td>\n",
       "      <td>C2C_OUT</td>\n",
       "      <td>0</td>\n",
       "      <td>0.0</td>\n",
       "    </tr>\n",
       "  </tbody>\n",
       "</table>\n",
       "</div>"
      ],
      "text/plain": [
       "       PERIOD  cl_id   MCC channel_type  currency        TRDATETIME   amount  \\\n",
       "0  01/10/2017      0  5200      type_NA       810  21OCT17:00:00:00   5023.0   \n",
       "1  01/10/2017      0  6011      type_NA       810  12OCT17:12:24:07  20000.0   \n",
       "2  01/12/2017      0  5921      type_NA       810  05DEC17:00:00:00    767.0   \n",
       "3  01/10/2017      0  5411      type_NA       810  21OCT17:00:00:00   2031.0   \n",
       "4  01/10/2017      0  6012      type_NA       810  24OCT17:13:14:24  36562.0   \n",
       "\n",
       "  trx_category  target_flag  target_sum  \n",
       "0          POS            0         0.0  \n",
       "1      DEPOSIT            0         0.0  \n",
       "2          POS            0         0.0  \n",
       "3          POS            0         0.0  \n",
       "4      C2C_OUT            0         0.0  "
      ]
     },
     "execution_count": 5,
     "metadata": {},
     "output_type": "execute_result"
    }
   ],
   "source": [
    "#Среди channel_type есть пропущенные, я решила заполнить их дополнительным channel_type 'type_NA'\n",
    "raw_df['channel_type'] =raw_df.channel_type.fillna(value = 'type_NA')\n",
    "raw_df.head()"
   ]
  },
  {
   "cell_type": "code",
   "execution_count": 6,
   "metadata": {},
   "outputs": [
    {
     "data": {
      "text/plain": [
       "<matplotlib.axes._subplots.AxesSubplot at 0x21f6bd74080>"
      ]
     },
     "execution_count": 6,
     "metadata": {},
     "output_type": "execute_result"
    },
    {
     "data": {
      "image/png": "[encoded data removed]",
      "text/plain": [
       "<Figure size 432x288 with 1 Axes>"
      ]
     },
     "metadata": {
      "needs_background": "light"
     },
     "output_type": "display_data"
    }
   ],
   "source": [
    "raw_df['MCC'].hist()"
   ]
  },
  {
   "cell_type": "code",
   "execution_count": 7,
   "metadata": {},
   "outputs": [],
   "source": [
    "#не очень понятно, какие MCC популярные, но можно сказать, что визуально распределение похоже на нормальное"
   ]
  },
  {
   "cell_type": "code",
   "execution_count": 7,
   "metadata": {},
   "outputs": [
    {
     "data": {
      "text/html": [
       "<div>\n",
       "<style scoped>\n",
       "    .dataframe tbody tr th:only-of-type {\n",
       "        vertical-align: middle;\n",
       "    }\n",
       "\n",
       "    .dataframe tbody tr th {\n",
       "        vertical-align: top;\n",
       "    }\n",
       "\n",
       "    .dataframe thead th {\n",
       "        text-align: right;\n",
       "    }\n",
       "</style>\n",
       "<table border=\"1\" class=\"dataframe\">\n",
       "  <thead>\n",
       "    <tr style=\"text-align: right;\">\n",
       "      <th></th>\n",
       "      <th>MCC</th>\n",
       "      <th>cl_id</th>\n",
       "    </tr>\n",
       "  </thead>\n",
       "  <tbody>\n",
       "    <tr>\n",
       "      <th>0</th>\n",
       "      <td>5411</td>\n",
       "      <td>121640</td>\n",
       "    </tr>\n",
       "    <tr>\n",
       "      <th>1</th>\n",
       "      <td>6011</td>\n",
       "      <td>54382</td>\n",
       "    </tr>\n",
       "    <tr>\n",
       "      <th>2</th>\n",
       "      <td>5814</td>\n",
       "      <td>41351</td>\n",
       "    </tr>\n",
       "    <tr>\n",
       "      <th>3</th>\n",
       "      <td>5812</td>\n",
       "      <td>30027</td>\n",
       "    </tr>\n",
       "    <tr>\n",
       "      <th>4</th>\n",
       "      <td>5499</td>\n",
       "      <td>27237</td>\n",
       "    </tr>\n",
       "    <tr>\n",
       "      <th>5</th>\n",
       "      <td>5541</td>\n",
       "      <td>19816</td>\n",
       "    </tr>\n",
       "    <tr>\n",
       "      <th>6</th>\n",
       "      <td>5912</td>\n",
       "      <td>18728</td>\n",
       "    </tr>\n",
       "    <tr>\n",
       "      <th>7</th>\n",
       "      <td>5999</td>\n",
       "      <td>13073</td>\n",
       "    </tr>\n",
       "    <tr>\n",
       "      <th>8</th>\n",
       "      <td>6012</td>\n",
       "      <td>10056</td>\n",
       "    </tr>\n",
       "    <tr>\n",
       "      <th>9</th>\n",
       "      <td>5921</td>\n",
       "      <td>8578</td>\n",
       "    </tr>\n",
       "    <tr>\n",
       "      <th>10</th>\n",
       "      <td>5331</td>\n",
       "      <td>7641</td>\n",
       "    </tr>\n",
       "    <tr>\n",
       "      <th>11</th>\n",
       "      <td>4121</td>\n",
       "      <td>6266</td>\n",
       "    </tr>\n",
       "    <tr>\n",
       "      <th>12</th>\n",
       "      <td>5211</td>\n",
       "      <td>6262</td>\n",
       "    </tr>\n",
       "    <tr>\n",
       "      <th>13</th>\n",
       "      <td>4829</td>\n",
       "      <td>6205</td>\n",
       "    </tr>\n",
       "    <tr>\n",
       "      <th>14</th>\n",
       "      <td>5691</td>\n",
       "      <td>5161</td>\n",
       "    </tr>\n",
       "  </tbody>\n",
       "</table>\n",
       "</div>"
      ],
      "text/plain": [
       "     MCC   cl_id\n",
       "0   5411  121640\n",
       "1   6011   54382\n",
       "2   5814   41351\n",
       "3   5812   30027\n",
       "4   5499   27237\n",
       "5   5541   19816\n",
       "6   5912   18728\n",
       "7   5999   13073\n",
       "8   6012   10056\n",
       "9   5921    8578\n",
       "10  5331    7641\n",
       "11  4121    6266\n",
       "12  5211    6262\n",
       "13  4829    6205\n",
       "14  5691    5161"
      ]
     },
     "execution_count": 7,
     "metadata": {},
     "output_type": "execute_result"
    }
   ],
   "source": [
    "#Можно посмотреть топ-15 MCC\n",
    "top_15_MCC=raw_df.groupby('MCC').count()[['cl_id']].sort_values('cl_id', ascending=False).reset_index().head(15)\n",
    "top_15_MCC"
   ]
  },
  {
   "cell_type": "code",
   "execution_count": 8,
   "metadata": {},
   "outputs": [
    {
     "data": {
      "text/plain": [
       "<matplotlib.axes._subplots.AxesSubplot at 0x21f6be46da0>"
      ]
     },
     "execution_count": 8,
     "metadata": {},
     "output_type": "execute_result"
    },
    {
     "data": {
      "image/png": "[encoded data removed]",
      "text/plain": [
       "<Figure size 720x360 with 1 Axes>"
      ]
     },
     "metadata": {
      "needs_background": "light"
     },
     "output_type": "display_data"
    }
   ],
   "source": [
    "raw_df['currency'].hist(bins = 100,figsize=(10,5)) "
   ]
  },
  {
   "cell_type": "code",
   "execution_count": 9,
   "metadata": {},
   "outputs": [
    {
     "data": {
      "text/html": [
       "<div>\n",
       "<style scoped>\n",
       "    .dataframe tbody tr th:only-of-type {\n",
       "        vertical-align: middle;\n",
       "    }\n",
       "\n",
       "    .dataframe tbody tr th {\n",
       "        vertical-align: top;\n",
       "    }\n",
       "\n",
       "    .dataframe thead th {\n",
       "        text-align: right;\n",
       "    }\n",
       "</style>\n",
       "<table border=\"1\" class=\"dataframe\">\n",
       "  <thead>\n",
       "    <tr style=\"text-align: right;\">\n",
       "      <th></th>\n",
       "      <th>currency</th>\n",
       "      <th>cl_id</th>\n",
       "    </tr>\n",
       "  </thead>\n",
       "  <tbody>\n",
       "    <tr>\n",
       "      <th>0</th>\n",
       "      <td>810</td>\n",
       "      <td>477644</td>\n",
       "    </tr>\n",
       "    <tr>\n",
       "      <th>1</th>\n",
       "      <td>978</td>\n",
       "      <td>5536</td>\n",
       "    </tr>\n",
       "    <tr>\n",
       "      <th>2</th>\n",
       "      <td>840</td>\n",
       "      <td>1921</td>\n",
       "    </tr>\n",
       "    <tr>\n",
       "      <th>3</th>\n",
       "      <td>933</td>\n",
       "      <td>561</td>\n",
       "    </tr>\n",
       "    <tr>\n",
       "      <th>4</th>\n",
       "      <td>985</td>\n",
       "      <td>423</td>\n",
       "    </tr>\n",
       "  </tbody>\n",
       "</table>\n",
       "</div>"
      ],
      "text/plain": [
       "   currency   cl_id\n",
       "0       810  477644\n",
       "1       978    5536\n",
       "2       840    1921\n",
       "3       933     561\n",
       "4       985     423"
      ]
     },
     "execution_count": 9,
     "metadata": {},
     "output_type": "execute_result"
    }
   ],
   "source": [
    "#Можно посмотреть топ-5 currency\n",
    "top_5_currency=raw_df.groupby('currency').count()[['cl_id']].sort_values('cl_id', ascending=False).reset_index().head(5)\n",
    "top_5_currency\n",
    "#Рублевые операции - самые часто встречающиеся (как неожиданно)"
   ]
  },
  {
   "cell_type": "code",
   "execution_count": 37,
   "metadata": {},
   "outputs": [],
   "source": [
    "#POS – оплата через POS терминал,  \n",
    "#C2C_OUT – перевод на карту (исходящий платёж), \n",
    "#C2C_IN – перевод на карту (входящий платёж),  \n",
    "#DEPOSIT – пополнение карты в банкомате, \n",
    "#WD_ATM_PARTNER – снятие наличных в банкоматах партнерах, \n",
    "#WD_ATM_ROS – снятие наличных в банкоматах Росбанка, \n",
    "#BACK_TRX – возврат средств при возврате покупки, \n",
    "#WD_ATM_OTHER – снятия в других банкоматах, \n",
    "#CAT – операции в банкоматах, \n",
    "#CASH_ADV – снятие карты в кассе банка."
   ]
  },
  {
   "cell_type": "code",
   "execution_count": 10,
   "metadata": {},
   "outputs": [
    {
     "data": {
      "text/html": [
       "<div>\n",
       "<style scoped>\n",
       "    .dataframe tbody tr th:only-of-type {\n",
       "        vertical-align: middle;\n",
       "    }\n",
       "\n",
       "    .dataframe tbody tr th {\n",
       "        vertical-align: top;\n",
       "    }\n",
       "\n",
       "    .dataframe thead th {\n",
       "        text-align: right;\n",
       "    }\n",
       "</style>\n",
       "<table border=\"1\" class=\"dataframe\">\n",
       "  <thead>\n",
       "    <tr style=\"text-align: right;\">\n",
       "      <th></th>\n",
       "      <th>trx_category</th>\n",
       "      <th>cl_id</th>\n",
       "    </tr>\n",
       "  </thead>\n",
       "  <tbody>\n",
       "    <tr>\n",
       "      <th>0</th>\n",
       "      <td>POS</td>\n",
       "      <td>416425</td>\n",
       "    </tr>\n",
       "    <tr>\n",
       "      <th>1</th>\n",
       "      <td>DEPOSIT</td>\n",
       "      <td>21216</td>\n",
       "    </tr>\n",
       "    <tr>\n",
       "      <th>2</th>\n",
       "      <td>WD_ATM_ROS</td>\n",
       "      <td>19104</td>\n",
       "    </tr>\n",
       "    <tr>\n",
       "      <th>3</th>\n",
       "      <td>WD_ATM_PARTNER</td>\n",
       "      <td>9948</td>\n",
       "    </tr>\n",
       "    <tr>\n",
       "      <th>4</th>\n",
       "      <td>C2C_IN</td>\n",
       "      <td>7306</td>\n",
       "    </tr>\n",
       "    <tr>\n",
       "      <th>5</th>\n",
       "      <td>WD_ATM_OTHER</td>\n",
       "      <td>7140</td>\n",
       "    </tr>\n",
       "    <tr>\n",
       "      <th>6</th>\n",
       "      <td>C2C_OUT</td>\n",
       "      <td>5456</td>\n",
       "    </tr>\n",
       "    <tr>\n",
       "      <th>7</th>\n",
       "      <td>BACK_TRX</td>\n",
       "      <td>2687</td>\n",
       "    </tr>\n",
       "    <tr>\n",
       "      <th>8</th>\n",
       "      <td>CAT</td>\n",
       "      <td>1197</td>\n",
       "    </tr>\n",
       "    <tr>\n",
       "      <th>9</th>\n",
       "      <td>CASH_ADV</td>\n",
       "      <td>34</td>\n",
       "    </tr>\n",
       "  </tbody>\n",
       "</table>\n",
       "</div>"
      ],
      "text/plain": [
       "     trx_category   cl_id\n",
       "0             POS  416425\n",
       "1         DEPOSIT   21216\n",
       "2      WD_ATM_ROS   19104\n",
       "3  WD_ATM_PARTNER    9948\n",
       "4          C2C_IN    7306\n",
       "5    WD_ATM_OTHER    7140\n",
       "6         C2C_OUT    5456\n",
       "7        BACK_TRX    2687\n",
       "8             CAT    1197\n",
       "9        CASH_ADV      34"
      ]
     },
     "execution_count": 10,
     "metadata": {},
     "output_type": "execute_result"
    }
   ],
   "source": [
    "#Топ trx_category\n",
    "raw_df.groupby('trx_category').count()[['cl_id']].sort_values('cl_id', ascending=False).reset_index()\n",
    "#С огромным перевесом лидируют pos транзакции. Это транзакции по банковской карте."
   ]
  },
  {
   "cell_type": "code",
   "execution_count": 11,
   "metadata": {},
   "outputs": [
    {
     "data": {
      "text/html": [
       "<div>\n",
       "<style scoped>\n",
       "    .dataframe tbody tr th:only-of-type {\n",
       "        vertical-align: middle;\n",
       "    }\n",
       "\n",
       "    .dataframe tbody tr th {\n",
       "        vertical-align: top;\n",
       "    }\n",
       "\n",
       "    .dataframe thead th {\n",
       "        text-align: right;\n",
       "    }\n",
       "</style>\n",
       "<table border=\"1\" class=\"dataframe\">\n",
       "  <thead>\n",
       "    <tr style=\"text-align: right;\">\n",
       "      <th></th>\n",
       "      <th>trx_category</th>\n",
       "      <th>amount</th>\n",
       "    </tr>\n",
       "  </thead>\n",
       "  <tbody>\n",
       "    <tr>\n",
       "      <th>0</th>\n",
       "      <td>POS</td>\n",
       "      <td>1.013062e+09</td>\n",
       "    </tr>\n",
       "    <tr>\n",
       "      <th>1</th>\n",
       "      <td>WD_ATM_ROS</td>\n",
       "      <td>6.680845e+08</td>\n",
       "    </tr>\n",
       "    <tr>\n",
       "      <th>2</th>\n",
       "      <td>DEPOSIT</td>\n",
       "      <td>4.827459e+08</td>\n",
       "    </tr>\n",
       "    <tr>\n",
       "      <th>3</th>\n",
       "      <td>WD_ATM_PARTNER</td>\n",
       "      <td>3.327178e+08</td>\n",
       "    </tr>\n",
       "    <tr>\n",
       "      <th>4</th>\n",
       "      <td>C2C_IN</td>\n",
       "      <td>9.989715e+07</td>\n",
       "    </tr>\n",
       "    <tr>\n",
       "      <th>5</th>\n",
       "      <td>C2C_OUT</td>\n",
       "      <td>8.807488e+07</td>\n",
       "    </tr>\n",
       "    <tr>\n",
       "      <th>6</th>\n",
       "      <td>WD_ATM_OTHER</td>\n",
       "      <td>7.478062e+07</td>\n",
       "    </tr>\n",
       "    <tr>\n",
       "      <th>7</th>\n",
       "      <td>BACK_TRX</td>\n",
       "      <td>2.461917e+07</td>\n",
       "    </tr>\n",
       "    <tr>\n",
       "      <th>8</th>\n",
       "      <td>CAT</td>\n",
       "      <td>2.260286e+07</td>\n",
       "    </tr>\n",
       "    <tr>\n",
       "      <th>9</th>\n",
       "      <td>CASH_ADV</td>\n",
       "      <td>9.128249e+05</td>\n",
       "    </tr>\n",
       "  </tbody>\n",
       "</table>\n",
       "</div>"
      ],
      "text/plain": [
       "     trx_category        amount\n",
       "0             POS  1.013062e+09\n",
       "1      WD_ATM_ROS  6.680845e+08\n",
       "2         DEPOSIT  4.827459e+08\n",
       "3  WD_ATM_PARTNER  3.327178e+08\n",
       "4          C2C_IN  9.989715e+07\n",
       "5         C2C_OUT  8.807488e+07\n",
       "6    WD_ATM_OTHER  7.478062e+07\n",
       "7        BACK_TRX  2.461917e+07\n",
       "8             CAT  2.260286e+07\n",
       "9        CASH_ADV  9.128249e+05"
      ]
     },
     "execution_count": 11,
     "metadata": {},
     "output_type": "execute_result"
    }
   ],
   "source": [
    "raw_df.groupby('trx_category').sum()[['amount']].sort_values('amount', ascending=False).reset_index()"
   ]
  },
  {
   "cell_type": "code",
   "execution_count": 13,
   "metadata": {},
   "outputs": [],
   "source": [
    "#И больше всего денег приходится на pos операции"
   ]
  },
  {
   "cell_type": "code",
   "execution_count": 14,
   "metadata": {},
   "outputs": [],
   "source": [
    "#а теперь все тоже самое, количество и суммы по trx_category, но отдельно по неотточным и отточным"
   ]
  },
  {
   "cell_type": "code",
   "execution_count": 15,
   "metadata": {},
   "outputs": [
    {
     "data": {
      "text/html": [
       "<div>\n",
       "<style scoped>\n",
       "    .dataframe tbody tr th:only-of-type {\n",
       "        vertical-align: middle;\n",
       "    }\n",
       "\n",
       "    .dataframe tbody tr th {\n",
       "        vertical-align: top;\n",
       "    }\n",
       "\n",
       "    .dataframe thead th {\n",
       "        text-align: right;\n",
       "    }\n",
       "</style>\n",
       "<table border=\"1\" class=\"dataframe\">\n",
       "  <thead>\n",
       "    <tr style=\"text-align: right;\">\n",
       "      <th></th>\n",
       "      <th>trx_category</th>\n",
       "      <th>cl_id</th>\n",
       "    </tr>\n",
       "  </thead>\n",
       "  <tbody>\n",
       "    <tr>\n",
       "      <th>0</th>\n",
       "      <td>POS</td>\n",
       "      <td>143428</td>\n",
       "    </tr>\n",
       "    <tr>\n",
       "      <th>1</th>\n",
       "      <td>DEPOSIT</td>\n",
       "      <td>11316</td>\n",
       "    </tr>\n",
       "    <tr>\n",
       "      <th>2</th>\n",
       "      <td>WD_ATM_ROS</td>\n",
       "      <td>5496</td>\n",
       "    </tr>\n",
       "    <tr>\n",
       "      <th>3</th>\n",
       "      <td>C2C_IN</td>\n",
       "      <td>3341</td>\n",
       "    </tr>\n",
       "    <tr>\n",
       "      <th>4</th>\n",
       "      <td>WD_ATM_PARTNER</td>\n",
       "      <td>2853</td>\n",
       "    </tr>\n",
       "    <tr>\n",
       "      <th>5</th>\n",
       "      <td>C2C_OUT</td>\n",
       "      <td>1786</td>\n",
       "    </tr>\n",
       "    <tr>\n",
       "      <th>6</th>\n",
       "      <td>BACK_TRX</td>\n",
       "      <td>1103</td>\n",
       "    </tr>\n",
       "    <tr>\n",
       "      <th>7</th>\n",
       "      <td>WD_ATM_OTHER</td>\n",
       "      <td>771</td>\n",
       "    </tr>\n",
       "    <tr>\n",
       "      <th>8</th>\n",
       "      <td>CAT</td>\n",
       "      <td>300</td>\n",
       "    </tr>\n",
       "    <tr>\n",
       "      <th>9</th>\n",
       "      <td>CASH_ADV</td>\n",
       "      <td>16</td>\n",
       "    </tr>\n",
       "  </tbody>\n",
       "</table>\n",
       "</div>"
      ],
      "text/plain": [
       "     trx_category   cl_id\n",
       "0             POS  143428\n",
       "1         DEPOSIT   11316\n",
       "2      WD_ATM_ROS    5496\n",
       "3          C2C_IN    3341\n",
       "4  WD_ATM_PARTNER    2853\n",
       "5         C2C_OUT    1786\n",
       "6        BACK_TRX    1103\n",
       "7    WD_ATM_OTHER     771\n",
       "8             CAT     300\n",
       "9        CASH_ADV      16"
      ]
     },
     "execution_count": 15,
     "metadata": {},
     "output_type": "execute_result"
    }
   ],
   "source": [
    "#неушедшие\n",
    "raw_df[raw_df['target_flag']==0].groupby('trx_category').count()[['cl_id']].sort_values('cl_id', ascending=False).reset_index()"
   ]
  },
  {
   "cell_type": "code",
   "execution_count": 16,
   "metadata": {},
   "outputs": [
    {
     "data": {
      "text/html": [
       "<div>\n",
       "<style scoped>\n",
       "    .dataframe tbody tr th:only-of-type {\n",
       "        vertical-align: middle;\n",
       "    }\n",
       "\n",
       "    .dataframe tbody tr th {\n",
       "        vertical-align: top;\n",
       "    }\n",
       "\n",
       "    .dataframe thead th {\n",
       "        text-align: right;\n",
       "    }\n",
       "</style>\n",
       "<table border=\"1\" class=\"dataframe\">\n",
       "  <thead>\n",
       "    <tr style=\"text-align: right;\">\n",
       "      <th></th>\n",
       "      <th>trx_category</th>\n",
       "      <th>amount</th>\n",
       "    </tr>\n",
       "  </thead>\n",
       "  <tbody>\n",
       "    <tr>\n",
       "      <th>0</th>\n",
       "      <td>POS</td>\n",
       "      <td>3.024480e+08</td>\n",
       "    </tr>\n",
       "    <tr>\n",
       "      <th>1</th>\n",
       "      <td>WD_ATM_ROS</td>\n",
       "      <td>2.644598e+08</td>\n",
       "    </tr>\n",
       "    <tr>\n",
       "      <th>2</th>\n",
       "      <td>DEPOSIT</td>\n",
       "      <td>2.059163e+08</td>\n",
       "    </tr>\n",
       "    <tr>\n",
       "      <th>3</th>\n",
       "      <td>WD_ATM_PARTNER</td>\n",
       "      <td>1.642713e+08</td>\n",
       "    </tr>\n",
       "    <tr>\n",
       "      <th>4</th>\n",
       "      <td>C2C_IN</td>\n",
       "      <td>4.359287e+07</td>\n",
       "    </tr>\n",
       "    <tr>\n",
       "      <th>5</th>\n",
       "      <td>C2C_OUT</td>\n",
       "      <td>3.092606e+07</td>\n",
       "    </tr>\n",
       "    <tr>\n",
       "      <th>6</th>\n",
       "      <td>BACK_TRX</td>\n",
       "      <td>1.095609e+07</td>\n",
       "    </tr>\n",
       "    <tr>\n",
       "      <th>7</th>\n",
       "      <td>WD_ATM_OTHER</td>\n",
       "      <td>6.468331e+06</td>\n",
       "    </tr>\n",
       "    <tr>\n",
       "      <th>8</th>\n",
       "      <td>CAT</td>\n",
       "      <td>5.811950e+06</td>\n",
       "    </tr>\n",
       "    <tr>\n",
       "      <th>9</th>\n",
       "      <td>CASH_ADV</td>\n",
       "      <td>5.247632e+05</td>\n",
       "    </tr>\n",
       "  </tbody>\n",
       "</table>\n",
       "</div>"
      ],
      "text/plain": [
       "     trx_category        amount\n",
       "0             POS  3.024480e+08\n",
       "1      WD_ATM_ROS  2.644598e+08\n",
       "2         DEPOSIT  2.059163e+08\n",
       "3  WD_ATM_PARTNER  1.642713e+08\n",
       "4          C2C_IN  4.359287e+07\n",
       "5         C2C_OUT  3.092606e+07\n",
       "6        BACK_TRX  1.095609e+07\n",
       "7    WD_ATM_OTHER  6.468331e+06\n",
       "8             CAT  5.811950e+06\n",
       "9        CASH_ADV  5.247632e+05"
      ]
     },
     "execution_count": 16,
     "metadata": {},
     "output_type": "execute_result"
    }
   ],
   "source": [
    "raw_df[raw_df['target_flag']==0].groupby('trx_category').sum()[['amount']].sort_values('amount', ascending=False).reset_index()"
   ]
  },
  {
   "cell_type": "code",
   "execution_count": 17,
   "metadata": {},
   "outputs": [
    {
     "data": {
      "text/html": [
       "<div>\n",
       "<style scoped>\n",
       "    .dataframe tbody tr th:only-of-type {\n",
       "        vertical-align: middle;\n",
       "    }\n",
       "\n",
       "    .dataframe tbody tr th {\n",
       "        vertical-align: top;\n",
       "    }\n",
       "\n",
       "    .dataframe thead th {\n",
       "        text-align: right;\n",
       "    }\n",
       "</style>\n",
       "<table border=\"1\" class=\"dataframe\">\n",
       "  <thead>\n",
       "    <tr style=\"text-align: right;\">\n",
       "      <th></th>\n",
       "      <th>trx_category</th>\n",
       "      <th>cl_id</th>\n",
       "    </tr>\n",
       "  </thead>\n",
       "  <tbody>\n",
       "    <tr>\n",
       "      <th>0</th>\n",
       "      <td>POS</td>\n",
       "      <td>272997</td>\n",
       "    </tr>\n",
       "    <tr>\n",
       "      <th>1</th>\n",
       "      <td>WD_ATM_ROS</td>\n",
       "      <td>13608</td>\n",
       "    </tr>\n",
       "    <tr>\n",
       "      <th>2</th>\n",
       "      <td>DEPOSIT</td>\n",
       "      <td>9900</td>\n",
       "    </tr>\n",
       "    <tr>\n",
       "      <th>3</th>\n",
       "      <td>WD_ATM_PARTNER</td>\n",
       "      <td>7095</td>\n",
       "    </tr>\n",
       "    <tr>\n",
       "      <th>4</th>\n",
       "      <td>WD_ATM_OTHER</td>\n",
       "      <td>6369</td>\n",
       "    </tr>\n",
       "    <tr>\n",
       "      <th>5</th>\n",
       "      <td>C2C_IN</td>\n",
       "      <td>3965</td>\n",
       "    </tr>\n",
       "    <tr>\n",
       "      <th>6</th>\n",
       "      <td>C2C_OUT</td>\n",
       "      <td>3670</td>\n",
       "    </tr>\n",
       "    <tr>\n",
       "      <th>7</th>\n",
       "      <td>BACK_TRX</td>\n",
       "      <td>1584</td>\n",
       "    </tr>\n",
       "    <tr>\n",
       "      <th>8</th>\n",
       "      <td>CAT</td>\n",
       "      <td>897</td>\n",
       "    </tr>\n",
       "    <tr>\n",
       "      <th>9</th>\n",
       "      <td>CASH_ADV</td>\n",
       "      <td>18</td>\n",
       "    </tr>\n",
       "  </tbody>\n",
       "</table>\n",
       "</div>"
      ],
      "text/plain": [
       "     trx_category   cl_id\n",
       "0             POS  272997\n",
       "1      WD_ATM_ROS   13608\n",
       "2         DEPOSIT    9900\n",
       "3  WD_ATM_PARTNER    7095\n",
       "4    WD_ATM_OTHER    6369\n",
       "5          C2C_IN    3965\n",
       "6         C2C_OUT    3670\n",
       "7        BACK_TRX    1584\n",
       "8             CAT     897\n",
       "9        CASH_ADV      18"
      ]
     },
     "execution_count": 17,
     "metadata": {},
     "output_type": "execute_result"
    }
   ],
   "source": [
    "#ушедшие\n",
    "raw_df[raw_df['target_flag']==1].groupby('trx_category').count()[['cl_id']].sort_values('cl_id', ascending=False).reset_index()"
   ]
  },
  {
   "cell_type": "code",
   "execution_count": 18,
   "metadata": {},
   "outputs": [
    {
     "data": {
      "text/html": [
       "<div>\n",
       "<style scoped>\n",
       "    .dataframe tbody tr th:only-of-type {\n",
       "        vertical-align: middle;\n",
       "    }\n",
       "\n",
       "    .dataframe tbody tr th {\n",
       "        vertical-align: top;\n",
       "    }\n",
       "\n",
       "    .dataframe thead th {\n",
       "        text-align: right;\n",
       "    }\n",
       "</style>\n",
       "<table border=\"1\" class=\"dataframe\">\n",
       "  <thead>\n",
       "    <tr style=\"text-align: right;\">\n",
       "      <th></th>\n",
       "      <th>trx_category</th>\n",
       "      <th>amount</th>\n",
       "    </tr>\n",
       "  </thead>\n",
       "  <tbody>\n",
       "    <tr>\n",
       "      <th>0</th>\n",
       "      <td>POS</td>\n",
       "      <td>7.106139e+08</td>\n",
       "    </tr>\n",
       "    <tr>\n",
       "      <th>1</th>\n",
       "      <td>WD_ATM_ROS</td>\n",
       "      <td>4.036246e+08</td>\n",
       "    </tr>\n",
       "    <tr>\n",
       "      <th>2</th>\n",
       "      <td>DEPOSIT</td>\n",
       "      <td>2.768296e+08</td>\n",
       "    </tr>\n",
       "    <tr>\n",
       "      <th>3</th>\n",
       "      <td>WD_ATM_PARTNER</td>\n",
       "      <td>1.684464e+08</td>\n",
       "    </tr>\n",
       "    <tr>\n",
       "      <th>4</th>\n",
       "      <td>WD_ATM_OTHER</td>\n",
       "      <td>6.831229e+07</td>\n",
       "    </tr>\n",
       "    <tr>\n",
       "      <th>5</th>\n",
       "      <td>C2C_OUT</td>\n",
       "      <td>5.714881e+07</td>\n",
       "    </tr>\n",
       "    <tr>\n",
       "      <th>6</th>\n",
       "      <td>C2C_IN</td>\n",
       "      <td>5.630428e+07</td>\n",
       "    </tr>\n",
       "    <tr>\n",
       "      <th>7</th>\n",
       "      <td>CAT</td>\n",
       "      <td>1.679091e+07</td>\n",
       "    </tr>\n",
       "    <tr>\n",
       "      <th>8</th>\n",
       "      <td>BACK_TRX</td>\n",
       "      <td>1.366308e+07</td>\n",
       "    </tr>\n",
       "    <tr>\n",
       "      <th>9</th>\n",
       "      <td>CASH_ADV</td>\n",
       "      <td>3.880618e+05</td>\n",
       "    </tr>\n",
       "  </tbody>\n",
       "</table>\n",
       "</div>"
      ],
      "text/plain": [
       "     trx_category        amount\n",
       "0             POS  7.106139e+08\n",
       "1      WD_ATM_ROS  4.036246e+08\n",
       "2         DEPOSIT  2.768296e+08\n",
       "3  WD_ATM_PARTNER  1.684464e+08\n",
       "4    WD_ATM_OTHER  6.831229e+07\n",
       "5         C2C_OUT  5.714881e+07\n",
       "6          C2C_IN  5.630428e+07\n",
       "7             CAT  1.679091e+07\n",
       "8        BACK_TRX  1.366308e+07\n",
       "9        CASH_ADV  3.880618e+05"
      ]
     },
     "execution_count": 18,
     "metadata": {},
     "output_type": "execute_result"
    }
   ],
   "source": [
    "raw_df[raw_df['target_flag']==1].groupby('trx_category').sum()[['amount']].sort_values('amount', ascending=False).reset_index()"
   ]
  },
  {
   "cell_type": "code",
   "execution_count": 40,
   "metadata": {},
   "outputs": [
    {
     "data": {
      "text/html": [
       "<div>\n",
       "<style scoped>\n",
       "    .dataframe tbody tr th:only-of-type {\n",
       "        vertical-align: middle;\n",
       "    }\n",
       "\n",
       "    .dataframe tbody tr th {\n",
       "        vertical-align: top;\n",
       "    }\n",
       "\n",
       "    .dataframe thead th {\n",
       "        text-align: right;\n",
       "    }\n",
       "</style>\n",
       "<table border=\"1\" class=\"dataframe\">\n",
       "  <thead>\n",
       "    <tr style=\"text-align: right;\">\n",
       "      <th></th>\n",
       "      <th>trx_category</th>\n",
       "      <th>cl_id_x</th>\n",
       "      <th>cl_id_y</th>\n",
       "      <th>diff</th>\n",
       "      <th>diff_part</th>\n",
       "    </tr>\n",
       "  </thead>\n",
       "  <tbody>\n",
       "    <tr>\n",
       "      <th>0</th>\n",
       "      <td>BACK_TRX</td>\n",
       "      <td>1103</td>\n",
       "      <td>1584</td>\n",
       "      <td>481</td>\n",
       "      <td>0.436083</td>\n",
       "    </tr>\n",
       "    <tr>\n",
       "      <th>1</th>\n",
       "      <td>C2C_IN</td>\n",
       "      <td>3341</td>\n",
       "      <td>3965</td>\n",
       "      <td>624</td>\n",
       "      <td>0.186770</td>\n",
       "    </tr>\n",
       "    <tr>\n",
       "      <th>2</th>\n",
       "      <td>C2C_OUT</td>\n",
       "      <td>1786</td>\n",
       "      <td>3670</td>\n",
       "      <td>1884</td>\n",
       "      <td>1.054871</td>\n",
       "    </tr>\n",
       "    <tr>\n",
       "      <th>3</th>\n",
       "      <td>CASH_ADV</td>\n",
       "      <td>16</td>\n",
       "      <td>18</td>\n",
       "      <td>2</td>\n",
       "      <td>0.125000</td>\n",
       "    </tr>\n",
       "    <tr>\n",
       "      <th>4</th>\n",
       "      <td>CAT</td>\n",
       "      <td>300</td>\n",
       "      <td>897</td>\n",
       "      <td>597</td>\n",
       "      <td>1.990000</td>\n",
       "    </tr>\n",
       "    <tr>\n",
       "      <th>5</th>\n",
       "      <td>DEPOSIT</td>\n",
       "      <td>11316</td>\n",
       "      <td>9900</td>\n",
       "      <td>-1416</td>\n",
       "      <td>-0.125133</td>\n",
       "    </tr>\n",
       "    <tr>\n",
       "      <th>6</th>\n",
       "      <td>POS</td>\n",
       "      <td>143428</td>\n",
       "      <td>272997</td>\n",
       "      <td>129569</td>\n",
       "      <td>0.903373</td>\n",
       "    </tr>\n",
       "    <tr>\n",
       "      <th>7</th>\n",
       "      <td>WD_ATM_OTHER</td>\n",
       "      <td>771</td>\n",
       "      <td>6369</td>\n",
       "      <td>5598</td>\n",
       "      <td>7.260700</td>\n",
       "    </tr>\n",
       "    <tr>\n",
       "      <th>8</th>\n",
       "      <td>WD_ATM_PARTNER</td>\n",
       "      <td>2853</td>\n",
       "      <td>7095</td>\n",
       "      <td>4242</td>\n",
       "      <td>1.486856</td>\n",
       "    </tr>\n",
       "    <tr>\n",
       "      <th>9</th>\n",
       "      <td>WD_ATM_ROS</td>\n",
       "      <td>5496</td>\n",
       "      <td>13608</td>\n",
       "      <td>8112</td>\n",
       "      <td>1.475983</td>\n",
       "    </tr>\n",
       "  </tbody>\n",
       "</table>\n",
       "</div>"
      ],
      "text/plain": [
       "     trx_category  cl_id_x  cl_id_y    diff  diff_part\n",
       "0        BACK_TRX     1103     1584     481   0.436083\n",
       "1          C2C_IN     3341     3965     624   0.186770\n",
       "2         C2C_OUT     1786     3670    1884   1.054871\n",
       "3        CASH_ADV       16       18       2   0.125000\n",
       "4             CAT      300      897     597   1.990000\n",
       "5         DEPOSIT    11316     9900   -1416  -0.125133\n",
       "6             POS   143428   272997  129569   0.903373\n",
       "7    WD_ATM_OTHER      771     6369    5598   7.260700\n",
       "8  WD_ATM_PARTNER     2853     7095    4242   1.486856\n",
       "9      WD_ATM_ROS     5496    13608    8112   1.475983"
      ]
     },
     "execution_count": 40,
     "metadata": {},
     "output_type": "execute_result"
    }
   ],
   "source": [
    "rf_count_trx_category_traget0=raw_df[raw_df['target_flag']==0].groupby('trx_category').count()[['cl_id']].sort_values('trx_category', ascending=True).reset_index()\n",
    "rf_count_trx_category_traget1=raw_df[raw_df['target_flag']==1].groupby('trx_category').count()[['cl_id']].sort_values('trx_category', ascending=True).reset_index()\n",
    "rf_count_trx_category_traget=rf_count_trx_category_traget0.merge(rf_count_trx_category_traget1, how = 'left', on = 'trx_category')\n",
    "rf_count_trx_category_traget['diff']=rf_count_trx_category_traget['cl_id_y']-rf_count_trx_category_traget['cl_id_x']\n",
    "rf_count_trx_category_traget['diff_part']=rf_count_trx_category_traget['diff']/rf_count_trx_category_traget['cl_id_x']\n",
    "rf_count_trx_category_traget"
   ]
  },
  {
   "cell_type": "code",
   "execution_count": 39,
   "metadata": {},
   "outputs": [],
   "source": [
    "#У отточных в разы больше операций по снятию наличных, особенно по снятию наличных в других банках (WD_ATM_OTHER)"
   ]
  },
  {
   "cell_type": "code",
   "execution_count": 41,
   "metadata": {},
   "outputs": [
    {
     "data": {
      "text/html": [
       "<div>\n",
       "<style scoped>\n",
       "    .dataframe tbody tr th:only-of-type {\n",
       "        vertical-align: middle;\n",
       "    }\n",
       "\n",
       "    .dataframe tbody tr th {\n",
       "        vertical-align: top;\n",
       "    }\n",
       "\n",
       "    .dataframe thead th {\n",
       "        text-align: right;\n",
       "    }\n",
       "</style>\n",
       "<table border=\"1\" class=\"dataframe\">\n",
       "  <thead>\n",
       "    <tr style=\"text-align: right;\">\n",
       "      <th></th>\n",
       "      <th>trx_category</th>\n",
       "      <th>amount_x</th>\n",
       "      <th>amount_y</th>\n",
       "      <th>diff</th>\n",
       "      <th>diff_part</th>\n",
       "    </tr>\n",
       "  </thead>\n",
       "  <tbody>\n",
       "    <tr>\n",
       "      <th>0</th>\n",
       "      <td>BACK_TRX</td>\n",
       "      <td>1.095609e+07</td>\n",
       "      <td>1.366308e+07</td>\n",
       "      <td>2.706988e+06</td>\n",
       "      <td>0.247076</td>\n",
       "    </tr>\n",
       "    <tr>\n",
       "      <th>1</th>\n",
       "      <td>C2C_IN</td>\n",
       "      <td>4.359287e+07</td>\n",
       "      <td>5.630428e+07</td>\n",
       "      <td>1.271141e+07</td>\n",
       "      <td>0.291594</td>\n",
       "    </tr>\n",
       "    <tr>\n",
       "      <th>2</th>\n",
       "      <td>C2C_OUT</td>\n",
       "      <td>3.092606e+07</td>\n",
       "      <td>5.714881e+07</td>\n",
       "      <td>2.622275e+07</td>\n",
       "      <td>0.847917</td>\n",
       "    </tr>\n",
       "    <tr>\n",
       "      <th>3</th>\n",
       "      <td>CASH_ADV</td>\n",
       "      <td>5.247632e+05</td>\n",
       "      <td>3.880618e+05</td>\n",
       "      <td>-1.367014e+05</td>\n",
       "      <td>-0.260501</td>\n",
       "    </tr>\n",
       "    <tr>\n",
       "      <th>4</th>\n",
       "      <td>CAT</td>\n",
       "      <td>5.811950e+06</td>\n",
       "      <td>1.679091e+07</td>\n",
       "      <td>1.097896e+07</td>\n",
       "      <td>1.889032</td>\n",
       "    </tr>\n",
       "    <tr>\n",
       "      <th>5</th>\n",
       "      <td>DEPOSIT</td>\n",
       "      <td>2.059163e+08</td>\n",
       "      <td>2.768296e+08</td>\n",
       "      <td>7.091334e+07</td>\n",
       "      <td>0.344379</td>\n",
       "    </tr>\n",
       "    <tr>\n",
       "      <th>6</th>\n",
       "      <td>POS</td>\n",
       "      <td>3.024480e+08</td>\n",
       "      <td>7.106139e+08</td>\n",
       "      <td>4.081659e+08</td>\n",
       "      <td>1.349541</td>\n",
       "    </tr>\n",
       "    <tr>\n",
       "      <th>7</th>\n",
       "      <td>WD_ATM_OTHER</td>\n",
       "      <td>6.468331e+06</td>\n",
       "      <td>6.831229e+07</td>\n",
       "      <td>6.184396e+07</td>\n",
       "      <td>9.561038</td>\n",
       "    </tr>\n",
       "    <tr>\n",
       "      <th>8</th>\n",
       "      <td>WD_ATM_PARTNER</td>\n",
       "      <td>1.642713e+08</td>\n",
       "      <td>1.684464e+08</td>\n",
       "      <td>4.175150e+06</td>\n",
       "      <td>0.025416</td>\n",
       "    </tr>\n",
       "    <tr>\n",
       "      <th>9</th>\n",
       "      <td>WD_ATM_ROS</td>\n",
       "      <td>2.644598e+08</td>\n",
       "      <td>4.036246e+08</td>\n",
       "      <td>1.391648e+08</td>\n",
       "      <td>0.526223</td>\n",
       "    </tr>\n",
       "  </tbody>\n",
       "</table>\n",
       "</div>"
      ],
      "text/plain": [
       "     trx_category      amount_x      amount_y          diff  diff_part\n",
       "0        BACK_TRX  1.095609e+07  1.366308e+07  2.706988e+06   0.247076\n",
       "1          C2C_IN  4.359287e+07  5.630428e+07  1.271141e+07   0.291594\n",
       "2         C2C_OUT  3.092606e+07  5.714881e+07  2.622275e+07   0.847917\n",
       "3        CASH_ADV  5.247632e+05  3.880618e+05 -1.367014e+05  -0.260501\n",
       "4             CAT  5.811950e+06  1.679091e+07  1.097896e+07   1.889032\n",
       "5         DEPOSIT  2.059163e+08  2.768296e+08  7.091334e+07   0.344379\n",
       "6             POS  3.024480e+08  7.106139e+08  4.081659e+08   1.349541\n",
       "7    WD_ATM_OTHER  6.468331e+06  6.831229e+07  6.184396e+07   9.561038\n",
       "8  WD_ATM_PARTNER  1.642713e+08  1.684464e+08  4.175150e+06   0.025416\n",
       "9      WD_ATM_ROS  2.644598e+08  4.036246e+08  1.391648e+08   0.526223"
      ]
     },
     "execution_count": 41,
     "metadata": {},
     "output_type": "execute_result"
    }
   ],
   "source": [
    "rf_sum_trx_category_traget0=raw_df[raw_df['target_flag']==0].groupby('trx_category').sum()[['amount']].sort_values('trx_category', ascending=True).reset_index()\n",
    "rf_sum_trx_category_traget1=raw_df[raw_df['target_flag']==1].groupby('trx_category').sum()[['amount']].sort_values('trx_category', ascending=True).reset_index()\n",
    "rf_sum_trx_category_traget=rf_sum_trx_category_traget0.merge(rf_sum_trx_category_traget1, how = 'left', on = 'trx_category')\n",
    "rf_sum_trx_category_traget['diff']=rf_sum_trx_category_traget['amount_y']-rf_sum_trx_category_traget['amount_x']\n",
    "rf_sum_trx_category_traget['diff_part']=rf_sum_trx_category_traget['diff']/rf_sum_trx_category_traget['amount_x']\n",
    "rf_sum_trx_category_traget"
   ]
  },
  {
   "cell_type": "code",
   "execution_count": 43,
   "metadata": {},
   "outputs": [],
   "source": [
    "#Интересно, что у отточных сумма по снятию наличных в других банках (WD_ATM_OTHER) в несколько раз выше неотточных\n",
    "#Гипотеза:\n",
    "#Предположим, что есть люди, у которых есть необходимость часто снимать деньги в банкоматах не Росбанка и не партнеров Росбанка.\n",
    "#Скорее всего по таким операциям будет какая-то комиссия. \n",
    "#Значит людям, снимающим часто деньги в других банкоматах и платящим комиссию, просто невыгодно обслуживаться в Росбанке. \n",
    "#И постепенно, когда закончится период действия льготной карты, они оттекут.\n",
    "#Вывод по этой гипотезе в самом конце."
   ]
  },
  {
   "cell_type": "code",
   "execution_count": 44,
   "metadata": {},
   "outputs": [
    {
     "data": {
      "text/html": [
       "<div>\n",
       "<style scoped>\n",
       "    .dataframe tbody tr th:only-of-type {\n",
       "        vertical-align: middle;\n",
       "    }\n",
       "\n",
       "    .dataframe tbody tr th {\n",
       "        vertical-align: top;\n",
       "    }\n",
       "\n",
       "    .dataframe thead th {\n",
       "        text-align: right;\n",
       "    }\n",
       "</style>\n",
       "<table border=\"1\" class=\"dataframe\">\n",
       "  <thead>\n",
       "    <tr style=\"text-align: right;\">\n",
       "      <th></th>\n",
       "      <th>channel_type</th>\n",
       "      <th>cl_id</th>\n",
       "    </tr>\n",
       "  </thead>\n",
       "  <tbody>\n",
       "    <tr>\n",
       "      <th>0</th>\n",
       "      <td>type1</td>\n",
       "      <td>299247</td>\n",
       "    </tr>\n",
       "    <tr>\n",
       "      <th>1</th>\n",
       "      <td>type2</td>\n",
       "      <td>175013</td>\n",
       "    </tr>\n",
       "    <tr>\n",
       "      <th>2</th>\n",
       "      <td>type5</td>\n",
       "      <td>5587</td>\n",
       "    </tr>\n",
       "    <tr>\n",
       "      <th>3</th>\n",
       "      <td>type4</td>\n",
       "      <td>4476</td>\n",
       "    </tr>\n",
       "    <tr>\n",
       "      <th>4</th>\n",
       "      <td>type3</td>\n",
       "      <td>3280</td>\n",
       "    </tr>\n",
       "    <tr>\n",
       "      <th>5</th>\n",
       "      <td>type_NA</td>\n",
       "      <td>2910</td>\n",
       "    </tr>\n",
       "  </tbody>\n",
       "</table>\n",
       "</div>"
      ],
      "text/plain": [
       "  channel_type   cl_id\n",
       "0        type1  299247\n",
       "1        type2  175013\n",
       "2        type5    5587\n",
       "3        type4    4476\n",
       "4        type3    3280\n",
       "5      type_NA    2910"
      ]
     },
     "execution_count": 44,
     "metadata": {},
     "output_type": "execute_result"
    }
   ],
   "source": [
    "#Топ channel_type\n",
    "raw_df.groupby('channel_type').count()[['cl_id']].sort_values('cl_id', ascending=False).reset_index()"
   ]
  },
  {
   "cell_type": "code",
   "execution_count": 45,
   "metadata": {},
   "outputs": [],
   "source": [
    "import datetime"
   ]
  },
  {
   "cell_type": "code",
   "execution_count": 46,
   "metadata": {},
   "outputs": [],
   "source": [
    "def transaction_by_day_count(dataset):\n",
    "    dataset['day_of_transaction'] = dataset['TRDATETIME'].apply(\n",
    "        lambda x: (datetime.datetime.strptime(x, '%d%b%y:%H:%M:%S')).strftime('%w')\n",
    "    ) \n",
    "    tmp_df = dataset.groupby(\n",
    "        ['cl_id','day_of_transaction']\n",
    "    )['day_of_transaction'].size().unstack().fillna(0).reset_index()\n",
    "    old_columns = [\n",
    "        old_col for old_col in tmp_df.columns.tolist()\n",
    "        if old_col in dataset['day_of_transaction'].unique()\n",
    "    ]\n",
    "    tmp_df.rename(\n",
    "        columns={old_col: 'day_' + old_col for old_col in old_columns},\n",
    "        inplace=True\n",
    "    )\n",
    "    return tmp_df"
   ]
  },
  {
   "cell_type": "code",
   "execution_count": 47,
   "metadata": {},
   "outputs": [
    {
     "data": {
      "text/html": [
       "<div>\n",
       "<style scoped>\n",
       "    .dataframe tbody tr th:only-of-type {\n",
       "        vertical-align: middle;\n",
       "    }\n",
       "\n",
       "    .dataframe tbody tr th {\n",
       "        vertical-align: top;\n",
       "    }\n",
       "\n",
       "    .dataframe thead th {\n",
       "        text-align: right;\n",
       "    }\n",
       "</style>\n",
       "<table border=\"1\" class=\"dataframe\">\n",
       "  <thead>\n",
       "    <tr style=\"text-align: right;\">\n",
       "      <th>day_of_transaction</th>\n",
       "      <th>cl_id</th>\n",
       "      <th>day_0</th>\n",
       "      <th>day_1</th>\n",
       "      <th>day_2</th>\n",
       "      <th>day_3</th>\n",
       "      <th>day_4</th>\n",
       "      <th>day_5</th>\n",
       "      <th>day_6</th>\n",
       "    </tr>\n",
       "  </thead>\n",
       "  <tbody>\n",
       "    <tr>\n",
       "      <th>0</th>\n",
       "      <td>0</td>\n",
       "      <td>0.0</td>\n",
       "      <td>0.0</td>\n",
       "      <td>2.0</td>\n",
       "      <td>0.0</td>\n",
       "      <td>1.0</td>\n",
       "      <td>0.0</td>\n",
       "      <td>2.0</td>\n",
       "    </tr>\n",
       "    <tr>\n",
       "      <th>1</th>\n",
       "      <td>1</td>\n",
       "      <td>7.0</td>\n",
       "      <td>20.0</td>\n",
       "      <td>20.0</td>\n",
       "      <td>16.0</td>\n",
       "      <td>16.0</td>\n",
       "      <td>10.0</td>\n",
       "      <td>15.0</td>\n",
       "    </tr>\n",
       "    <tr>\n",
       "      <th>2</th>\n",
       "      <td>5</td>\n",
       "      <td>15.0</td>\n",
       "      <td>19.0</td>\n",
       "      <td>19.0</td>\n",
       "      <td>15.0</td>\n",
       "      <td>25.0</td>\n",
       "      <td>24.0</td>\n",
       "      <td>25.0</td>\n",
       "    </tr>\n",
       "    <tr>\n",
       "      <th>3</th>\n",
       "      <td>9</td>\n",
       "      <td>5.0</td>\n",
       "      <td>8.0</td>\n",
       "      <td>7.0</td>\n",
       "      <td>5.0</td>\n",
       "      <td>6.0</td>\n",
       "      <td>4.0</td>\n",
       "      <td>4.0</td>\n",
       "    </tr>\n",
       "    <tr>\n",
       "      <th>4</th>\n",
       "      <td>10</td>\n",
       "      <td>74.0</td>\n",
       "      <td>35.0</td>\n",
       "      <td>62.0</td>\n",
       "      <td>68.0</td>\n",
       "      <td>65.0</td>\n",
       "      <td>57.0</td>\n",
       "      <td>102.0</td>\n",
       "    </tr>\n",
       "  </tbody>\n",
       "</table>\n",
       "</div>"
      ],
      "text/plain": [
       "day_of_transaction  cl_id  day_0  day_1  day_2  day_3  day_4  day_5  day_6\n",
       "0                       0    0.0    0.0    2.0    0.0    1.0    0.0    2.0\n",
       "1                       1    7.0   20.0   20.0   16.0   16.0   10.0   15.0\n",
       "2                       5   15.0   19.0   19.0   15.0   25.0   24.0   25.0\n",
       "3                       9    5.0    8.0    7.0    5.0    6.0    4.0    4.0\n",
       "4                      10   74.0   35.0   62.0   68.0   65.0   57.0  102.0"
      ]
     },
     "execution_count": 47,
     "metadata": {},
     "output_type": "execute_result"
    }
   ],
   "source": [
    "#В какие дни недели какой клиент чаще всего совершал транзакции\n",
    "Popular_trans_d_for_cl_id=transaction_by_day_count(raw_df)\n",
    "Popular_trans_d_for_cl_id.head()"
   ]
  },
  {
   "cell_type": "code",
   "execution_count": 48,
   "metadata": {},
   "outputs": [
    {
     "data": {
      "text/plain": [
       "day_of_transaction\n",
       "cl_id    25561672.0\n",
       "day_0       62114.0\n",
       "day_1       65927.0\n",
       "day_2       68509.0\n",
       "day_3       69485.0\n",
       "day_4       71458.0\n",
       "day_5       78993.0\n",
       "day_6       74027.0\n",
       "dtype: float64"
      ]
     },
     "execution_count": 48,
     "metadata": {},
     "output_type": "execute_result"
    }
   ],
   "source": [
    "#В какой день недели больше всего транзакций\n",
    "Popular_trans_d_for_cl_id.sum()"
   ]
  },
  {
   "cell_type": "code",
   "execution_count": 49,
   "metadata": {},
   "outputs": [],
   "source": [
    "#больше всего совершается операций в субботу. Может люди чаще совершают оплаты картой (trx_category=POS) в субботу?"
   ]
  },
  {
   "cell_type": "code",
   "execution_count": 50,
   "metadata": {},
   "outputs": [
    {
     "name": "stderr",
     "output_type": "stream",
     "text": [
      "D:\\Miniconda\\lib\\site-packages\\ipykernel_launcher.py:3: SettingWithCopyWarning: \n",
      "A value is trying to be set on a copy of a slice from a DataFrame.\n",
      "Try using .loc[row_indexer,col_indexer] = value instead\n",
      "\n",
      "See the caveats in the documentation: http://pandas.pydata.org/pandas-docs/stable/indexing.html#indexing-view-versus-copy\n",
      "  This is separate from the ipykernel package so we can avoid doing imports until\n"
     ]
    },
    {
     "data": {
      "text/html": [
       "<div>\n",
       "<style scoped>\n",
       "    .dataframe tbody tr th:only-of-type {\n",
       "        vertical-align: middle;\n",
       "    }\n",
       "\n",
       "    .dataframe tbody tr th {\n",
       "        vertical-align: top;\n",
       "    }\n",
       "\n",
       "    .dataframe thead th {\n",
       "        text-align: right;\n",
       "    }\n",
       "</style>\n",
       "<table border=\"1\" class=\"dataframe\">\n",
       "  <thead>\n",
       "    <tr style=\"text-align: right;\">\n",
       "      <th>day_of_transaction</th>\n",
       "      <th>cl_id</th>\n",
       "      <th>day_0</th>\n",
       "      <th>day_1</th>\n",
       "      <th>day_2</th>\n",
       "      <th>day_3</th>\n",
       "      <th>day_4</th>\n",
       "      <th>day_5</th>\n",
       "      <th>day_6</th>\n",
       "    </tr>\n",
       "  </thead>\n",
       "  <tbody>\n",
       "    <tr>\n",
       "      <th>0</th>\n",
       "      <td>0</td>\n",
       "      <td>0.0</td>\n",
       "      <td>0.0</td>\n",
       "      <td>1.0</td>\n",
       "      <td>0.0</td>\n",
       "      <td>0.0</td>\n",
       "      <td>0.0</td>\n",
       "      <td>2.0</td>\n",
       "    </tr>\n",
       "    <tr>\n",
       "      <th>1</th>\n",
       "      <td>1</td>\n",
       "      <td>5.0</td>\n",
       "      <td>20.0</td>\n",
       "      <td>19.0</td>\n",
       "      <td>16.0</td>\n",
       "      <td>16.0</td>\n",
       "      <td>10.0</td>\n",
       "      <td>15.0</td>\n",
       "    </tr>\n",
       "    <tr>\n",
       "      <th>2</th>\n",
       "      <td>5</td>\n",
       "      <td>14.0</td>\n",
       "      <td>16.0</td>\n",
       "      <td>14.0</td>\n",
       "      <td>7.0</td>\n",
       "      <td>19.0</td>\n",
       "      <td>19.0</td>\n",
       "      <td>22.0</td>\n",
       "    </tr>\n",
       "    <tr>\n",
       "      <th>3</th>\n",
       "      <td>9</td>\n",
       "      <td>5.0</td>\n",
       "      <td>4.0</td>\n",
       "      <td>5.0</td>\n",
       "      <td>4.0</td>\n",
       "      <td>4.0</td>\n",
       "      <td>3.0</td>\n",
       "      <td>4.0</td>\n",
       "    </tr>\n",
       "    <tr>\n",
       "      <th>4</th>\n",
       "      <td>10</td>\n",
       "      <td>67.0</td>\n",
       "      <td>29.0</td>\n",
       "      <td>43.0</td>\n",
       "      <td>59.0</td>\n",
       "      <td>55.0</td>\n",
       "      <td>47.0</td>\n",
       "      <td>74.0</td>\n",
       "    </tr>\n",
       "  </tbody>\n",
       "</table>\n",
       "</div>"
      ],
      "text/plain": [
       "day_of_transaction  cl_id  day_0  day_1  day_2  day_3  day_4  day_5  day_6\n",
       "0                       0    0.0    0.0    1.0    0.0    0.0    0.0    2.0\n",
       "1                       1    5.0   20.0   19.0   16.0   16.0   10.0   15.0\n",
       "2                       5   14.0   16.0   14.0    7.0   19.0   19.0   22.0\n",
       "3                       9    5.0    4.0    5.0    4.0    4.0    3.0    4.0\n",
       "4                      10   67.0   29.0   43.0   59.0   55.0   47.0   74.0"
      ]
     },
     "execution_count": 50,
     "metadata": {},
     "output_type": "execute_result"
    }
   ],
   "source": [
    "Popular_trans_d_for_cl_id_POS=transaction_by_day_count(raw_df[raw_df.trx_category=='POS'])\n",
    "Popular_trans_d_for_cl_id_POS.head()"
   ]
  },
  {
   "cell_type": "code",
   "execution_count": 51,
   "metadata": {},
   "outputs": [
    {
     "data": {
      "text/plain": [
       "day_of_transaction\n",
       "cl_id    25561672.0\n",
       "day_0       55897.0\n",
       "day_1       54598.0\n",
       "day_2       57016.0\n",
       "day_3       58084.0\n",
       "day_4       59520.0\n",
       "day_5       65654.0\n",
       "day_6       65656.0\n",
       "dtype: float64"
      ]
     },
     "execution_count": 51,
     "metadata": {},
     "output_type": "execute_result"
    }
   ],
   "source": [
    "Popular_trans_d_for_cl_id_POS.sum()"
   ]
  },
  {
   "cell_type": "code",
   "execution_count": 52,
   "metadata": {},
   "outputs": [],
   "source": [
    "#А нет, платят картами на выходных почти одинаково"
   ]
  },
  {
   "cell_type": "code",
   "execution_count": 53,
   "metadata": {},
   "outputs": [],
   "source": [
    "#Если подумать, что сомнительно, что на отток клиентов будет влиять то, по каким дням они чаще совершают платежные операции"
   ]
  },
  {
   "cell_type": "code",
   "execution_count": 54,
   "metadata": {},
   "outputs": [],
   "source": [
    "#Сгруппируем пользователей по сумма категорий транзакций и по их количеству.\n",
    "#По крайней мере понимание, какими операциями клиенты пользуются чаще, и на какие операции \n",
    "#приходится основной денежный объем, поможет банку скорректировать предложения по банковским продуктам."
   ]
  },
  {
   "cell_type": "code",
   "execution_count": 55,
   "metadata": {},
   "outputs": [],
   "source": [
    "#На какой тип транзакций приходится самые большие суммы (по пользователяи)"
   ]
  },
  {
   "cell_type": "code",
   "execution_count": 56,
   "metadata": {},
   "outputs": [],
   "source": [
    "def get_aggregated_df(df, agg_type, col_to_groupby):\n",
    "    agg_df = df[['cl_id', col_to_groupby, 'amount']].groupby(['cl_id', col_to_groupby]).agg([agg_type])\n",
    "    agg_df = agg_df.unstack(fill_value=0)\n",
    "    agg_df.columns = agg_df.columns.get_level_values(2)\n",
    "\n",
    "    old_name = agg_df.columns.name\n",
    "    old_cols = agg_df.columns\n",
    "    new_cols = [old_name + '_' + agg_type + '_' + str(old_col) for old_col in old_cols]\n",
    "    agg_df.rename(\n",
    "        columns={old_col: new_col for old_col, new_col in zip(old_cols, new_cols)}, inplace=True\n",
    "    )\n",
    "    return agg_df"
   ]
  },
  {
   "cell_type": "code",
   "execution_count": 57,
   "metadata": {},
   "outputs": [
    {
     "data": {
      "text/html": [
       "<div>\n",
       "<style scoped>\n",
       "    .dataframe tbody tr th:only-of-type {\n",
       "        vertical-align: middle;\n",
       "    }\n",
       "\n",
       "    .dataframe tbody tr th {\n",
       "        vertical-align: top;\n",
       "    }\n",
       "\n",
       "    .dataframe thead th {\n",
       "        text-align: right;\n",
       "    }\n",
       "</style>\n",
       "<table border=\"1\" class=\"dataframe\">\n",
       "  <thead>\n",
       "    <tr style=\"text-align: right;\">\n",
       "      <th>trx_category</th>\n",
       "      <th>cl_id</th>\n",
       "      <th>trx_category_sum_BACK_TRX</th>\n",
       "      <th>trx_category_sum_C2C_IN</th>\n",
       "      <th>trx_category_sum_C2C_OUT</th>\n",
       "      <th>trx_category_sum_CASH_ADV</th>\n",
       "      <th>trx_category_sum_CAT</th>\n",
       "      <th>trx_category_sum_DEPOSIT</th>\n",
       "      <th>trx_category_sum_POS</th>\n",
       "      <th>trx_category_sum_WD_ATM_OTHER</th>\n",
       "      <th>trx_category_sum_WD_ATM_PARTNER</th>\n",
       "      <th>trx_category_sum_WD_ATM_ROS</th>\n",
       "    </tr>\n",
       "  </thead>\n",
       "  <tbody>\n",
       "    <tr>\n",
       "      <th>0</th>\n",
       "      <td>0</td>\n",
       "      <td>0.0</td>\n",
       "      <td>0.0</td>\n",
       "      <td>36562.00</td>\n",
       "      <td>0.0</td>\n",
       "      <td>0.00</td>\n",
       "      <td>20000.0</td>\n",
       "      <td>7821.00</td>\n",
       "      <td>0.0</td>\n",
       "      <td>0.0</td>\n",
       "      <td>0.0</td>\n",
       "    </tr>\n",
       "    <tr>\n",
       "      <th>1</th>\n",
       "      <td>1</td>\n",
       "      <td>0.0</td>\n",
       "      <td>0.0</td>\n",
       "      <td>0.00</td>\n",
       "      <td>0.0</td>\n",
       "      <td>0.00</td>\n",
       "      <td>95000.0</td>\n",
       "      <td>122578.04</td>\n",
       "      <td>0.0</td>\n",
       "      <td>0.0</td>\n",
       "      <td>50000.0</td>\n",
       "    </tr>\n",
       "    <tr>\n",
       "      <th>2</th>\n",
       "      <td>5</td>\n",
       "      <td>13990.0</td>\n",
       "      <td>0.0</td>\n",
       "      <td>33878.38</td>\n",
       "      <td>0.0</td>\n",
       "      <td>0.00</td>\n",
       "      <td>130000.0</td>\n",
       "      <td>290500.75</td>\n",
       "      <td>5500.0</td>\n",
       "      <td>6000.0</td>\n",
       "      <td>66500.0</td>\n",
       "    </tr>\n",
       "    <tr>\n",
       "      <th>3</th>\n",
       "      <td>9</td>\n",
       "      <td>0.0</td>\n",
       "      <td>296950.0</td>\n",
       "      <td>0.00</td>\n",
       "      <td>0.0</td>\n",
       "      <td>0.00</td>\n",
       "      <td>5000.0</td>\n",
       "      <td>12365.09</td>\n",
       "      <td>0.0</td>\n",
       "      <td>100000.0</td>\n",
       "      <td>435000.0</td>\n",
       "    </tr>\n",
       "    <tr>\n",
       "      <th>4</th>\n",
       "      <td>10</td>\n",
       "      <td>0.0</td>\n",
       "      <td>10000.0</td>\n",
       "      <td>21692.90</td>\n",
       "      <td>0.0</td>\n",
       "      <td>37694.98</td>\n",
       "      <td>426300.0</td>\n",
       "      <td>200956.11</td>\n",
       "      <td>0.0</td>\n",
       "      <td>5400.0</td>\n",
       "      <td>422300.0</td>\n",
       "    </tr>\n",
       "  </tbody>\n",
       "</table>\n",
       "</div>"
      ],
      "text/plain": [
       "trx_category  cl_id  trx_category_sum_BACK_TRX  trx_category_sum_C2C_IN  \\\n",
       "0                 0                        0.0                      0.0   \n",
       "1                 1                        0.0                      0.0   \n",
       "2                 5                    13990.0                      0.0   \n",
       "3                 9                        0.0                 296950.0   \n",
       "4                10                        0.0                  10000.0   \n",
       "\n",
       "trx_category  trx_category_sum_C2C_OUT  trx_category_sum_CASH_ADV  \\\n",
       "0                             36562.00                        0.0   \n",
       "1                                 0.00                        0.0   \n",
       "2                             33878.38                        0.0   \n",
       "3                                 0.00                        0.0   \n",
       "4                             21692.90                        0.0   \n",
       "\n",
       "trx_category  trx_category_sum_CAT  trx_category_sum_DEPOSIT  \\\n",
       "0                             0.00                   20000.0   \n",
       "1                             0.00                   95000.0   \n",
       "2                             0.00                  130000.0   \n",
       "3                             0.00                    5000.0   \n",
       "4                         37694.98                  426300.0   \n",
       "\n",
       "trx_category  trx_category_sum_POS  trx_category_sum_WD_ATM_OTHER  \\\n",
       "0                          7821.00                            0.0   \n",
       "1                        122578.04                            0.0   \n",
       "2                        290500.75                         5500.0   \n",
       "3                         12365.09                            0.0   \n",
       "4                        200956.11                            0.0   \n",
       "\n",
       "trx_category  trx_category_sum_WD_ATM_PARTNER  trx_category_sum_WD_ATM_ROS  \n",
       "0                                         0.0                          0.0  \n",
       "1                                         0.0                      50000.0  \n",
       "2                                      6000.0                      66500.0  \n",
       "3                                    100000.0                     435000.0  \n",
       "4                                      5400.0                     422300.0  "
      ]
     },
     "execution_count": 57,
     "metadata": {},
     "output_type": "execute_result"
    }
   ],
   "source": [
    "df_agg_trx_category=get_aggregated_df(raw_df,'sum','trx_category').reset_index()\n",
    "df_agg_trx_category.head()"
   ]
  },
  {
   "cell_type": "code",
   "execution_count": 59,
   "metadata": {},
   "outputs": [
    {
     "data": {
      "text/html": [
       "<div>\n",
       "<style scoped>\n",
       "    .dataframe tbody tr th:only-of-type {\n",
       "        vertical-align: middle;\n",
       "    }\n",
       "\n",
       "    .dataframe tbody tr th {\n",
       "        vertical-align: top;\n",
       "    }\n",
       "\n",
       "    .dataframe thead th {\n",
       "        text-align: right;\n",
       "    }\n",
       "</style>\n",
       "<table border=\"1\" class=\"dataframe\">\n",
       "  <thead>\n",
       "    <tr style=\"text-align: right;\">\n",
       "      <th>trx_category</th>\n",
       "      <th>cl_id</th>\n",
       "      <th>trx_category_count_BACK_TRX</th>\n",
       "      <th>trx_category_count_C2C_IN</th>\n",
       "      <th>trx_category_count_C2C_OUT</th>\n",
       "      <th>trx_category_count_CASH_ADV</th>\n",
       "      <th>trx_category_count_CAT</th>\n",
       "      <th>trx_category_count_DEPOSIT</th>\n",
       "      <th>trx_category_count_POS</th>\n",
       "      <th>trx_category_count_WD_ATM_OTHER</th>\n",
       "      <th>trx_category_count_WD_ATM_PARTNER</th>\n",
       "      <th>trx_category_count_WD_ATM_ROS</th>\n",
       "    </tr>\n",
       "  </thead>\n",
       "  <tbody>\n",
       "    <tr>\n",
       "      <th>0</th>\n",
       "      <td>0</td>\n",
       "      <td>0</td>\n",
       "      <td>0</td>\n",
       "      <td>1</td>\n",
       "      <td>0</td>\n",
       "      <td>0</td>\n",
       "      <td>1</td>\n",
       "      <td>3</td>\n",
       "      <td>0</td>\n",
       "      <td>0</td>\n",
       "      <td>0</td>\n",
       "    </tr>\n",
       "    <tr>\n",
       "      <th>1</th>\n",
       "      <td>1</td>\n",
       "      <td>0</td>\n",
       "      <td>0</td>\n",
       "      <td>0</td>\n",
       "      <td>0</td>\n",
       "      <td>0</td>\n",
       "      <td>2</td>\n",
       "      <td>101</td>\n",
       "      <td>0</td>\n",
       "      <td>0</td>\n",
       "      <td>1</td>\n",
       "    </tr>\n",
       "    <tr>\n",
       "      <th>2</th>\n",
       "      <td>5</td>\n",
       "      <td>1</td>\n",
       "      <td>0</td>\n",
       "      <td>8</td>\n",
       "      <td>0</td>\n",
       "      <td>0</td>\n",
       "      <td>4</td>\n",
       "      <td>111</td>\n",
       "      <td>2</td>\n",
       "      <td>2</td>\n",
       "      <td>14</td>\n",
       "    </tr>\n",
       "    <tr>\n",
       "      <th>3</th>\n",
       "      <td>9</td>\n",
       "      <td>0</td>\n",
       "      <td>3</td>\n",
       "      <td>0</td>\n",
       "      <td>0</td>\n",
       "      <td>0</td>\n",
       "      <td>1</td>\n",
       "      <td>29</td>\n",
       "      <td>0</td>\n",
       "      <td>1</td>\n",
       "      <td>5</td>\n",
       "    </tr>\n",
       "    <tr>\n",
       "      <th>4</th>\n",
       "      <td>10</td>\n",
       "      <td>0</td>\n",
       "      <td>1</td>\n",
       "      <td>19</td>\n",
       "      <td>0</td>\n",
       "      <td>3</td>\n",
       "      <td>24</td>\n",
       "      <td>374</td>\n",
       "      <td>0</td>\n",
       "      <td>3</td>\n",
       "      <td>39</td>\n",
       "    </tr>\n",
       "  </tbody>\n",
       "</table>\n",
       "</div>"
      ],
      "text/plain": [
       "trx_category  cl_id  trx_category_count_BACK_TRX  trx_category_count_C2C_IN  \\\n",
       "0                 0                            0                          0   \n",
       "1                 1                            0                          0   \n",
       "2                 5                            1                          0   \n",
       "3                 9                            0                          3   \n",
       "4                10                            0                          1   \n",
       "\n",
       "trx_category  trx_category_count_C2C_OUT  trx_category_count_CASH_ADV  \\\n",
       "0                                      1                            0   \n",
       "1                                      0                            0   \n",
       "2                                      8                            0   \n",
       "3                                      0                            0   \n",
       "4                                     19                            0   \n",
       "\n",
       "trx_category  trx_category_count_CAT  trx_category_count_DEPOSIT  \\\n",
       "0                                  0                           1   \n",
       "1                                  0                           2   \n",
       "2                                  0                           4   \n",
       "3                                  0                           1   \n",
       "4                                  3                          24   \n",
       "\n",
       "trx_category  trx_category_count_POS  trx_category_count_WD_ATM_OTHER  \\\n",
       "0                                  3                                0   \n",
       "1                                101                                0   \n",
       "2                                111                                2   \n",
       "3                                 29                                0   \n",
       "4                                374                                0   \n",
       "\n",
       "trx_category  trx_category_count_WD_ATM_PARTNER  trx_category_count_WD_ATM_ROS  \n",
       "0                                             0                              0  \n",
       "1                                             0                              1  \n",
       "2                                             2                             14  \n",
       "3                                             1                              5  \n",
       "4                                             3                             39  "
      ]
     },
     "execution_count": 59,
     "metadata": {},
     "output_type": "execute_result"
    }
   ],
   "source": [
    "df_agg_count_trx_category=get_aggregated_df(raw_df,'count','trx_category').reset_index()\n",
    "df_agg_count_trx_category.head()"
   ]
  },
  {
   "cell_type": "code",
   "execution_count": 61,
   "metadata": {},
   "outputs": [
    {
     "data": {
      "text/plain": [
       "trx_category\n",
       "cl_id                                25561672\n",
       "trx_category_count_BACK_TRX              2687\n",
       "trx_category_count_C2C_IN                7306\n",
       "trx_category_count_C2C_OUT               5456\n",
       "trx_category_count_CASH_ADV                34\n",
       "trx_category_count_CAT                   1197\n",
       "trx_category_count_DEPOSIT              21216\n",
       "trx_category_count_POS                 416425\n",
       "trx_category_count_WD_ATM_OTHER          7140\n",
       "trx_category_count_WD_ATM_PARTNER        9948\n",
       "trx_category_count_WD_ATM_ROS           19104\n",
       "dtype: int64"
      ]
     },
     "execution_count": 61,
     "metadata": {},
     "output_type": "execute_result"
    }
   ],
   "source": [
    "df_agg_count_trx_category.sum()"
   ]
  },
  {
   "cell_type": "code",
   "execution_count": 62,
   "metadata": {},
   "outputs": [],
   "source": [
    "#Теперь можно сгруппировать пользователей по cl_id"
   ]
  },
  {
   "cell_type": "code",
   "execution_count": 69,
   "metadata": {},
   "outputs": [
    {
     "data": {
      "text/html": [
       "<div>\n",
       "<style scoped>\n",
       "    .dataframe tbody tr th:only-of-type {\n",
       "        vertical-align: middle;\n",
       "    }\n",
       "\n",
       "    .dataframe tbody tr th {\n",
       "        vertical-align: top;\n",
       "    }\n",
       "\n",
       "    .dataframe thead th {\n",
       "        text-align: right;\n",
       "    }\n",
       "</style>\n",
       "<table border=\"1\" class=\"dataframe\">\n",
       "  <thead>\n",
       "    <tr style=\"text-align: right;\">\n",
       "      <th></th>\n",
       "      <th>cl_id</th>\n",
       "      <th>target_flag</th>\n",
       "    </tr>\n",
       "  </thead>\n",
       "  <tbody>\n",
       "    <tr>\n",
       "      <th>0</th>\n",
       "      <td>0</td>\n",
       "      <td>0</td>\n",
       "    </tr>\n",
       "    <tr>\n",
       "      <th>1</th>\n",
       "      <td>1</td>\n",
       "      <td>0</td>\n",
       "    </tr>\n",
       "    <tr>\n",
       "      <th>2</th>\n",
       "      <td>5</td>\n",
       "      <td>1</td>\n",
       "    </tr>\n",
       "    <tr>\n",
       "      <th>3</th>\n",
       "      <td>9</td>\n",
       "      <td>0</td>\n",
       "    </tr>\n",
       "    <tr>\n",
       "      <th>4</th>\n",
       "      <td>10</td>\n",
       "      <td>0</td>\n",
       "    </tr>\n",
       "  </tbody>\n",
       "</table>\n",
       "</div>"
      ],
      "text/plain": [
       "   cl_id  target_flag\n",
       "0      0            0\n",
       "1      1            0\n",
       "2      5            1\n",
       "3      9            0\n",
       "4     10            0"
      ]
     },
     "execution_count": 69,
     "metadata": {},
     "output_type": "execute_result"
    }
   ],
   "source": [
    "raw_df_grouped=raw_df[['cl_id', 'target_flag']].groupby(['cl_id','target_flag']).sum().fillna(0).reset_index()\n",
    "raw_df_grouped.head()"
   ]
  },
  {
   "cell_type": "code",
   "execution_count": 70,
   "metadata": {},
   "outputs": [],
   "source": [
    "#И соединить сгруппированные данные raw_df_grouped с df_agg_trx_category"
   ]
  },
  {
   "cell_type": "code",
   "execution_count": 84,
   "metadata": {},
   "outputs": [
    {
     "data": {
      "text/html": [
       "<div>\n",
       "<style scoped>\n",
       "    .dataframe tbody tr th:only-of-type {\n",
       "        vertical-align: middle;\n",
       "    }\n",
       "\n",
       "    .dataframe tbody tr th {\n",
       "        vertical-align: top;\n",
       "    }\n",
       "\n",
       "    .dataframe thead th {\n",
       "        text-align: right;\n",
       "    }\n",
       "</style>\n",
       "<table border=\"1\" class=\"dataframe\">\n",
       "  <thead>\n",
       "    <tr style=\"text-align: right;\">\n",
       "      <th></th>\n",
       "      <th>cl_id</th>\n",
       "      <th>target_flag</th>\n",
       "      <th>trx_category_sum_BACK_TRX</th>\n",
       "      <th>trx_category_sum_C2C_IN</th>\n",
       "      <th>trx_category_sum_C2C_OUT</th>\n",
       "      <th>trx_category_sum_CASH_ADV</th>\n",
       "      <th>trx_category_sum_CAT</th>\n",
       "      <th>trx_category_sum_DEPOSIT</th>\n",
       "      <th>trx_category_sum_POS</th>\n",
       "      <th>trx_category_sum_WD_ATM_OTHER</th>\n",
       "      <th>trx_category_sum_WD_ATM_PARTNER</th>\n",
       "      <th>trx_category_sum_WD_ATM_ROS</th>\n",
       "    </tr>\n",
       "  </thead>\n",
       "  <tbody>\n",
       "    <tr>\n",
       "      <th>0</th>\n",
       "      <td>0</td>\n",
       "      <td>0</td>\n",
       "      <td>0.0</td>\n",
       "      <td>0.0</td>\n",
       "      <td>36562.00</td>\n",
       "      <td>0.0</td>\n",
       "      <td>0.00</td>\n",
       "      <td>20000.0</td>\n",
       "      <td>7821.00</td>\n",
       "      <td>0.0</td>\n",
       "      <td>0.0</td>\n",
       "      <td>0.0</td>\n",
       "    </tr>\n",
       "    <tr>\n",
       "      <th>1</th>\n",
       "      <td>1</td>\n",
       "      <td>0</td>\n",
       "      <td>0.0</td>\n",
       "      <td>0.0</td>\n",
       "      <td>0.00</td>\n",
       "      <td>0.0</td>\n",
       "      <td>0.00</td>\n",
       "      <td>95000.0</td>\n",
       "      <td>122578.04</td>\n",
       "      <td>0.0</td>\n",
       "      <td>0.0</td>\n",
       "      <td>50000.0</td>\n",
       "    </tr>\n",
       "    <tr>\n",
       "      <th>2</th>\n",
       "      <td>5</td>\n",
       "      <td>1</td>\n",
       "      <td>13990.0</td>\n",
       "      <td>0.0</td>\n",
       "      <td>33878.38</td>\n",
       "      <td>0.0</td>\n",
       "      <td>0.00</td>\n",
       "      <td>130000.0</td>\n",
       "      <td>290500.75</td>\n",
       "      <td>5500.0</td>\n",
       "      <td>6000.0</td>\n",
       "      <td>66500.0</td>\n",
       "    </tr>\n",
       "    <tr>\n",
       "      <th>3</th>\n",
       "      <td>9</td>\n",
       "      <td>0</td>\n",
       "      <td>0.0</td>\n",
       "      <td>296950.0</td>\n",
       "      <td>0.00</td>\n",
       "      <td>0.0</td>\n",
       "      <td>0.00</td>\n",
       "      <td>5000.0</td>\n",
       "      <td>12365.09</td>\n",
       "      <td>0.0</td>\n",
       "      <td>100000.0</td>\n",
       "      <td>435000.0</td>\n",
       "    </tr>\n",
       "    <tr>\n",
       "      <th>4</th>\n",
       "      <td>10</td>\n",
       "      <td>0</td>\n",
       "      <td>0.0</td>\n",
       "      <td>10000.0</td>\n",
       "      <td>21692.90</td>\n",
       "      <td>0.0</td>\n",
       "      <td>37694.98</td>\n",
       "      <td>426300.0</td>\n",
       "      <td>200956.11</td>\n",
       "      <td>0.0</td>\n",
       "      <td>5400.0</td>\n",
       "      <td>422300.0</td>\n",
       "    </tr>\n",
       "  </tbody>\n",
       "</table>\n",
       "</div>"
      ],
      "text/plain": [
       "   cl_id  target_flag  trx_category_sum_BACK_TRX  trx_category_sum_C2C_IN  \\\n",
       "0      0            0                        0.0                      0.0   \n",
       "1      1            0                        0.0                      0.0   \n",
       "2      5            1                    13990.0                      0.0   \n",
       "3      9            0                        0.0                 296950.0   \n",
       "4     10            0                        0.0                  10000.0   \n",
       "\n",
       "   trx_category_sum_C2C_OUT  trx_category_sum_CASH_ADV  trx_category_sum_CAT  \\\n",
       "0                  36562.00                        0.0                  0.00   \n",
       "1                      0.00                        0.0                  0.00   \n",
       "2                  33878.38                        0.0                  0.00   \n",
       "3                      0.00                        0.0                  0.00   \n",
       "4                  21692.90                        0.0              37694.98   \n",
       "\n",
       "   trx_category_sum_DEPOSIT  trx_category_sum_POS  \\\n",
       "0                   20000.0               7821.00   \n",
       "1                   95000.0             122578.04   \n",
       "2                  130000.0             290500.75   \n",
       "3                    5000.0              12365.09   \n",
       "4                  426300.0             200956.11   \n",
       "\n",
       "   trx_category_sum_WD_ATM_OTHER  trx_category_sum_WD_ATM_PARTNER  \\\n",
       "0                            0.0                              0.0   \n",
       "1                            0.0                              0.0   \n",
       "2                         5500.0                           6000.0   \n",
       "3                            0.0                         100000.0   \n",
       "4                            0.0                           5400.0   \n",
       "\n",
       "   trx_category_sum_WD_ATM_ROS  \n",
       "0                          0.0  \n",
       "1                      50000.0  \n",
       "2                      66500.0  \n",
       "3                     435000.0  \n",
       "4                     422300.0  "
      ]
     },
     "execution_count": 84,
     "metadata": {},
     "output_type": "execute_result"
    }
   ],
   "source": [
    "new_df_grouped=raw_df_grouped.merge(df_agg_trx_category, how = 'left', on = 'cl_id')\n",
    "new_df_grouped.head()"
   ]
  },
  {
   "cell_type": "code",
   "execution_count": 72,
   "metadata": {},
   "outputs": [],
   "source": [
    "#И тут можно увидеть, как каждый пользователь был привлечен, на какую сумму у него были операции с разбивкой по видам транзакций"
   ]
  },
  {
   "cell_type": "code",
   "execution_count": 73,
   "metadata": {},
   "outputs": [],
   "source": [
    "#Вот это все мне просто жалко удалять, пусть побудет\n",
    "#def transaction_by_month_count(dataset):\n",
    "#    dataset['day_of_transaction'] = dataset['TRDATETIME'].apply(\n",
    "#        lambda x: (datetime.datetime.strptime(x, '%d%b%y:%H:%M:%S')).strftime('%m')\n",
    "#    ) \n",
    "#    tmp_df = dataset.groupby(\n",
    "#        ['cl_id','day_of_transaction']\n",
    "#    )['day_of_transaction'].size().unstack().fillna(0).reset_index()\n",
    "#    old_columns = [\n",
    "#        old_col for old_col in tmp_df.columns.tolist()\n",
    "#        if old_col in dataset['day_of_transaction'].unique()\n",
    "#    ]\n",
    "#    tmp_df.rename(\n",
    "#        columns={old_col: 'month_' + old_col for old_col in old_columns},\n",
    "#        inplace=True\n",
    "#    )\n",
    "#    return tmp_df"
   ]
  },
  {
   "cell_type": "code",
   "execution_count": 74,
   "metadata": {},
   "outputs": [],
   "source": [
    "#Popular_trans_m_for_cl_id=transaction_by_month_count(raw_df)\n",
    "#Popular_trans_m_for_cl_id.head()"
   ]
  },
  {
   "cell_type": "code",
   "execution_count": 75,
   "metadata": {},
   "outputs": [],
   "source": [
    "#И соединить сгруппированные данные new_df_grouped с df_agg_count_trx_category"
   ]
  },
  {
   "cell_type": "code",
   "execution_count": 85,
   "metadata": {},
   "outputs": [
    {
     "data": {
      "text/html": [
       "<div>\n",
       "<style scoped>\n",
       "    .dataframe tbody tr th:only-of-type {\n",
       "        vertical-align: middle;\n",
       "    }\n",
       "\n",
       "    .dataframe tbody tr th {\n",
       "        vertical-align: top;\n",
       "    }\n",
       "\n",
       "    .dataframe thead th {\n",
       "        text-align: right;\n",
       "    }\n",
       "</style>\n",
       "<table border=\"1\" class=\"dataframe\">\n",
       "  <thead>\n",
       "    <tr style=\"text-align: right;\">\n",
       "      <th></th>\n",
       "      <th>cl_id</th>\n",
       "      <th>target_flag</th>\n",
       "      <th>trx_category_sum_BACK_TRX</th>\n",
       "      <th>trx_category_sum_C2C_IN</th>\n",
       "      <th>trx_category_sum_C2C_OUT</th>\n",
       "      <th>trx_category_sum_CASH_ADV</th>\n",
       "      <th>trx_category_sum_CAT</th>\n",
       "      <th>trx_category_sum_DEPOSIT</th>\n",
       "      <th>trx_category_sum_POS</th>\n",
       "      <th>trx_category_sum_WD_ATM_OTHER</th>\n",
       "      <th>...</th>\n",
       "      <th>trx_category_count_BACK_TRX</th>\n",
       "      <th>trx_category_count_C2C_IN</th>\n",
       "      <th>trx_category_count_C2C_OUT</th>\n",
       "      <th>trx_category_count_CASH_ADV</th>\n",
       "      <th>trx_category_count_CAT</th>\n",
       "      <th>trx_category_count_DEPOSIT</th>\n",
       "      <th>trx_category_count_POS</th>\n",
       "      <th>trx_category_count_WD_ATM_OTHER</th>\n",
       "      <th>trx_category_count_WD_ATM_PARTNER</th>\n",
       "      <th>trx_category_count_WD_ATM_ROS</th>\n",
       "    </tr>\n",
       "  </thead>\n",
       "  <tbody>\n",
       "    <tr>\n",
       "      <th>0</th>\n",
       "      <td>0</td>\n",
       "      <td>0</td>\n",
       "      <td>0.0</td>\n",
       "      <td>0.0</td>\n",
       "      <td>36562.00</td>\n",
       "      <td>0.0</td>\n",
       "      <td>0.00</td>\n",
       "      <td>20000.0</td>\n",
       "      <td>7821.00</td>\n",
       "      <td>0.0</td>\n",
       "      <td>...</td>\n",
       "      <td>0</td>\n",
       "      <td>0</td>\n",
       "      <td>1</td>\n",
       "      <td>0</td>\n",
       "      <td>0</td>\n",
       "      <td>1</td>\n",
       "      <td>3</td>\n",
       "      <td>0</td>\n",
       "      <td>0</td>\n",
       "      <td>0</td>\n",
       "    </tr>\n",
       "    <tr>\n",
       "      <th>1</th>\n",
       "      <td>1</td>\n",
       "      <td>0</td>\n",
       "      <td>0.0</td>\n",
       "      <td>0.0</td>\n",
       "      <td>0.00</td>\n",
       "      <td>0.0</td>\n",
       "      <td>0.00</td>\n",
       "      <td>95000.0</td>\n",
       "      <td>122578.04</td>\n",
       "      <td>0.0</td>\n",
       "      <td>...</td>\n",
       "      <td>0</td>\n",
       "      <td>0</td>\n",
       "      <td>0</td>\n",
       "      <td>0</td>\n",
       "      <td>0</td>\n",
       "      <td>2</td>\n",
       "      <td>101</td>\n",
       "      <td>0</td>\n",
       "      <td>0</td>\n",
       "      <td>1</td>\n",
       "    </tr>\n",
       "    <tr>\n",
       "      <th>2</th>\n",
       "      <td>5</td>\n",
       "      <td>1</td>\n",
       "      <td>13990.0</td>\n",
       "      <td>0.0</td>\n",
       "      <td>33878.38</td>\n",
       "      <td>0.0</td>\n",
       "      <td>0.00</td>\n",
       "      <td>130000.0</td>\n",
       "      <td>290500.75</td>\n",
       "      <td>5500.0</td>\n",
       "      <td>...</td>\n",
       "      <td>1</td>\n",
       "      <td>0</td>\n",
       "      <td>8</td>\n",
       "      <td>0</td>\n",
       "      <td>0</td>\n",
       "      <td>4</td>\n",
       "      <td>111</td>\n",
       "      <td>2</td>\n",
       "      <td>2</td>\n",
       "      <td>14</td>\n",
       "    </tr>\n",
       "    <tr>\n",
       "      <th>3</th>\n",
       "      <td>9</td>\n",
       "      <td>0</td>\n",
       "      <td>0.0</td>\n",
       "      <td>296950.0</td>\n",
       "      <td>0.00</td>\n",
       "      <td>0.0</td>\n",
       "      <td>0.00</td>\n",
       "      <td>5000.0</td>\n",
       "      <td>12365.09</td>\n",
       "      <td>0.0</td>\n",
       "      <td>...</td>\n",
       "      <td>0</td>\n",
       "      <td>3</td>\n",
       "      <td>0</td>\n",
       "      <td>0</td>\n",
       "      <td>0</td>\n",
       "      <td>1</td>\n",
       "      <td>29</td>\n",
       "      <td>0</td>\n",
       "      <td>1</td>\n",
       "      <td>5</td>\n",
       "    </tr>\n",
       "    <tr>\n",
       "      <th>4</th>\n",
       "      <td>10</td>\n",
       "      <td>0</td>\n",
       "      <td>0.0</td>\n",
       "      <td>10000.0</td>\n",
       "      <td>21692.90</td>\n",
       "      <td>0.0</td>\n",
       "      <td>37694.98</td>\n",
       "      <td>426300.0</td>\n",
       "      <td>200956.11</td>\n",
       "      <td>0.0</td>\n",
       "      <td>...</td>\n",
       "      <td>0</td>\n",
       "      <td>1</td>\n",
       "      <td>19</td>\n",
       "      <td>0</td>\n",
       "      <td>3</td>\n",
       "      <td>24</td>\n",
       "      <td>374</td>\n",
       "      <td>0</td>\n",
       "      <td>3</td>\n",
       "      <td>39</td>\n",
       "    </tr>\n",
       "  </tbody>\n",
       "</table>\n",
       "<p>5 rows × 22 columns</p>\n",
       "</div>"
      ],
      "text/plain": [
       "   cl_id  target_flag  trx_category_sum_BACK_TRX  trx_category_sum_C2C_IN  \\\n",
       "0      0            0                        0.0                      0.0   \n",
       "1      1            0                        0.0                      0.0   \n",
       "2      5            1                    13990.0                      0.0   \n",
       "3      9            0                        0.0                 296950.0   \n",
       "4     10            0                        0.0                  10000.0   \n",
       "\n",
       "   trx_category_sum_C2C_OUT  trx_category_sum_CASH_ADV  trx_category_sum_CAT  \\\n",
       "0                  36562.00                        0.0                  0.00   \n",
       "1                      0.00                        0.0                  0.00   \n",
       "2                  33878.38                        0.0                  0.00   \n",
       "3                      0.00                        0.0                  0.00   \n",
       "4                  21692.90                        0.0              37694.98   \n",
       "\n",
       "   trx_category_sum_DEPOSIT  trx_category_sum_POS  \\\n",
       "0                   20000.0               7821.00   \n",
       "1                   95000.0             122578.04   \n",
       "2                  130000.0             290500.75   \n",
       "3                    5000.0              12365.09   \n",
       "4                  426300.0             200956.11   \n",
       "\n",
       "   trx_category_sum_WD_ATM_OTHER  ...  trx_category_count_BACK_TRX  \\\n",
       "0                            0.0  ...                            0   \n",
       "1                            0.0  ...                            0   \n",
       "2                         5500.0  ...                            1   \n",
       "3                            0.0  ...                            0   \n",
       "4                            0.0  ...                            0   \n",
       "\n",
       "   trx_category_count_C2C_IN  trx_category_count_C2C_OUT  \\\n",
       "0                          0                           1   \n",
       "1                          0                           0   \n",
       "2                          0                           8   \n",
       "3                          3                           0   \n",
       "4                          1                          19   \n",
       "\n",
       "   trx_category_count_CASH_ADV  trx_category_count_CAT  \\\n",
       "0                            0                       0   \n",
       "1                            0                       0   \n",
       "2                            0                       0   \n",
       "3                            0                       0   \n",
       "4                            0                       3   \n",
       "\n",
       "   trx_category_count_DEPOSIT  trx_category_count_POS  \\\n",
       "0                           1                       3   \n",
       "1                           2                     101   \n",
       "2                           4                     111   \n",
       "3                           1                      29   \n",
       "4                          24                     374   \n",
       "\n",
       "   trx_category_count_WD_ATM_OTHER  trx_category_count_WD_ATM_PARTNER  \\\n",
       "0                                0                                  0   \n",
       "1                                0                                  0   \n",
       "2                                2                                  2   \n",
       "3                                0                                  1   \n",
       "4                                0                                  3   \n",
       "\n",
       "   trx_category_count_WD_ATM_ROS  \n",
       "0                              0  \n",
       "1                              1  \n",
       "2                             14  \n",
       "3                              5  \n",
       "4                             39  \n",
       "\n",
       "[5 rows x 22 columns]"
      ]
     },
     "execution_count": 85,
     "metadata": {},
     "output_type": "execute_result"
    }
   ],
   "source": [
    "new_df_grouped=new_df_grouped.merge(df_agg_count_trx_category, how = 'left', on = 'cl_id')\n",
    "new_df_grouped.head()"
   ]
  },
  {
   "cell_type": "code",
   "execution_count": 77,
   "metadata": {},
   "outputs": [],
   "source": [
    "#Тоже жалко, пусть останется\n",
    "#здесь в channel_type количество операций на каждого пользователя всего\n",
    "#raw_df_grouped_count=raw_df[['cl_id', 'channel_type']].groupby(['cl_id']).count().fillna(0).reset_index()\n",
    "#raw_df_grouped_count.columns= ['cl_id','trans_count']\n",
    "#raw_df_grouped_count.head()"
   ]
  },
  {
   "cell_type": "code",
   "execution_count": 78,
   "metadata": {},
   "outputs": [],
   "source": [
    "#new_df_grouped_all=new_df_grouped.merge(Popular_trans_m_for_cl_id, how = 'left', on = 'cl_id')\n",
    "#new_df_grouped_all.head()"
   ]
  },
  {
   "cell_type": "code",
   "execution_count": 79,
   "metadata": {},
   "outputs": [],
   "source": [
    "#new_df_grouped_all=new_df_grouped_all.merge(raw_df_grouped_count, how = 'left', on = 'cl_id')\n",
    "#new_df_grouped_all.head()"
   ]
  },
  {
   "cell_type": "code",
   "execution_count": null,
   "metadata": {},
   "outputs": [],
   "source": []
  },
  {
   "cell_type": "code",
   "execution_count": null,
   "metadata": {},
   "outputs": [],
   "source": []
  },
  {
   "cell_type": "code",
   "execution_count": null,
   "metadata": {},
   "outputs": [],
   "source": []
  },
  {
   "cell_type": "code",
   "execution_count": 86,
   "metadata": {},
   "outputs": [],
   "source": [
    "cl_ids_test = np.random.choice(new_df_grouped.cl_id.unique(), size=1000, replace=False)\n",
    "cl_ids_test_set = set(cl_ids_test)"
   ]
  },
  {
   "cell_type": "code",
   "execution_count": 87,
   "metadata": {},
   "outputs": [
    {
     "name": "stdout",
     "output_type": "stream",
     "text": [
      "Total transactions in train dataset:  4000\n",
      "Total transactions in test dataset:  1000\n"
     ]
    }
   ],
   "source": [
    "# данные для обучения\n",
    "transactions_train = new_df_grouped[~new_df_grouped.cl_id.isin(cl_ids_test)].copy()\n",
    "print(\"Total transactions in train dataset: \", len(transactions_train))\n",
    "# данные для теста\n",
    "transactions_test = new_df_grouped[new_df_grouped.cl_id.isin(cl_ids_test)].copy()\n",
    "print(\"Total transactions in test dataset: \", len(transactions_test))"
   ]
  },
  {
   "cell_type": "code",
   "execution_count": 88,
   "metadata": {},
   "outputs": [],
   "source": [
    "#Тестовые\n",
    "X_test = transactions_test.drop(['cl_id','target_flag'], axis=1)\n",
    "y_test = transactions_test['target_flag']"
   ]
  },
  {
   "cell_type": "code",
   "execution_count": 91,
   "metadata": {},
   "outputs": [
    {
     "data": {
      "text/html": [
       "<div>\n",
       "<style scoped>\n",
       "    .dataframe tbody tr th:only-of-type {\n",
       "        vertical-align: middle;\n",
       "    }\n",
       "\n",
       "    .dataframe tbody tr th {\n",
       "        vertical-align: top;\n",
       "    }\n",
       "\n",
       "    .dataframe thead th {\n",
       "        text-align: right;\n",
       "    }\n",
       "</style>\n",
       "<table border=\"1\" class=\"dataframe\">\n",
       "  <thead>\n",
       "    <tr style=\"text-align: right;\">\n",
       "      <th></th>\n",
       "      <th>trx_category_sum_BACK_TRX</th>\n",
       "      <th>trx_category_sum_C2C_IN</th>\n",
       "      <th>trx_category_sum_C2C_OUT</th>\n",
       "      <th>trx_category_sum_CASH_ADV</th>\n",
       "      <th>trx_category_sum_CAT</th>\n",
       "      <th>trx_category_sum_DEPOSIT</th>\n",
       "      <th>trx_category_sum_POS</th>\n",
       "      <th>trx_category_sum_WD_ATM_OTHER</th>\n",
       "      <th>trx_category_sum_WD_ATM_PARTNER</th>\n",
       "      <th>trx_category_sum_WD_ATM_ROS</th>\n",
       "      <th>trx_category_count_BACK_TRX</th>\n",
       "      <th>trx_category_count_C2C_IN</th>\n",
       "      <th>trx_category_count_C2C_OUT</th>\n",
       "      <th>trx_category_count_CASH_ADV</th>\n",
       "      <th>trx_category_count_CAT</th>\n",
       "      <th>trx_category_count_DEPOSIT</th>\n",
       "      <th>trx_category_count_POS</th>\n",
       "      <th>trx_category_count_WD_ATM_OTHER</th>\n",
       "      <th>trx_category_count_WD_ATM_PARTNER</th>\n",
       "      <th>trx_category_count_WD_ATM_ROS</th>\n",
       "    </tr>\n",
       "  </thead>\n",
       "  <tbody>\n",
       "    <tr>\n",
       "      <th>13</th>\n",
       "      <td>0.0</td>\n",
       "      <td>0.0</td>\n",
       "      <td>15100.0</td>\n",
       "      <td>0.0</td>\n",
       "      <td>0.0</td>\n",
       "      <td>2500.0</td>\n",
       "      <td>94893.49</td>\n",
       "      <td>0.0</td>\n",
       "      <td>0.0</td>\n",
       "      <td>56000.0</td>\n",
       "      <td>0</td>\n",
       "      <td>0</td>\n",
       "      <td>3</td>\n",
       "      <td>0</td>\n",
       "      <td>0</td>\n",
       "      <td>1</td>\n",
       "      <td>65</td>\n",
       "      <td>0</td>\n",
       "      <td>0</td>\n",
       "      <td>6</td>\n",
       "    </tr>\n",
       "  </tbody>\n",
       "</table>\n",
       "</div>"
      ],
      "text/plain": [
       "    trx_category_sum_BACK_TRX  trx_category_sum_C2C_IN  \\\n",
       "13                        0.0                      0.0   \n",
       "\n",
       "    trx_category_sum_C2C_OUT  trx_category_sum_CASH_ADV  trx_category_sum_CAT  \\\n",
       "13                   15100.0                        0.0                   0.0   \n",
       "\n",
       "    trx_category_sum_DEPOSIT  trx_category_sum_POS  \\\n",
       "13                    2500.0              94893.49   \n",
       "\n",
       "    trx_category_sum_WD_ATM_OTHER  trx_category_sum_WD_ATM_PARTNER  \\\n",
       "13                            0.0                              0.0   \n",
       "\n",
       "    trx_category_sum_WD_ATM_ROS  trx_category_count_BACK_TRX  \\\n",
       "13                      56000.0                            0   \n",
       "\n",
       "    trx_category_count_C2C_IN  trx_category_count_C2C_OUT  \\\n",
       "13                          0                           3   \n",
       "\n",
       "    trx_category_count_CASH_ADV  trx_category_count_CAT  \\\n",
       "13                            0                       0   \n",
       "\n",
       "    trx_category_count_DEPOSIT  trx_category_count_POS  \\\n",
       "13                           1                      65   \n",
       "\n",
       "    trx_category_count_WD_ATM_OTHER  trx_category_count_WD_ATM_PARTNER  \\\n",
       "13                                0                                  0   \n",
       "\n",
       "    trx_category_count_WD_ATM_ROS  \n",
       "13                              6  "
      ]
     },
     "execution_count": 91,
     "metadata": {},
     "output_type": "execute_result"
    }
   ],
   "source": [
    "X_test.head(1)"
   ]
  },
  {
   "cell_type": "code",
   "execution_count": 92,
   "metadata": {},
   "outputs": [
    {
     "data": {
      "text/plain": [
       "13    1\n",
       "Name: target_flag, dtype: int64"
      ]
     },
     "execution_count": 92,
     "metadata": {},
     "output_type": "execute_result"
    }
   ],
   "source": [
    "y_test.head(1)"
   ]
  },
  {
   "cell_type": "code",
   "execution_count": 93,
   "metadata": {},
   "outputs": [],
   "source": [
    "#Train\n",
    "X_train = transactions_train.drop(['cl_id','target_flag'], axis=1)\n",
    "y_train = transactions_train['target_flag']"
   ]
  },
  {
   "cell_type": "code",
   "execution_count": 94,
   "metadata": {},
   "outputs": [],
   "source": [
    "from sklearn.ensemble import RandomForestClassifier\n",
    "from sklearn.metrics import roc_auc_score, roc_curve"
   ]
  },
  {
   "cell_type": "code",
   "execution_count": 95,
   "metadata": {},
   "outputs": [],
   "source": [
    "cols = list(filter(lambda x: x in X_test.columns, X_train.columns))"
   ]
  },
  {
   "cell_type": "code",
   "execution_count": 96,
   "metadata": {},
   "outputs": [],
   "source": [
    "clf = RandomForestClassifier(n_estimators=300, max_depth=30, random_state=0)\\\n",
    ".fit(X_train[cols], y_train)"
   ]
  },
  {
   "cell_type": "code",
   "execution_count": 97,
   "metadata": {},
   "outputs": [
    {
     "name": "stdout",
     "output_type": "stream",
     "text": [
      "Train:  1.0\n"
     ]
    }
   ],
   "source": [
    "y_train_predict = clf.predict_proba(X_train[cols])[:, 1]\n",
    "\n",
    "\n",
    "roc_auc_train = np.round(roc_auc_score(y_train, y_train_predict), 2)\n",
    "print(\"Train: \", roc_auc_train)"
   ]
  },
  {
   "cell_type": "code",
   "execution_count": 98,
   "metadata": {},
   "outputs": [
    {
     "name": "stdout",
     "output_type": "stream",
     "text": [
      "Test:  0.77\n"
     ]
    }
   ],
   "source": [
    "y_test_predict = clf.predict_proba(X_test[cols])[:, 1]\n",
    "\n",
    "\n",
    "roc_auc_test = np.round(roc_auc_score(y_test, y_test_predict), 2)\n",
    "print(\"Test: \", roc_auc_test)"
   ]
  },
  {
   "cell_type": "code",
   "execution_count": 99,
   "metadata": {},
   "outputs": [
    {
     "data": {
      "image/png": "[encoded data removed]",
      "text/plain": [
       "<Figure size 432x288 with 1 Axes>"
      ]
     },
     "metadata": {
      "needs_background": "light"
     },
     "output_type": "display_data"
    }
   ],
   "source": [
    "features = X_train.columns\n",
    "importances = clf.feature_importances_\n",
    "\n",
    "indices = np.argsort(importances)\n",
    "\n",
    "plt.title('Feature Importances')\n",
    "plt.barh(range(len(indices)), importances[indices], color='b', align='center')\n",
    "plt.yticks(range(len(indices)), [features[i] for i in indices])\n",
    "plt.xlabel('Relative Importance')\n",
    "plt.show()"
   ]
  },
  {
   "cell_type": "code",
   "execution_count": 100,
   "metadata": {},
   "outputs": [],
   "source": [
    "#Просто ради эксперимента сделать модель только на тех данных, где были операции по снятию с банкомата"
   ]
  },
  {
   "cell_type": "code",
   "execution_count": 110,
   "metadata": {},
   "outputs": [
    {
     "data": {
      "text/html": [
       "<div>\n",
       "<style scoped>\n",
       "    .dataframe tbody tr th:only-of-type {\n",
       "        vertical-align: middle;\n",
       "    }\n",
       "\n",
       "    .dataframe tbody tr th {\n",
       "        vertical-align: top;\n",
       "    }\n",
       "\n",
       "    .dataframe thead th {\n",
       "        text-align: right;\n",
       "    }\n",
       "</style>\n",
       "<table border=\"1\" class=\"dataframe\">\n",
       "  <thead>\n",
       "    <tr style=\"text-align: right;\">\n",
       "      <th></th>\n",
       "      <th>cl_id</th>\n",
       "      <th>target_flag</th>\n",
       "      <th>trx_category_sum_BACK_TRX</th>\n",
       "      <th>trx_category_sum_C2C_IN</th>\n",
       "      <th>trx_category_sum_C2C_OUT</th>\n",
       "      <th>trx_category_sum_CASH_ADV</th>\n",
       "      <th>trx_category_sum_CAT</th>\n",
       "      <th>trx_category_sum_DEPOSIT</th>\n",
       "      <th>trx_category_sum_POS</th>\n",
       "      <th>trx_category_sum_WD_ATM_OTHER</th>\n",
       "      <th>...</th>\n",
       "      <th>trx_category_count_BACK_TRX</th>\n",
       "      <th>trx_category_count_C2C_IN</th>\n",
       "      <th>trx_category_count_C2C_OUT</th>\n",
       "      <th>trx_category_count_CASH_ADV</th>\n",
       "      <th>trx_category_count_CAT</th>\n",
       "      <th>trx_category_count_DEPOSIT</th>\n",
       "      <th>trx_category_count_POS</th>\n",
       "      <th>trx_category_count_WD_ATM_OTHER</th>\n",
       "      <th>trx_category_count_WD_ATM_PARTNER</th>\n",
       "      <th>trx_category_count_WD_ATM_ROS</th>\n",
       "    </tr>\n",
       "  </thead>\n",
       "  <tbody>\n",
       "    <tr>\n",
       "      <th>1</th>\n",
       "      <td>1</td>\n",
       "      <td>0</td>\n",
       "      <td>0.0</td>\n",
       "      <td>0.0</td>\n",
       "      <td>0.00</td>\n",
       "      <td>0.0</td>\n",
       "      <td>0.00</td>\n",
       "      <td>95000.0</td>\n",
       "      <td>122578.04</td>\n",
       "      <td>0.0</td>\n",
       "      <td>...</td>\n",
       "      <td>0</td>\n",
       "      <td>0</td>\n",
       "      <td>0</td>\n",
       "      <td>0</td>\n",
       "      <td>0</td>\n",
       "      <td>2</td>\n",
       "      <td>101</td>\n",
       "      <td>0</td>\n",
       "      <td>0</td>\n",
       "      <td>1</td>\n",
       "    </tr>\n",
       "    <tr>\n",
       "      <th>2</th>\n",
       "      <td>5</td>\n",
       "      <td>1</td>\n",
       "      <td>13990.0</td>\n",
       "      <td>0.0</td>\n",
       "      <td>33878.38</td>\n",
       "      <td>0.0</td>\n",
       "      <td>0.00</td>\n",
       "      <td>130000.0</td>\n",
       "      <td>290500.75</td>\n",
       "      <td>5500.0</td>\n",
       "      <td>...</td>\n",
       "      <td>1</td>\n",
       "      <td>0</td>\n",
       "      <td>8</td>\n",
       "      <td>0</td>\n",
       "      <td>0</td>\n",
       "      <td>4</td>\n",
       "      <td>111</td>\n",
       "      <td>2</td>\n",
       "      <td>2</td>\n",
       "      <td>14</td>\n",
       "    </tr>\n",
       "    <tr>\n",
       "      <th>3</th>\n",
       "      <td>9</td>\n",
       "      <td>0</td>\n",
       "      <td>0.0</td>\n",
       "      <td>296950.0</td>\n",
       "      <td>0.00</td>\n",
       "      <td>0.0</td>\n",
       "      <td>0.00</td>\n",
       "      <td>5000.0</td>\n",
       "      <td>12365.09</td>\n",
       "      <td>0.0</td>\n",
       "      <td>...</td>\n",
       "      <td>0</td>\n",
       "      <td>3</td>\n",
       "      <td>0</td>\n",
       "      <td>0</td>\n",
       "      <td>0</td>\n",
       "      <td>1</td>\n",
       "      <td>29</td>\n",
       "      <td>0</td>\n",
       "      <td>1</td>\n",
       "      <td>5</td>\n",
       "    </tr>\n",
       "    <tr>\n",
       "      <th>4</th>\n",
       "      <td>10</td>\n",
       "      <td>0</td>\n",
       "      <td>0.0</td>\n",
       "      <td>10000.0</td>\n",
       "      <td>21692.90</td>\n",
       "      <td>0.0</td>\n",
       "      <td>37694.98</td>\n",
       "      <td>426300.0</td>\n",
       "      <td>200956.11</td>\n",
       "      <td>0.0</td>\n",
       "      <td>...</td>\n",
       "      <td>0</td>\n",
       "      <td>1</td>\n",
       "      <td>19</td>\n",
       "      <td>0</td>\n",
       "      <td>3</td>\n",
       "      <td>24</td>\n",
       "      <td>374</td>\n",
       "      <td>0</td>\n",
       "      <td>3</td>\n",
       "      <td>39</td>\n",
       "    </tr>\n",
       "    <tr>\n",
       "      <th>6</th>\n",
       "      <td>14</td>\n",
       "      <td>1</td>\n",
       "      <td>0.0</td>\n",
       "      <td>152700.0</td>\n",
       "      <td>0.00</td>\n",
       "      <td>0.0</td>\n",
       "      <td>0.00</td>\n",
       "      <td>0.0</td>\n",
       "      <td>258990.17</td>\n",
       "      <td>0.0</td>\n",
       "      <td>...</td>\n",
       "      <td>0</td>\n",
       "      <td>3</td>\n",
       "      <td>0</td>\n",
       "      <td>0</td>\n",
       "      <td>0</td>\n",
       "      <td>0</td>\n",
       "      <td>132</td>\n",
       "      <td>0</td>\n",
       "      <td>0</td>\n",
       "      <td>1</td>\n",
       "    </tr>\n",
       "  </tbody>\n",
       "</table>\n",
       "<p>5 rows × 22 columns</p>\n",
       "</div>"
      ],
      "text/plain": [
       "   cl_id  target_flag  trx_category_sum_BACK_TRX  trx_category_sum_C2C_IN  \\\n",
       "1      1            0                        0.0                      0.0   \n",
       "2      5            1                    13990.0                      0.0   \n",
       "3      9            0                        0.0                 296950.0   \n",
       "4     10            0                        0.0                  10000.0   \n",
       "6     14            1                        0.0                 152700.0   \n",
       "\n",
       "   trx_category_sum_C2C_OUT  trx_category_sum_CASH_ADV  trx_category_sum_CAT  \\\n",
       "1                      0.00                        0.0                  0.00   \n",
       "2                  33878.38                        0.0                  0.00   \n",
       "3                      0.00                        0.0                  0.00   \n",
       "4                  21692.90                        0.0              37694.98   \n",
       "6                      0.00                        0.0                  0.00   \n",
       "\n",
       "   trx_category_sum_DEPOSIT  trx_category_sum_POS  \\\n",
       "1                   95000.0             122578.04   \n",
       "2                  130000.0             290500.75   \n",
       "3                    5000.0              12365.09   \n",
       "4                  426300.0             200956.11   \n",
       "6                       0.0             258990.17   \n",
       "\n",
       "   trx_category_sum_WD_ATM_OTHER  ...  trx_category_count_BACK_TRX  \\\n",
       "1                            0.0  ...                            0   \n",
       "2                         5500.0  ...                            1   \n",
       "3                            0.0  ...                            0   \n",
       "4                            0.0  ...                            0   \n",
       "6                            0.0  ...                            0   \n",
       "\n",
       "   trx_category_count_C2C_IN  trx_category_count_C2C_OUT  \\\n",
       "1                          0                           0   \n",
       "2                          0                           8   \n",
       "3                          3                           0   \n",
       "4                          1                          19   \n",
       "6                          3                           0   \n",
       "\n",
       "   trx_category_count_CASH_ADV  trx_category_count_CAT  \\\n",
       "1                            0                       0   \n",
       "2                            0                       0   \n",
       "3                            0                       0   \n",
       "4                            0                       3   \n",
       "6                            0                       0   \n",
       "\n",
       "   trx_category_count_DEPOSIT  trx_category_count_POS  \\\n",
       "1                           2                     101   \n",
       "2                           4                     111   \n",
       "3                           1                      29   \n",
       "4                          24                     374   \n",
       "6                           0                     132   \n",
       "\n",
       "   trx_category_count_WD_ATM_OTHER  trx_category_count_WD_ATM_PARTNER  \\\n",
       "1                                0                                  0   \n",
       "2                                2                                  2   \n",
       "3                                0                                  1   \n",
       "4                                0                                  3   \n",
       "6                                0                                  0   \n",
       "\n",
       "   trx_category_count_WD_ATM_ROS  \n",
       "1                              1  \n",
       "2                             14  \n",
       "3                              5  \n",
       "4                             39  \n",
       "6                              1  \n",
       "\n",
       "[5 rows x 22 columns]"
      ]
     },
     "execution_count": 110,
     "metadata": {},
     "output_type": "execute_result"
    }
   ],
   "source": [
    "new_df_grouped_WD_ATM=new_df_grouped[(new_df_grouped['trx_category_count_WD_ATM_OTHER']>=1) | (new_df_grouped['trx_category_count_WD_ATM_PARTNER']>=1) | (new_df_grouped['trx_category_count_WD_ATM_ROS']>=1)]\n",
    "new_df_grouped_WD_ATM.head()"
   ]
  },
  {
   "cell_type": "code",
   "execution_count": 111,
   "metadata": {},
   "outputs": [
    {
     "data": {
      "text/plain": [
       "(3337, 22)"
      ]
     },
     "execution_count": 111,
     "metadata": {},
     "output_type": "execute_result"
    }
   ],
   "source": [
    "new_df_grouped_WD_ATM.shape"
   ]
  },
  {
   "cell_type": "code",
   "execution_count": 112,
   "metadata": {},
   "outputs": [],
   "source": [
    "cl_ids_test = np.random.choice(new_df_grouped_WD_ATM.cl_id.unique(), size=500, replace=False)\n",
    "cl_ids_test_set = set(cl_ids_test)"
   ]
  },
  {
   "cell_type": "code",
   "execution_count": 113,
   "metadata": {},
   "outputs": [
    {
     "name": "stdout",
     "output_type": "stream",
     "text": [
      "Total transactions in train dataset:  2837\n",
      "Total transactions in test dataset:  500\n"
     ]
    }
   ],
   "source": [
    "# данные для обучения\n",
    "transactions_train = new_df_grouped_WD_ATM[~new_df_grouped_WD_ATM.cl_id.isin(cl_ids_test)].copy()\n",
    "print(\"Total transactions in train dataset: \", len(transactions_train))\n",
    "# данные для теста\n",
    "transactions_test = new_df_grouped_WD_ATM[new_df_grouped_WD_ATM.cl_id.isin(cl_ids_test)].copy()\n",
    "print(\"Total transactions in test dataset: \", len(transactions_test))"
   ]
  },
  {
   "cell_type": "code",
   "execution_count": 114,
   "metadata": {},
   "outputs": [
    {
     "data": {
      "text/plain": [
       "['cl_id',\n",
       " 'target_flag',\n",
       " 'trx_category_sum_BACK_TRX',\n",
       " 'trx_category_sum_C2C_IN',\n",
       " 'trx_category_sum_C2C_OUT',\n",
       " 'trx_category_sum_CASH_ADV',\n",
       " 'trx_category_sum_CAT',\n",
       " 'trx_category_sum_DEPOSIT',\n",
       " 'trx_category_sum_POS',\n",
       " 'trx_category_sum_WD_ATM_OTHER',\n",
       " 'trx_category_sum_WD_ATM_PARTNER',\n",
       " 'trx_category_sum_WD_ATM_ROS',\n",
       " 'trx_category_count_BACK_TRX',\n",
       " 'trx_category_count_C2C_IN',\n",
       " 'trx_category_count_C2C_OUT',\n",
       " 'trx_category_count_CASH_ADV',\n",
       " 'trx_category_count_CAT',\n",
       " 'trx_category_count_DEPOSIT',\n",
       " 'trx_category_count_POS',\n",
       " 'trx_category_count_WD_ATM_OTHER',\n",
       " 'trx_category_count_WD_ATM_PARTNER',\n",
       " 'trx_category_count_WD_ATM_ROS']"
      ]
     },
     "execution_count": 114,
     "metadata": {},
     "output_type": "execute_result"
    }
   ],
   "source": [
    "list(new_df_grouped_WD_ATM.columns)"
   ]
  },
  {
   "cell_type": "code",
   "execution_count": 117,
   "metadata": {},
   "outputs": [],
   "source": [
    "#Тестовые\n",
    "X_test = transactions_test.drop(['cl_id','target_flag','trx_category_sum_BACK_TRX',\\\n",
    "                                'trx_category_sum_C2C_IN',\\\n",
    "                                'trx_category_sum_C2C_OUT',\\\n",
    "                                'trx_category_sum_CASH_ADV',\\\n",
    "                                'trx_category_sum_CAT',\\\n",
    "                                 'trx_category_sum_DEPOSIT',\\\n",
    "                                 'trx_category_sum_POS',\n",
    "                                'trx_category_count_BACK_TRX',\\\n",
    "                                 'trx_category_count_C2C_IN',\\\n",
    "                                 'trx_category_count_C2C_OUT',\\\n",
    "                                 'trx_category_count_CASH_ADV',\\\n",
    "                                 'trx_category_count_CAT',\\\n",
    "                                 'trx_category_count_DEPOSIT',\\\n",
    "                                 'trx_category_count_POS',], axis=1)\n",
    "y_test = transactions_test['target_flag']"
   ]
  },
  {
   "cell_type": "code",
   "execution_count": 118,
   "metadata": {},
   "outputs": [
    {
     "data": {
      "text/html": [
       "<div>\n",
       "<style scoped>\n",
       "    .dataframe tbody tr th:only-of-type {\n",
       "        vertical-align: middle;\n",
       "    }\n",
       "\n",
       "    .dataframe tbody tr th {\n",
       "        vertical-align: top;\n",
       "    }\n",
       "\n",
       "    .dataframe thead th {\n",
       "        text-align: right;\n",
       "    }\n",
       "</style>\n",
       "<table border=\"1\" class=\"dataframe\">\n",
       "  <thead>\n",
       "    <tr style=\"text-align: right;\">\n",
       "      <th></th>\n",
       "      <th>trx_category_sum_WD_ATM_OTHER</th>\n",
       "      <th>trx_category_sum_WD_ATM_PARTNER</th>\n",
       "      <th>trx_category_sum_WD_ATM_ROS</th>\n",
       "      <th>trx_category_count_WD_ATM_OTHER</th>\n",
       "      <th>trx_category_count_WD_ATM_PARTNER</th>\n",
       "      <th>trx_category_count_WD_ATM_ROS</th>\n",
       "    </tr>\n",
       "  </thead>\n",
       "  <tbody>\n",
       "    <tr>\n",
       "      <th>1</th>\n",
       "      <td>0.0</td>\n",
       "      <td>0.0</td>\n",
       "      <td>50000.0</td>\n",
       "      <td>0</td>\n",
       "      <td>0</td>\n",
       "      <td>1</td>\n",
       "    </tr>\n",
       "  </tbody>\n",
       "</table>\n",
       "</div>"
      ],
      "text/plain": [
       "   trx_category_sum_WD_ATM_OTHER  trx_category_sum_WD_ATM_PARTNER  \\\n",
       "1                            0.0                              0.0   \n",
       "\n",
       "   trx_category_sum_WD_ATM_ROS  trx_category_count_WD_ATM_OTHER  \\\n",
       "1                      50000.0                                0   \n",
       "\n",
       "   trx_category_count_WD_ATM_PARTNER  trx_category_count_WD_ATM_ROS  \n",
       "1                                  0                              1  "
      ]
     },
     "execution_count": 118,
     "metadata": {},
     "output_type": "execute_result"
    }
   ],
   "source": [
    "X_test.head(1)"
   ]
  },
  {
   "cell_type": "code",
   "execution_count": 119,
   "metadata": {},
   "outputs": [],
   "source": [
    "#Train\n",
    "X_train = transactions_train.drop(['cl_id','target_flag','trx_category_sum_BACK_TRX',\\\n",
    "                                'trx_category_sum_C2C_IN',\\\n",
    "                                'trx_category_sum_C2C_OUT',\\\n",
    "                                'trx_category_sum_CASH_ADV',\\\n",
    "                                'trx_category_sum_CAT',\\\n",
    "                                 'trx_category_sum_DEPOSIT',\\\n",
    "                                 'trx_category_sum_POS',\n",
    "                                'trx_category_count_BACK_TRX',\\\n",
    "                                 'trx_category_count_C2C_IN',\\\n",
    "                                 'trx_category_count_C2C_OUT',\\\n",
    "                                 'trx_category_count_CASH_ADV',\\\n",
    "                                 'trx_category_count_CAT',\\\n",
    "                                 'trx_category_count_DEPOSIT',\\\n",
    "                                 'trx_category_count_POS',], axis=1)\n",
    "y_train = transactions_train['target_flag']"
   ]
  },
  {
   "cell_type": "code",
   "execution_count": 120,
   "metadata": {},
   "outputs": [],
   "source": [
    "cols = list(filter(lambda x: x in X_test.columns, X_train.columns))"
   ]
  },
  {
   "cell_type": "code",
   "execution_count": 121,
   "metadata": {},
   "outputs": [],
   "source": [
    "clf = RandomForestClassifier(n_estimators=300, max_depth=30, random_state=0)\\\n",
    ".fit(X_train[cols], y_train)"
   ]
  },
  {
   "cell_type": "code",
   "execution_count": 122,
   "metadata": {},
   "outputs": [
    {
     "name": "stdout",
     "output_type": "stream",
     "text": [
      "Train:  0.99\n"
     ]
    }
   ],
   "source": [
    "y_train_predict = clf.predict_proba(X_train[cols])[:, 1]\n",
    "\n",
    "\n",
    "roc_auc_train = np.round(roc_auc_score(y_train, y_train_predict), 2)\n",
    "print(\"Train: \", roc_auc_train)"
   ]
  },
  {
   "cell_type": "code",
   "execution_count": 123,
   "metadata": {},
   "outputs": [
    {
     "name": "stdout",
     "output_type": "stream",
     "text": [
      "Test:  0.69\n"
     ]
    }
   ],
   "source": [
    "y_test_predict = clf.predict_proba(X_test[cols])[:, 1]\n",
    "\n",
    "\n",
    "roc_auc_test = np.round(roc_auc_score(y_test, y_test_predict), 2)\n",
    "print(\"Test: \", roc_auc_test)"
   ]
  },
  {
   "cell_type": "code",
   "execution_count": 124,
   "metadata": {},
   "outputs": [
    {
     "data": {
      "image/png": "[encoded data removed]",
      "text/plain": [
       "<Figure size 432x288 with 1 Axes>"
      ]
     },
     "metadata": {
      "needs_background": "light"
     },
     "output_type": "display_data"
    }
   ],
   "source": [
    "features = X_train.columns\n",
    "importances = clf.feature_importances_\n",
    "\n",
    "indices = np.argsort(importances)\n",
    "\n",
    "plt.title('Feature Importances')\n",
    "plt.barh(range(len(indices)), importances[indices], color='b', align='center')\n",
    "plt.yticks(range(len(indices)), [features[i] for i in indices])\n",
    "plt.xlabel('Relative Importance')\n",
    "plt.show()"
   ]
  },
  {
   "cell_type": "code",
   "execution_count": 125,
   "metadata": {},
   "outputs": [],
   "source": [
    "#Такая себе была идея, делать модель только исходя из данных по снятию с банкомата"
   ]
  },
  {
   "cell_type": "code",
   "execution_count": 126,
   "metadata": {},
   "outputs": [],
   "source": [
    "#Можно попробовать на тех же данных, в которых есть хоть одно снятие с банкомата, но с учетом всех колонок\n",
    "#Тестовые\n",
    "X_test = transactions_test.drop(['cl_id','target_flag'], axis=1)\n",
    "y_test = transactions_test['target_flag']"
   ]
  },
  {
   "cell_type": "code",
   "execution_count": 127,
   "metadata": {},
   "outputs": [],
   "source": [
    "#Train\n",
    "X_train = transactions_train.drop(['cl_id','target_flag'], axis=1)\n",
    "y_train = transactions_train['target_flag']"
   ]
  },
  {
   "cell_type": "code",
   "execution_count": 128,
   "metadata": {},
   "outputs": [],
   "source": [
    "cols = list(filter(lambda x: x in X_test.columns, X_train.columns))"
   ]
  },
  {
   "cell_type": "code",
   "execution_count": 129,
   "metadata": {},
   "outputs": [],
   "source": [
    "clf = RandomForestClassifier(n_estimators=300, max_depth=30, random_state=0)\\\n",
    ".fit(X_train[cols], y_train)"
   ]
  },
  {
   "cell_type": "code",
   "execution_count": 130,
   "metadata": {},
   "outputs": [
    {
     "name": "stdout",
     "output_type": "stream",
     "text": [
      "Train:  1.0\n"
     ]
    }
   ],
   "source": [
    "y_train_predict = clf.predict_proba(X_train[cols])[:, 1]\n",
    "\n",
    "\n",
    "roc_auc_train = np.round(roc_auc_score(y_train, y_train_predict), 2)\n",
    "print(\"Train: \", roc_auc_train)"
   ]
  },
  {
   "cell_type": "code",
   "execution_count": 131,
   "metadata": {},
   "outputs": [
    {
     "name": "stdout",
     "output_type": "stream",
     "text": [
      "Test:  0.81\n"
     ]
    }
   ],
   "source": [
    "y_test_predict = clf.predict_proba(X_test[cols])[:, 1]\n",
    "\n",
    "\n",
    "roc_auc_test = np.round(roc_auc_score(y_test, y_test_predict), 2)\n",
    "print(\"Test: \", roc_auc_test)"
   ]
  },
  {
   "cell_type": "code",
   "execution_count": 132,
   "metadata": {},
   "outputs": [
    {
     "data": {
      "image/png": "[encoded data removed]",
      "text/plain": [
       "<Figure size 432x288 with 1 Axes>"
      ]
     },
     "metadata": {
      "needs_background": "light"
     },
     "output_type": "display_data"
    }
   ],
   "source": [
    "features = X_train.columns\n",
    "importances = clf.feature_importances_\n",
    "\n",
    "indices = np.argsort(importances)\n",
    "\n",
    "plt.title('Feature Importances')\n",
    "plt.barh(range(len(indices)), importances[indices], color='b', align='center')\n",
    "plt.yticks(range(len(indices)), [features[i] for i in indices])\n",
    "plt.xlabel('Relative Importance')\n",
    "plt.show()"
   ]
  },
  {
   "cell_type": "code",
   "execution_count": 133,
   "metadata": {},
   "outputs": [],
   "source": [
    "#Здесь у модели самые высокие результаты"
   ]
  },
  {
   "cell_type": "code",
   "execution_count": 134,
   "metadata": {},
   "outputs": [],
   "source": [
    "#И последний вариант, где будут использованы только те данные, где были снятия с банкоматов не Росбанка или его партнеров"
   ]
  },
  {
   "cell_type": "code",
   "execution_count": 135,
   "metadata": {},
   "outputs": [
    {
     "data": {
      "text/html": [
       "<div>\n",
       "<style scoped>\n",
       "    .dataframe tbody tr th:only-of-type {\n",
       "        vertical-align: middle;\n",
       "    }\n",
       "\n",
       "    .dataframe tbody tr th {\n",
       "        vertical-align: top;\n",
       "    }\n",
       "\n",
       "    .dataframe thead th {\n",
       "        text-align: right;\n",
       "    }\n",
       "</style>\n",
       "<table border=\"1\" class=\"dataframe\">\n",
       "  <thead>\n",
       "    <tr style=\"text-align: right;\">\n",
       "      <th></th>\n",
       "      <th>cl_id</th>\n",
       "      <th>target_flag</th>\n",
       "      <th>trx_category_sum_BACK_TRX</th>\n",
       "      <th>trx_category_sum_C2C_IN</th>\n",
       "      <th>trx_category_sum_C2C_OUT</th>\n",
       "      <th>trx_category_sum_CASH_ADV</th>\n",
       "      <th>trx_category_sum_CAT</th>\n",
       "      <th>trx_category_sum_DEPOSIT</th>\n",
       "      <th>trx_category_sum_POS</th>\n",
       "      <th>trx_category_sum_WD_ATM_OTHER</th>\n",
       "      <th>...</th>\n",
       "      <th>trx_category_count_BACK_TRX</th>\n",
       "      <th>trx_category_count_C2C_IN</th>\n",
       "      <th>trx_category_count_C2C_OUT</th>\n",
       "      <th>trx_category_count_CASH_ADV</th>\n",
       "      <th>trx_category_count_CAT</th>\n",
       "      <th>trx_category_count_DEPOSIT</th>\n",
       "      <th>trx_category_count_POS</th>\n",
       "      <th>trx_category_count_WD_ATM_OTHER</th>\n",
       "      <th>trx_category_count_WD_ATM_PARTNER</th>\n",
       "      <th>trx_category_count_WD_ATM_ROS</th>\n",
       "    </tr>\n",
       "  </thead>\n",
       "  <tbody>\n",
       "    <tr>\n",
       "      <th>2</th>\n",
       "      <td>5</td>\n",
       "      <td>1</td>\n",
       "      <td>13990.0</td>\n",
       "      <td>0.0</td>\n",
       "      <td>33878.38</td>\n",
       "      <td>0.0</td>\n",
       "      <td>0.0</td>\n",
       "      <td>130000.0</td>\n",
       "      <td>290500.75</td>\n",
       "      <td>5500.0</td>\n",
       "      <td>...</td>\n",
       "      <td>1</td>\n",
       "      <td>0</td>\n",
       "      <td>8</td>\n",
       "      <td>0</td>\n",
       "      <td>0</td>\n",
       "      <td>4</td>\n",
       "      <td>111</td>\n",
       "      <td>2</td>\n",
       "      <td>2</td>\n",
       "      <td>14</td>\n",
       "    </tr>\n",
       "    <tr>\n",
       "      <th>9</th>\n",
       "      <td>22</td>\n",
       "      <td>0</td>\n",
       "      <td>0.0</td>\n",
       "      <td>0.0</td>\n",
       "      <td>0.00</td>\n",
       "      <td>0.0</td>\n",
       "      <td>500.0</td>\n",
       "      <td>122600.0</td>\n",
       "      <td>110267.00</td>\n",
       "      <td>3000.0</td>\n",
       "      <td>...</td>\n",
       "      <td>0</td>\n",
       "      <td>0</td>\n",
       "      <td>0</td>\n",
       "      <td>0</td>\n",
       "      <td>2</td>\n",
       "      <td>8</td>\n",
       "      <td>45</td>\n",
       "      <td>1</td>\n",
       "      <td>2</td>\n",
       "      <td>1</td>\n",
       "    </tr>\n",
       "    <tr>\n",
       "      <th>12</th>\n",
       "      <td>25</td>\n",
       "      <td>1</td>\n",
       "      <td>0.0</td>\n",
       "      <td>125000.0</td>\n",
       "      <td>0.00</td>\n",
       "      <td>0.0</td>\n",
       "      <td>0.0</td>\n",
       "      <td>0.0</td>\n",
       "      <td>11400.00</td>\n",
       "      <td>1035000.0</td>\n",
       "      <td>...</td>\n",
       "      <td>0</td>\n",
       "      <td>2</td>\n",
       "      <td>0</td>\n",
       "      <td>0</td>\n",
       "      <td>0</td>\n",
       "      <td>0</td>\n",
       "      <td>7</td>\n",
       "      <td>1</td>\n",
       "      <td>0</td>\n",
       "      <td>2</td>\n",
       "    </tr>\n",
       "    <tr>\n",
       "      <th>15</th>\n",
       "      <td>31</td>\n",
       "      <td>1</td>\n",
       "      <td>9900.0</td>\n",
       "      <td>0.0</td>\n",
       "      <td>0.00</td>\n",
       "      <td>0.0</td>\n",
       "      <td>0.0</td>\n",
       "      <td>0.0</td>\n",
       "      <td>393067.76</td>\n",
       "      <td>4800.0</td>\n",
       "      <td>...</td>\n",
       "      <td>1</td>\n",
       "      <td>0</td>\n",
       "      <td>0</td>\n",
       "      <td>0</td>\n",
       "      <td>0</td>\n",
       "      <td>0</td>\n",
       "      <td>99</td>\n",
       "      <td>1</td>\n",
       "      <td>5</td>\n",
       "      <td>1</td>\n",
       "    </tr>\n",
       "    <tr>\n",
       "      <th>16</th>\n",
       "      <td>32</td>\n",
       "      <td>1</td>\n",
       "      <td>0.0</td>\n",
       "      <td>48000.0</td>\n",
       "      <td>13000.00</td>\n",
       "      <td>0.0</td>\n",
       "      <td>0.0</td>\n",
       "      <td>0.0</td>\n",
       "      <td>136963.00</td>\n",
       "      <td>16000.0</td>\n",
       "      <td>...</td>\n",
       "      <td>0</td>\n",
       "      <td>4</td>\n",
       "      <td>2</td>\n",
       "      <td>0</td>\n",
       "      <td>0</td>\n",
       "      <td>0</td>\n",
       "      <td>116</td>\n",
       "      <td>4</td>\n",
       "      <td>3</td>\n",
       "      <td>4</td>\n",
       "    </tr>\n",
       "  </tbody>\n",
       "</table>\n",
       "<p>5 rows × 22 columns</p>\n",
       "</div>"
      ],
      "text/plain": [
       "    cl_id  target_flag  trx_category_sum_BACK_TRX  trx_category_sum_C2C_IN  \\\n",
       "2       5            1                    13990.0                      0.0   \n",
       "9      22            0                        0.0                      0.0   \n",
       "12     25            1                        0.0                 125000.0   \n",
       "15     31            1                     9900.0                      0.0   \n",
       "16     32            1                        0.0                  48000.0   \n",
       "\n",
       "    trx_category_sum_C2C_OUT  trx_category_sum_CASH_ADV  trx_category_sum_CAT  \\\n",
       "2                   33878.38                        0.0                   0.0   \n",
       "9                       0.00                        0.0                 500.0   \n",
       "12                      0.00                        0.0                   0.0   \n",
       "15                      0.00                        0.0                   0.0   \n",
       "16                  13000.00                        0.0                   0.0   \n",
       "\n",
       "    trx_category_sum_DEPOSIT  trx_category_sum_POS  \\\n",
       "2                   130000.0             290500.75   \n",
       "9                   122600.0             110267.00   \n",
       "12                       0.0              11400.00   \n",
       "15                       0.0             393067.76   \n",
       "16                       0.0             136963.00   \n",
       "\n",
       "    trx_category_sum_WD_ATM_OTHER  ...  trx_category_count_BACK_TRX  \\\n",
       "2                          5500.0  ...                            1   \n",
       "9                          3000.0  ...                            0   \n",
       "12                      1035000.0  ...                            0   \n",
       "15                         4800.0  ...                            1   \n",
       "16                        16000.0  ...                            0   \n",
       "\n",
       "    trx_category_count_C2C_IN  trx_category_count_C2C_OUT  \\\n",
       "2                           0                           8   \n",
       "9                           0                           0   \n",
       "12                          2                           0   \n",
       "15                          0                           0   \n",
       "16                          4                           2   \n",
       "\n",
       "    trx_category_count_CASH_ADV  trx_category_count_CAT  \\\n",
       "2                             0                       0   \n",
       "9                             0                       2   \n",
       "12                            0                       0   \n",
       "15                            0                       0   \n",
       "16                            0                       0   \n",
       "\n",
       "    trx_category_count_DEPOSIT  trx_category_count_POS  \\\n",
       "2                            4                     111   \n",
       "9                            8                      45   \n",
       "12                           0                       7   \n",
       "15                           0                      99   \n",
       "16                           0                     116   \n",
       "\n",
       "    trx_category_count_WD_ATM_OTHER  trx_category_count_WD_ATM_PARTNER  \\\n",
       "2                                 2                                  2   \n",
       "9                                 1                                  2   \n",
       "12                                1                                  0   \n",
       "15                                1                                  5   \n",
       "16                                4                                  3   \n",
       "\n",
       "    trx_category_count_WD_ATM_ROS  \n",
       "2                              14  \n",
       "9                               1  \n",
       "12                              2  \n",
       "15                              1  \n",
       "16                              4  \n",
       "\n",
       "[5 rows x 22 columns]"
      ]
     },
     "execution_count": 135,
     "metadata": {},
     "output_type": "execute_result"
    }
   ],
   "source": [
    "new_df_grouped_WD_ATM_OTHER=new_df_grouped[new_df_grouped['trx_category_count_WD_ATM_OTHER']>=1]\n",
    "new_df_grouped_WD_ATM_OTHER.head()"
   ]
  },
  {
   "cell_type": "code",
   "execution_count": 136,
   "metadata": {},
   "outputs": [
    {
     "data": {
      "text/plain": [
       "(1239, 22)"
      ]
     },
     "execution_count": 136,
     "metadata": {},
     "output_type": "execute_result"
    }
   ],
   "source": [
    "new_df_grouped_WD_ATM_OTHER.shape"
   ]
  },
  {
   "cell_type": "code",
   "execution_count": 137,
   "metadata": {},
   "outputs": [],
   "source": [
    "cl_ids_test = np.random.choice(new_df_grouped_WD_ATM.cl_id.unique(), size=300, replace=False)\n",
    "cl_ids_test_set = set(cl_ids_test)"
   ]
  },
  {
   "cell_type": "code",
   "execution_count": 138,
   "metadata": {},
   "outputs": [
    {
     "name": "stdout",
     "output_type": "stream",
     "text": [
      "Total transactions in train dataset:  3037\n",
      "Total transactions in test dataset:  300\n"
     ]
    }
   ],
   "source": [
    "# данные для обучения\n",
    "transactions_train = new_df_grouped_WD_ATM[~new_df_grouped_WD_ATM.cl_id.isin(cl_ids_test)].copy()\n",
    "print(\"Total transactions in train dataset: \", len(transactions_train))\n",
    "# данные для теста\n",
    "transactions_test = new_df_grouped_WD_ATM[new_df_grouped_WD_ATM.cl_id.isin(cl_ids_test)].copy()\n",
    "print(\"Total transactions in test dataset: \", len(transactions_test))"
   ]
  },
  {
   "cell_type": "code",
   "execution_count": 139,
   "metadata": {},
   "outputs": [],
   "source": [
    "#Тестовые\n",
    "X_test = transactions_test.drop(['cl_id','target_flag'], axis=1)\n",
    "y_test = transactions_test['target_flag']"
   ]
  },
  {
   "cell_type": "code",
   "execution_count": 140,
   "metadata": {},
   "outputs": [],
   "source": [
    "#Train\n",
    "X_train = transactions_train.drop(['cl_id','target_flag'], axis=1)\n",
    "y_train = transactions_train['target_flag']"
   ]
  },
  {
   "cell_type": "code",
   "execution_count": 141,
   "metadata": {},
   "outputs": [],
   "source": [
    "cols = list(filter(lambda x: x in X_test.columns, X_train.columns))"
   ]
  },
  {
   "cell_type": "code",
   "execution_count": 142,
   "metadata": {},
   "outputs": [],
   "source": [
    "clf = RandomForestClassifier(n_estimators=300, max_depth=30, random_state=0)\\\n",
    ".fit(X_train[cols], y_train)"
   ]
  },
  {
   "cell_type": "code",
   "execution_count": 143,
   "metadata": {},
   "outputs": [
    {
     "name": "stdout",
     "output_type": "stream",
     "text": [
      "Train:  1.0\n"
     ]
    }
   ],
   "source": [
    "y_train_predict = clf.predict_proba(X_train[cols])[:, 1]\n",
    "\n",
    "\n",
    "roc_auc_train = np.round(roc_auc_score(y_train, y_train_predict), 2)\n",
    "print(\"Train: \", roc_auc_train)"
   ]
  },
  {
   "cell_type": "code",
   "execution_count": 144,
   "metadata": {},
   "outputs": [
    {
     "name": "stdout",
     "output_type": "stream",
     "text": [
      "Test:  0.81\n"
     ]
    }
   ],
   "source": [
    "y_test_predict = clf.predict_proba(X_test[cols])[:, 1]\n",
    "\n",
    "\n",
    "roc_auc_test = np.round(roc_auc_score(y_test, y_test_predict), 2)\n",
    "print(\"Test: \", roc_auc_test)"
   ]
  },
  {
   "cell_type": "code",
   "execution_count": 145,
   "metadata": {},
   "outputs": [
    {
     "data": {
      "image/png": "[encoded data removed]",
      "text/plain": [
       "<Figure size 432x288 with 1 Axes>"
      ]
     },
     "metadata": {
      "needs_background": "light"
     },
     "output_type": "display_data"
    }
   ],
   "source": [
    "features = X_train.columns\n",
    "importances = clf.feature_importances_\n",
    "\n",
    "indices = np.argsort(importances)\n",
    "\n",
    "plt.title('Feature Importances')\n",
    "plt.barh(range(len(indices)), importances[indices], color='b', align='center')\n",
    "plt.yticks(range(len(indices)), [features[i] for i in indices])\n",
    "plt.xlabel('Relative Importance')\n",
    "plt.show()"
   ]
  },
  {
   "cell_type": "code",
   "execution_count": 146,
   "metadata": {},
   "outputs": [],
   "source": [
    "#Станет ли модель хуже, если убрать trx_category_WD_ATM_OTHER?"
   ]
  },
  {
   "cell_type": "code",
   "execution_count": 154,
   "metadata": {},
   "outputs": [],
   "source": [
    "#Тестовые\n",
    "X_test = transactions_test.drop(['cl_id','target_flag','trx_category_count_WD_ATM_OTHER','trx_category_sum_WD_ATM_OTHER']\\\n",
    "                                , axis=1)\n",
    "y_test = transactions_test['target_flag']"
   ]
  },
  {
   "cell_type": "code",
   "execution_count": 155,
   "metadata": {},
   "outputs": [],
   "source": [
    "#Train\n",
    "X_train = transactions_train.drop(['cl_id','target_flag','trx_category_count_WD_ATM_OTHER','trx_category_sum_WD_ATM_OTHER']\\\n",
    "                                  , axis=1)\n",
    "y_train = transactions_train['target_flag']"
   ]
  },
  {
   "cell_type": "code",
   "execution_count": 156,
   "metadata": {},
   "outputs": [],
   "source": [
    "cols = list(filter(lambda x: x in X_test.columns, X_train.columns))"
   ]
  },
  {
   "cell_type": "code",
   "execution_count": 157,
   "metadata": {},
   "outputs": [],
   "source": [
    "clf = RandomForestClassifier(n_estimators=300, max_depth=30, random_state=0)\\\n",
    ".fit(X_train[cols], y_train)"
   ]
  },
  {
   "cell_type": "code",
   "execution_count": 158,
   "metadata": {},
   "outputs": [
    {
     "name": "stdout",
     "output_type": "stream",
     "text": [
      "Train:  1.0\n"
     ]
    }
   ],
   "source": [
    "y_train_predict = clf.predict_proba(X_train[cols])[:, 1]\n",
    "\n",
    "\n",
    "roc_auc_train = np.round(roc_auc_score(y_train, y_train_predict), 2)\n",
    "print(\"Train: \", roc_auc_train)"
   ]
  },
  {
   "cell_type": "code",
   "execution_count": 159,
   "metadata": {},
   "outputs": [
    {
     "name": "stdout",
     "output_type": "stream",
     "text": [
      "Test:  0.8\n"
     ]
    }
   ],
   "source": [
    "y_test_predict = clf.predict_proba(X_test[cols])[:, 1]\n",
    "\n",
    "\n",
    "roc_auc_test = np.round(roc_auc_score(y_test, y_test_predict), 2)\n",
    "print(\"Test: \", roc_auc_test)"
   ]
  },
  {
   "cell_type": "code",
   "execution_count": 153,
   "metadata": {},
   "outputs": [
    {
     "data": {
      "image/png": "[encoded data removed]",
      "text/plain": [
       "<Figure size 432x288 with 1 Axes>"
      ]
     },
     "metadata": {
      "needs_background": "light"
     },
     "output_type": "display_data"
    }
   ],
   "source": [
    "features = X_train.columns\n",
    "importances = clf.feature_importances_\n",
    "\n",
    "indices = np.argsort(importances)\n",
    "\n",
    "plt.title('Feature Importances')\n",
    "plt.barh(range(len(indices)), importances[indices], color='b', align='center')\n",
    "plt.yticks(range(len(indices)), [features[i] for i in indices])\n",
    "plt.xlabel('Relative Importance')\n",
    "plt.show()"
   ]
  },
  {
   "cell_type": "code",
   "execution_count": 161,
   "metadata": {},
   "outputs": [],
   "source": [
    "#Если строить модель на данных, где точно были снятия с других банкоматов, то trx_category_WD_ATM_OTHER повлияет на качество \n",
    "#модели. Но возможно, что исключение этого показателя вообще никак не будет влиять, если построить модель на всех данных\n",
    "#но без этого показателя"
   ]
  },
  {
   "cell_type": "code",
   "execution_count": 162,
   "metadata": {},
   "outputs": [],
   "source": [
    "cl_ids_test = np.random.choice(new_df_grouped.cl_id.unique(), size=1000, replace=False)\n",
    "cl_ids_test_set = set(cl_ids_test)"
   ]
  },
  {
   "cell_type": "code",
   "execution_count": 163,
   "metadata": {},
   "outputs": [
    {
     "name": "stdout",
     "output_type": "stream",
     "text": [
      "Total transactions in train dataset:  4000\n",
      "Total transactions in test dataset:  1000\n"
     ]
    }
   ],
   "source": [
    "# данные для обучения\n",
    "transactions_train = new_df_grouped[~new_df_grouped.cl_id.isin(cl_ids_test)].copy()\n",
    "print(\"Total transactions in train dataset: \", len(transactions_train))\n",
    "# данные для теста\n",
    "transactions_test = new_df_grouped[new_df_grouped.cl_id.isin(cl_ids_test)].copy()\n",
    "print(\"Total transactions in test dataset: \", len(transactions_test))"
   ]
  },
  {
   "cell_type": "code",
   "execution_count": 164,
   "metadata": {},
   "outputs": [],
   "source": [
    "#Тестовые\n",
    "X_test = transactions_test.drop(['cl_id','target_flag','trx_category_count_WD_ATM_OTHER','trx_category_sum_WD_ATM_OTHER']\\\n",
    "                                , axis=1)\n",
    "y_test = transactions_test['target_flag']"
   ]
  },
  {
   "cell_type": "code",
   "execution_count": 165,
   "metadata": {},
   "outputs": [],
   "source": [
    "#Train\n",
    "X_train = transactions_train.drop(['cl_id','target_flag','trx_category_count_WD_ATM_OTHER','trx_category_sum_WD_ATM_OTHER']\\\n",
    "                                  , axis=1)\n",
    "y_train = transactions_train['target_flag']"
   ]
  },
  {
   "cell_type": "code",
   "execution_count": 166,
   "metadata": {},
   "outputs": [],
   "source": [
    "cols = list(filter(lambda x: x in X_test.columns, X_train.columns))"
   ]
  },
  {
   "cell_type": "code",
   "execution_count": 167,
   "metadata": {},
   "outputs": [],
   "source": [
    "clf = RandomForestClassifier(n_estimators=300, max_depth=30, random_state=0)\\\n",
    ".fit(X_train[cols], y_train)"
   ]
  },
  {
   "cell_type": "code",
   "execution_count": 168,
   "metadata": {},
   "outputs": [
    {
     "name": "stdout",
     "output_type": "stream",
     "text": [
      "Train:  1.0\n"
     ]
    }
   ],
   "source": [
    "y_train_predict = clf.predict_proba(X_train[cols])[:, 1]\n",
    "\n",
    "\n",
    "roc_auc_train = np.round(roc_auc_score(y_train, y_train_predict), 2)\n",
    "print(\"Train: \", roc_auc_train)"
   ]
  },
  {
   "cell_type": "code",
   "execution_count": 169,
   "metadata": {},
   "outputs": [
    {
     "name": "stdout",
     "output_type": "stream",
     "text": [
      "Test:  0.79\n"
     ]
    }
   ],
   "source": [
    "y_test_predict = clf.predict_proba(X_test[cols])[:, 1]\n",
    "\n",
    "\n",
    "roc_auc_test = np.round(roc_auc_score(y_test, y_test_predict), 2)\n",
    "print(\"Test: \", roc_auc_test)"
   ]
  },
  {
   "cell_type": "code",
   "execution_count": 170,
   "metadata": {},
   "outputs": [
    {
     "data": {
      "image/png": "[encoded data removed]",
      "text/plain": [
       "<Figure size 432x288 with 1 Axes>"
      ]
     },
     "metadata": {
      "needs_background": "light"
     },
     "output_type": "display_data"
    }
   ],
   "source": [
    "features = X_train.columns\n",
    "importances = clf.feature_importances_\n",
    "\n",
    "indices = np.argsort(importances)\n",
    "\n",
    "plt.title('Feature Importances')\n",
    "plt.barh(range(len(indices)), importances[indices], color='b', align='center')\n",
    "plt.yticks(range(len(indices)), [features[i] for i in indices])\n",
    "plt.xlabel('Relative Importance')\n",
    "plt.show()"
   ]
  },
  {
   "cell_type": "code",
   "execution_count": 171,
   "metadata": {},
   "outputs": [],
   "source": [
    "#Тот неловкий момент, когда исключение фичи, которая казалось важной, не только не ухудшило модель, но сделало ее немного лучше)\n",
    "#Видимо в случае, если строить модель на выборке, где есть значения по снятию денег с дургих банкоматов, то фичи, связанные\n",
    "#c WD_ATM_OTHER будут иметь значение. Но для предсказания оттока на полных данных эти фичи не будут положительно влиять \n",
    "#на качество модели.Значит гипотеза не подтвердилась."
   ]
  },
  {
   "cell_type": "code",
   "execution_count": null,
   "metadata": {},
   "outputs": [],
   "source": []
  }
 ],
 "metadata": {
  "kernelspec": {
   "display_name": "Python 3",
   "language": "python",
   "name": "python3"
  },
  "language_info": {
   "codemirror_mode": {
    "name": "ipython",
    "version": 3
   },
   "file_extension": ".py",
   "mimetype": "text/x-python",
   "name": "python",
   "nbconvert_exporter": "python",
   "pygments_lexer": "ipython3",
   "version": "3.7.3"
  }
 },
 "nbformat": 4,
 "nbformat_minor": 2
}
