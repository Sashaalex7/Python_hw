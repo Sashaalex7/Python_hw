{
 "cells": [
  {
   "cell_type": "code",
   "execution_count": 1,
   "metadata": {},
   "outputs": [],
   "source": [
    "import pandas as pd\n",
    "import numpy as np"
   ]
  },
  {
   "cell_type": "code",
   "execution_count": 2,
   "metadata": {},
   "outputs": [],
   "source": [
    "Online_Retail_dt=pd.read_csv('Копия Data Sample (AIC-1) - Online Retail.csv')"
   ]
  },
  {
   "cell_type": "code",
   "execution_count": 3,
   "metadata": {},
   "outputs": [
    {
     "data": {
      "text/html": [
       "<div>\n",
       "<style scoped>\n",
       "    .dataframe tbody tr th:only-of-type {\n",
       "        vertical-align: middle;\n",
       "    }\n",
       "\n",
       "    .dataframe tbody tr th {\n",
       "        vertical-align: top;\n",
       "    }\n",
       "\n",
       "    .dataframe thead th {\n",
       "        text-align: right;\n",
       "    }\n",
       "</style>\n",
       "<table border=\"1\" class=\"dataframe\">\n",
       "  <thead>\n",
       "    <tr style=\"text-align: right;\">\n",
       "      <th></th>\n",
       "      <th>InvoiceNo</th>\n",
       "      <th>StockCode</th>\n",
       "      <th>Description</th>\n",
       "      <th>Quantity</th>\n",
       "      <th>InvoiceDate</th>\n",
       "      <th>UnitPrice</th>\n",
       "      <th>CustomerID</th>\n",
       "      <th>Country</th>\n",
       "    </tr>\n",
       "  </thead>\n",
       "  <tbody>\n",
       "    <tr>\n",
       "      <th>0</th>\n",
       "      <td>536365</td>\n",
       "      <td>84029E</td>\n",
       "      <td>RED WOOLLY HOTTIE WHITE HEART.</td>\n",
       "      <td>6</td>\n",
       "      <td>2010-12-01 08:26:00</td>\n",
       "      <td>3,39</td>\n",
       "      <td>17850.0</td>\n",
       "      <td>United Kingdom</td>\n",
       "    </tr>\n",
       "    <tr>\n",
       "      <th>1</th>\n",
       "      <td>536367</td>\n",
       "      <td>84879</td>\n",
       "      <td>ASSORTED COLOUR BIRD ORNAMENT</td>\n",
       "      <td>32</td>\n",
       "      <td>2010-12-01 08:34:00</td>\n",
       "      <td>1,69</td>\n",
       "      <td>13047.0</td>\n",
       "      <td>United Kingdom</td>\n",
       "    </tr>\n",
       "    <tr>\n",
       "      <th>2</th>\n",
       "      <td>536367</td>\n",
       "      <td>21755</td>\n",
       "      <td>LOVE BUILDING BLOCK WORD</td>\n",
       "      <td>3</td>\n",
       "      <td>2010-12-01 08:34:00</td>\n",
       "      <td>5,95</td>\n",
       "      <td>13047.0</td>\n",
       "      <td>United Kingdom</td>\n",
       "    </tr>\n",
       "    <tr>\n",
       "      <th>3</th>\n",
       "      <td>536368</td>\n",
       "      <td>22914</td>\n",
       "      <td>BLUE COAT RACK PARIS FASHION</td>\n",
       "      <td>3</td>\n",
       "      <td>2010-12-01 08:34:00</td>\n",
       "      <td>4,95</td>\n",
       "      <td>13047.0</td>\n",
       "      <td>United Kingdom</td>\n",
       "    </tr>\n",
       "    <tr>\n",
       "      <th>4</th>\n",
       "      <td>536373</td>\n",
       "      <td>84406B</td>\n",
       "      <td>CREAM CUPID HEARTS COAT HANGER</td>\n",
       "      <td>8</td>\n",
       "      <td>2010-12-01 09:02:00</td>\n",
       "      <td>2,75</td>\n",
       "      <td>17850.0</td>\n",
       "      <td>United Kingdom</td>\n",
       "    </tr>\n",
       "  </tbody>\n",
       "</table>\n",
       "</div>"
      ],
      "text/plain": [
       "  InvoiceNo StockCode                     Description  Quantity  \\\n",
       "0    536365    84029E  RED WOOLLY HOTTIE WHITE HEART.         6   \n",
       "1    536367     84879   ASSORTED COLOUR BIRD ORNAMENT        32   \n",
       "2    536367     21755        LOVE BUILDING BLOCK WORD         3   \n",
       "3    536368     22914    BLUE COAT RACK PARIS FASHION         3   \n",
       "4    536373    84406B  CREAM CUPID HEARTS COAT HANGER         8   \n",
       "\n",
       "           InvoiceDate UnitPrice  CustomerID         Country  \n",
       "0  2010-12-01 08:26:00      3,39     17850.0  United Kingdom  \n",
       "1  2010-12-01 08:34:00      1,69     13047.0  United Kingdom  \n",
       "2  2010-12-01 08:34:00      5,95     13047.0  United Kingdom  \n",
       "3  2010-12-01 08:34:00      4,95     13047.0  United Kingdom  \n",
       "4  2010-12-01 09:02:00      2,75     17850.0  United Kingdom  "
      ]
     },
     "execution_count": 3,
     "metadata": {},
     "output_type": "execute_result"
    }
   ],
   "source": [
    "Online_Retail_dt.head()"
   ]
  },
  {
   "cell_type": "code",
   "execution_count": null,
   "metadata": {},
   "outputs": [],
   "source": [
    "#В этом ноутбуке нет большей части описательной статистики для исследования данных, так как это все было проделано в ноубтуке \n",
    "#Итоговая работа_датасет_с_когортами"
   ]
  },
  {
   "cell_type": "code",
   "execution_count": 4,
   "metadata": {},
   "outputs": [],
   "source": [
    "#Удалить дубликаты\n",
    "Online_Retail_dt.duplicated().sum()\n",
    "Online_Retail_dt = Online_Retail_dt.drop_duplicates()"
   ]
  },
  {
   "cell_type": "code",
   "execution_count": 5,
   "metadata": {},
   "outputs": [],
   "source": [
    "#Преобразование InvoiceDate в нормальную дату\n",
    "from datetime import datetime\n",
    "import datetime as dt\n",
    "Online_Retail_dt['InvoiceDate'] = pd.to_datetime(Online_Retail_dt['InvoiceDate'])"
   ]
  },
  {
   "cell_type": "code",
   "execution_count": 6,
   "metadata": {},
   "outputs": [],
   "source": [
    "#Преобразовать CustomerID в объект\n",
    "Online_Retail_dt.CustomerID=Online_Retail_dt.CustomerID.astype('object')"
   ]
  },
  {
   "cell_type": "code",
   "execution_count": 7,
   "metadata": {},
   "outputs": [],
   "source": [
    "#Преобразовать UnitPrice в число\n",
    "Online_Retail_dt.UnitPrice=Online_Retail_dt.UnitPrice.replace(regex=r'(,)', value='.')\n",
    "Online_Retail_dt.UnitPrice=Online_Retail_dt.UnitPrice.astype('float')"
   ]
  },
  {
   "cell_type": "code",
   "execution_count": 9,
   "metadata": {},
   "outputs": [],
   "source": [
    "#Добавить столбец с выручкой\n",
    "Online_Retail_dt['Gross_revenue']=\\\n",
    "Online_Retail_dt['Quantity']*Online_Retail_dt['UnitPrice']"
   ]
  },
  {
   "cell_type": "code",
   "execution_count": 8,
   "metadata": {},
   "outputs": [],
   "source": [
    "#Проверка и удаление пустых значений в CustomerID\n",
    "Online_Retail_dt.loc[Online_Retail_dt.CustomerID.isnull()]\n",
    "Online_Retail_dt=Online_Retail_dt.dropna(subset=['CustomerID'])"
   ]
  },
  {
   "cell_type": "code",
   "execution_count": 10,
   "metadata": {},
   "outputs": [],
   "source": [
    "#Проверка и удаление  пустых значений в Description\n",
    "Online_Retail_dt.loc[Online_Retail_dt.Description.isnull()].head()\n",
    "Online_Retail_dt=Online_Retail_dt.dropna(subset=['Description'])"
   ]
  },
  {
   "cell_type": "code",
   "execution_count": 11,
   "metadata": {},
   "outputs": [
    {
     "name": "stdout",
     "output_type": "stream",
     "text": [
      "<class 'pandas.core.frame.DataFrame'>\n",
      "Int64Index: 40593 entries, 0 to 54213\n",
      "Data columns (total 9 columns):\n",
      "InvoiceNo        40593 non-null object\n",
      "StockCode        40593 non-null object\n",
      "Description      40593 non-null object\n",
      "Quantity         40593 non-null int64\n",
      "InvoiceDate      40593 non-null datetime64[ns]\n",
      "UnitPrice        40593 non-null float64\n",
      "CustomerID       40593 non-null object\n",
      "Country          40593 non-null object\n",
      "Gross_revenue    40593 non-null float64\n",
      "dtypes: datetime64[ns](1), float64(2), int64(1), object(5)\n",
      "memory usage: 3.1+ MB\n"
     ]
    }
   ],
   "source": [
    "Online_Retail_dt.info()"
   ]
  },
  {
   "cell_type": "code",
   "execution_count": null,
   "metadata": {},
   "outputs": [],
   "source": [
    "#Есть отрицательные значения в количестве, видимо возвраты.Уберем эти значения из основного датасета"
   ]
  },
  {
   "cell_type": "code",
   "execution_count": 12,
   "metadata": {},
   "outputs": [],
   "source": [
    "Online_Retail_dt = Online_Retail_dt.query('Quantity > 0 and UnitPrice > 0')"
   ]
  },
  {
   "cell_type": "code",
   "execution_count": 13,
   "metadata": {},
   "outputs": [
    {
     "data": {
      "text/html": [
       "<div>\n",
       "<style scoped>\n",
       "    .dataframe tbody tr th:only-of-type {\n",
       "        vertical-align: middle;\n",
       "    }\n",
       "\n",
       "    .dataframe tbody tr th {\n",
       "        vertical-align: top;\n",
       "    }\n",
       "\n",
       "    .dataframe thead th {\n",
       "        text-align: right;\n",
       "    }\n",
       "</style>\n",
       "<table border=\"1\" class=\"dataframe\">\n",
       "  <thead>\n",
       "    <tr style=\"text-align: right;\">\n",
       "      <th></th>\n",
       "      <th>Country</th>\n",
       "      <th>StockCode</th>\n",
       "      <th>Description</th>\n",
       "      <th>Quantity</th>\n",
       "      <th>Gross_revenue</th>\n",
       "      <th>UnitPrice</th>\n",
       "    </tr>\n",
       "  </thead>\n",
       "  <tbody>\n",
       "    <tr>\n",
       "      <th>0</th>\n",
       "      <td>Australia</td>\n",
       "      <td>20675</td>\n",
       "      <td>BLUE POLKADOT BOWL</td>\n",
       "      <td>72</td>\n",
       "      <td>76.32</td>\n",
       "      <td>1.06</td>\n",
       "    </tr>\n",
       "    <tr>\n",
       "      <th>1</th>\n",
       "      <td>Australia</td>\n",
       "      <td>20712</td>\n",
       "      <td>JUMBO BAG WOODLAND ANIMALS</td>\n",
       "      <td>10</td>\n",
       "      <td>20.80</td>\n",
       "      <td>2.08</td>\n",
       "    </tr>\n",
       "    <tr>\n",
       "      <th>2</th>\n",
       "      <td>Australia</td>\n",
       "      <td>20713</td>\n",
       "      <td>JUMBO BAG OWLS</td>\n",
       "      <td>10</td>\n",
       "      <td>19.50</td>\n",
       "      <td>1.95</td>\n",
       "    </tr>\n",
       "    <tr>\n",
       "      <th>3</th>\n",
       "      <td>Australia</td>\n",
       "      <td>20725</td>\n",
       "      <td>LUNCH BAG RED RETROSPOT</td>\n",
       "      <td>20</td>\n",
       "      <td>33.00</td>\n",
       "      <td>1.65</td>\n",
       "    </tr>\n",
       "    <tr>\n",
       "      <th>4</th>\n",
       "      <td>Australia</td>\n",
       "      <td>20726</td>\n",
       "      <td>LUNCH BAG WOODLAND</td>\n",
       "      <td>10</td>\n",
       "      <td>16.50</td>\n",
       "      <td>1.65</td>\n",
       "    </tr>\n",
       "  </tbody>\n",
       "</table>\n",
       "</div>"
      ],
      "text/plain": [
       "     Country StockCode                 Description  Quantity  Gross_revenue  \\\n",
       "0  Australia     20675          BLUE POLKADOT BOWL        72          76.32   \n",
       "1  Australia     20712  JUMBO BAG WOODLAND ANIMALS        10          20.80   \n",
       "2  Australia     20713              JUMBO BAG OWLS        10          19.50   \n",
       "3  Australia     20725     LUNCH BAG RED RETROSPOT        20          33.00   \n",
       "4  Australia     20726          LUNCH BAG WOODLAND        10          16.50   \n",
       "\n",
       "   UnitPrice  \n",
       "0       1.06  \n",
       "1       2.08  \n",
       "2       1.95  \n",
       "3       1.65  \n",
       "4       1.65  "
      ]
     },
     "execution_count": 13,
     "metadata": {},
     "output_type": "execute_result"
    }
   ],
   "source": [
    "#Группиуем по товарам, чтобы определить общее количество купленных единиц, общую выручку, среднюю ценю и с каких странах покупают\n",
    "Product_groups=Online_Retail_dt.groupby(['Country','StockCode', 'Description'], as_index=False)\\\n",
    ".aggregate({'Quantity':'sum','Gross_revenue':'sum','UnitPrice':'mean'})\n",
    "\n",
    "Product_groups.head()"
   ]
  },
  {
   "cell_type": "code",
   "execution_count": 14,
   "metadata": {},
   "outputs": [],
   "source": [
    "Product_groups.to_csv(r'C:\\Users\\Александра\\Downloads\\Untitled Folder\\Product_groups.csv', index = None, header=True)"
   ]
  },
  {
   "cell_type": "code",
   "execution_count": 15,
   "metadata": {},
   "outputs": [
    {
     "data": {
      "text/html": [
       "<div>\n",
       "<style scoped>\n",
       "    .dataframe tbody tr th:only-of-type {\n",
       "        vertical-align: middle;\n",
       "    }\n",
       "\n",
       "    .dataframe tbody tr th {\n",
       "        vertical-align: top;\n",
       "    }\n",
       "\n",
       "    .dataframe thead th {\n",
       "        text-align: right;\n",
       "    }\n",
       "</style>\n",
       "<table border=\"1\" class=\"dataframe\">\n",
       "  <thead>\n",
       "    <tr style=\"text-align: right;\">\n",
       "      <th></th>\n",
       "      <th>Country</th>\n",
       "      <th>Gross_revenue</th>\n",
       "      <th>InvoiceNo</th>\n",
       "      <th>CustomerID</th>\n",
       "    </tr>\n",
       "  </thead>\n",
       "  <tbody>\n",
       "    <tr>\n",
       "      <th>0</th>\n",
       "      <td>Australia</td>\n",
       "      <td>17156.59</td>\n",
       "      <td>32</td>\n",
       "      <td>8</td>\n",
       "    </tr>\n",
       "    <tr>\n",
       "      <th>1</th>\n",
       "      <td>Austria</td>\n",
       "      <td>1036.27</td>\n",
       "      <td>13</td>\n",
       "      <td>9</td>\n",
       "    </tr>\n",
       "    <tr>\n",
       "      <th>2</th>\n",
       "      <td>Bahrain</td>\n",
       "      <td>17.70</td>\n",
       "      <td>1</td>\n",
       "      <td>1</td>\n",
       "    </tr>\n",
       "    <tr>\n",
       "      <th>3</th>\n",
       "      <td>Belgium</td>\n",
       "      <td>4066.66</td>\n",
       "      <td>81</td>\n",
       "      <td>24</td>\n",
       "    </tr>\n",
       "    <tr>\n",
       "      <th>4</th>\n",
       "      <td>Brazil</td>\n",
       "      <td>79.80</td>\n",
       "      <td>1</td>\n",
       "      <td>1</td>\n",
       "    </tr>\n",
       "  </tbody>\n",
       "</table>\n",
       "</div>"
      ],
      "text/plain": [
       "     Country  Gross_revenue  InvoiceNo  CustomerID\n",
       "0  Australia       17156.59         32           8\n",
       "1    Austria        1036.27         13           9\n",
       "2    Bahrain          17.70          1           1\n",
       "3    Belgium        4066.66         81          24\n",
       "4     Brazil          79.80          1           1"
      ]
     },
     "execution_count": 15,
     "metadata": {},
     "output_type": "execute_result"
    }
   ],
   "source": [
    "#Сгруппируем по странам, чтобы посмотреть количество продаж (уникальных инвойсов), количество покупателей, выручку\n",
    "Country_groups=Online_Retail_dt.groupby(['Country'], as_index=False)\\\n",
    ".aggregate({'Gross_revenue':'sum', 'InvoiceNo':'nunique', 'CustomerID':'nunique'})\n",
    "\n",
    "\n",
    "Country_groups.head()"
   ]
  },
  {
   "cell_type": "code",
   "execution_count": 16,
   "metadata": {},
   "outputs": [],
   "source": [
    "#Добавим средний чек\n",
    "Country_groups['Average_order_value']=Country_groups.Gross_revenue/Country_groups.InvoiceNo"
   ]
  },
  {
   "cell_type": "code",
   "execution_count": 17,
   "metadata": {},
   "outputs": [],
   "source": [
    "#Добавим средний на покупателя\n",
    "Country_groups['Average_order_value_per_customer']=Country_groups.Gross_revenue/Country_groups.CustomerID"
   ]
  },
  {
   "cell_type": "code",
   "execution_count": 18,
   "metadata": {},
   "outputs": [
    {
     "data": {
      "text/html": [
       "<div>\n",
       "<style scoped>\n",
       "    .dataframe tbody tr th:only-of-type {\n",
       "        vertical-align: middle;\n",
       "    }\n",
       "\n",
       "    .dataframe tbody tr th {\n",
       "        vertical-align: top;\n",
       "    }\n",
       "\n",
       "    .dataframe thead th {\n",
       "        text-align: right;\n",
       "    }\n",
       "</style>\n",
       "<table border=\"1\" class=\"dataframe\">\n",
       "  <thead>\n",
       "    <tr style=\"text-align: right;\">\n",
       "      <th></th>\n",
       "      <th>Country</th>\n",
       "      <th>Gross_revenue</th>\n",
       "      <th>InvoiceNo</th>\n",
       "      <th>CustomerID</th>\n",
       "      <th>Average_order_value</th>\n",
       "      <th>Average_order_value_per_customer</th>\n",
       "    </tr>\n",
       "  </thead>\n",
       "  <tbody>\n",
       "    <tr>\n",
       "      <th>0</th>\n",
       "      <td>Australia</td>\n",
       "      <td>17156.59</td>\n",
       "      <td>32</td>\n",
       "      <td>8</td>\n",
       "      <td>536.143437</td>\n",
       "      <td>2144.573750</td>\n",
       "    </tr>\n",
       "    <tr>\n",
       "      <th>1</th>\n",
       "      <td>Austria</td>\n",
       "      <td>1036.27</td>\n",
       "      <td>13</td>\n",
       "      <td>9</td>\n",
       "      <td>79.713077</td>\n",
       "      <td>115.141111</td>\n",
       "    </tr>\n",
       "    <tr>\n",
       "      <th>2</th>\n",
       "      <td>Bahrain</td>\n",
       "      <td>17.70</td>\n",
       "      <td>1</td>\n",
       "      <td>1</td>\n",
       "      <td>17.700000</td>\n",
       "      <td>17.700000</td>\n",
       "    </tr>\n",
       "    <tr>\n",
       "      <th>3</th>\n",
       "      <td>Belgium</td>\n",
       "      <td>4066.66</td>\n",
       "      <td>81</td>\n",
       "      <td>24</td>\n",
       "      <td>50.205679</td>\n",
       "      <td>169.444167</td>\n",
       "    </tr>\n",
       "    <tr>\n",
       "      <th>4</th>\n",
       "      <td>Brazil</td>\n",
       "      <td>79.80</td>\n",
       "      <td>1</td>\n",
       "      <td>1</td>\n",
       "      <td>79.800000</td>\n",
       "      <td>79.800000</td>\n",
       "    </tr>\n",
       "  </tbody>\n",
       "</table>\n",
       "</div>"
      ],
      "text/plain": [
       "     Country  Gross_revenue  InvoiceNo  CustomerID  Average_order_value  \\\n",
       "0  Australia       17156.59         32           8           536.143437   \n",
       "1    Austria        1036.27         13           9            79.713077   \n",
       "2    Bahrain          17.70          1           1            17.700000   \n",
       "3    Belgium        4066.66         81          24            50.205679   \n",
       "4     Brazil          79.80          1           1            79.800000   \n",
       "\n",
       "   Average_order_value_per_customer  \n",
       "0                       2144.573750  \n",
       "1                        115.141111  \n",
       "2                         17.700000  \n",
       "3                        169.444167  \n",
       "4                         79.800000  "
      ]
     },
     "execution_count": 18,
     "metadata": {},
     "output_type": "execute_result"
    }
   ],
   "source": [
    "Country_groups.head()"
   ]
  },
  {
   "cell_type": "code",
   "execution_count": 19,
   "metadata": {},
   "outputs": [],
   "source": [
    "#Топ-15 стран по выручке\n",
    "Top_Country_groups=Country_groups.sort_values('Gross_revenue', ascending=False).head(15)\n",
    "Top_Country_groups=Top_Country_groups.sort_values('Gross_revenue')"
   ]
  },
  {
   "cell_type": "code",
   "execution_count": 20,
   "metadata": {},
   "outputs": [],
   "source": [
    "import matplotlib.pyplot as plt\n",
    "import seaborn as sns"
   ]
  },
  {
   "cell_type": "code",
   "execution_count": 22,
   "metadata": {},
   "outputs": [
    {
     "data": {
      "image/png": "[encoded data removed]",
      "text/plain": [
       "<Figure size 432x288 with 1 Axes>"
      ]
     },
     "metadata": {
      "needs_background": "light"
     },
     "output_type": "display_data"
    }
   ],
   "source": [
    "\n",
    "plt.barh(Top_Country_groups['Country'], Top_Country_groups['Gross_revenue'])\n",
    "plt.xlabel('Gross_revenue')\n",
    "plt.ylabel('Country')\n",
    "plt.title('Top 15 Country')\n",
    "plt.grid()"
   ]
  },
  {
   "cell_type": "code",
   "execution_count": 21,
   "metadata": {},
   "outputs": [],
   "source": [
    "#Топ-15 стран по среднему чеку\n",
    "Top_Country_groups_order_value=Country_groups.sort_values('Average_order_value', ascending=False).head(15)\n",
    "Top_Country_groups_order_value=Top_Country_groups_order_value.sort_values('Average_order_value')"
   ]
  },
  {
   "cell_type": "code",
   "execution_count": 23,
   "metadata": {},
   "outputs": [
    {
     "data": {
      "image/png": "[encoded data removed]",
      "text/plain": [
       "<Figure size 432x288 with 1 Axes>"
      ]
     },
     "metadata": {
      "needs_background": "light"
     },
     "output_type": "display_data"
    }
   ],
   "source": [
    "plt.barh(Top_Country_groups_order_value['Country'], Top_Country_groups_order_value['Average_order_value'])\n",
    "plt.xlabel('Average_order_value')\n",
    "plt.ylabel('Country')\n",
    "plt.title('Top 15 Country')\n",
    "plt.grid()"
   ]
  },
  {
   "cell_type": "code",
   "execution_count": 24,
   "metadata": {},
   "outputs": [],
   "source": [
    "#Топ-15 стран по среднему чеку на человека\n",
    "Top_Country_groups_order_value_per_customer=Country_groups.sort_values('Average_order_value_per_customer', ascending=False).head(15)\n",
    "Top_Country_groups_order_value_per_customer=Top_Country_groups_order_value_per_customer.sort_values('Average_order_value_per_customer')"
   ]
  },
  {
   "cell_type": "code",
   "execution_count": 25,
   "metadata": {},
   "outputs": [
    {
     "data": {
      "image/png": "[encoded data removed]",
      "text/plain": [
       "<Figure size 432x288 with 1 Axes>"
      ]
     },
     "metadata": {
      "needs_background": "light"
     },
     "output_type": "display_data"
    }
   ],
   "source": [
    "plt.barh(Top_Country_groups_order_value_per_customer['Country'], Top_Country_groups_order_value_per_customer['Average_order_value_per_customer'])\n",
    "plt.xlabel('Average_order_value_per_customer')\n",
    "plt.ylabel('Country')\n",
    "plt.title('Top 15 Country')\n",
    "plt.grid()"
   ]
  },
  {
   "cell_type": "code",
   "execution_count": 75,
   "metadata": {},
   "outputs": [],
   "source": [
    "Country_groups.to_csv(r'C:\\Users\\Александра\\Downloads\\Untitled Folder\\Country_groups.csv', index = None, header=True)"
   ]
  },
  {
   "cell_type": "code",
   "execution_count": null,
   "metadata": {},
   "outputs": [],
   "source": []
  }
 ],
 "metadata": {
  "kernelspec": {
   "display_name": "Python 3",
   "language": "python",
   "name": "python3"
  },
  "language_info": {
   "codemirror_mode": {
    "name": "ipython",
    "version": 3
   },
   "file_extension": ".py",
   "mimetype": "text/x-python",
   "name": "python",
   "nbconvert_exporter": "python",
   "pygments_lexer": "ipython3",
   "version": "3.7.3"
  }
 },
 "nbformat": 4,
 "nbformat_minor": 2
}
